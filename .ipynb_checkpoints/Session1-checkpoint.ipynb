{
 "cells": [
  {
   "cell_type": "code",
   "execution_count": 1,
   "id": "25eb4e19-3a51-4885-a232-75be0c79fcf0",
   "metadata": {},
   "outputs": [
    {
     "name": "stdout",
     "output_type": "stream",
     "text": [
      "30\n"
     ]
    }
   ],
   "source": [
    "a = 10\n",
    "b = 20\n",
    "print(a+b)"
   ]
  },
  {
   "cell_type": "markdown",
   "id": "9eb02865-a354-4951-831e-a14e7fc6c627",
   "metadata": {},
   "source": [
    "#### to convert a cell to markdown mode -> esc + m\n",
    "#### to convert a cell to code mode -> esc + y \n",
    "#### to delete a cell -> esc + x\n",
    "#### add cell above -> esc + a\n",
    "#### add cell above -> esc + b\n",
    "##### a=10\n",
    "##### b=20\n",
    "##### print(a)"
   ]
  },
  {
   "cell_type": "markdown",
   "id": "f7eb44c9-fa53-4bcd-a3de-2eae337a3c99",
   "metadata": {},
   "source": [
    "#### .ipynb (refers to integrated python notebook)"
   ]
  },
  {
   "cell_type": "markdown",
   "id": "a58c7c78-47e8-467b-ab0b-7cab88008212",
   "metadata": {},
   "source": []
  },
  {
   "cell_type": "markdown",
   "id": "22007bb4-683e-41a5-a53f-a79860e1feba",
   "metadata": {},
   "source": [
    "### Input / Output in Python"
   ]
  },
  {
   "cell_type": "code",
   "execution_count": 3,
   "id": "8ced19ff-8f04-488b-8cb7-5453ac367b65",
   "metadata": {},
   "outputs": [
    {
     "name": "stdin",
     "output_type": "stream",
     "text": [
      "Enter the following:  10\n"
     ]
    }
   ],
   "source": [
    "a = input(\"Enter the following: \")"
   ]
  },
  {
   "cell_type": "code",
   "execution_count": 4,
   "id": "fb97be19-7106-4c1c-bd10-e17b4ec3a181",
   "metadata": {},
   "outputs": [
    {
     "data": {
      "text/plain": [
       "'10'"
      ]
     },
     "execution_count": 4,
     "metadata": {},
     "output_type": "execute_result"
    }
   ],
   "source": [
    "a"
   ]
  },
  {
   "cell_type": "code",
   "execution_count": 5,
   "id": "9814233e-f9c1-4c4c-b28c-dd2d8496d6b5",
   "metadata": {},
   "outputs": [
    {
     "data": {
      "text/plain": [
       "str"
      ]
     },
     "execution_count": 5,
     "metadata": {},
     "output_type": "execute_result"
    }
   ],
   "source": [
    "type(a)"
   ]
  },
  {
   "cell_type": "code",
   "execution_count": 7,
   "id": "71f42e56-8926-4c81-9115-4d8fe515c664",
   "metadata": {},
   "outputs": [
    {
     "name": "stdin",
     "output_type": "stream",
     "text": [
      "Enter the following to take the input :  10\n"
     ]
    },
    {
     "name": "stdout",
     "output_type": "stream",
     "text": [
      "10\n"
     ]
    }
   ],
   "source": [
    "a = int(input(\"Enter the following to take the input : \"))\n",
    "print(a)"
   ]
  },
  {
   "cell_type": "markdown",
   "id": "072ad34f-e434-47f8-a5c6-14267b4a48c2",
   "metadata": {},
   "source": [
    "print is used to give the output "
   ]
  },
  {
   "cell_type": "code",
   "execution_count": 8,
   "id": "90ec5043-a4ab-4ef7-b21c-426b912fc062",
   "metadata": {},
   "outputs": [
    {
     "name": "stdout",
     "output_type": "stream",
     "text": [
      "10\n"
     ]
    }
   ],
   "source": [
    "print(a)"
   ]
  },
  {
   "cell_type": "code",
   "execution_count": 11,
   "id": "fe5ea178-9ce6-47f6-8066-becf9c20d1e2",
   "metadata": {},
   "outputs": [
    {
     "name": "stdout",
     "output_type": "stream",
     "text": [
      "the value that i want to print is 10\n"
     ]
    }
   ],
   "source": [
    "print(\"the value that i want to print is\",a)"
   ]
  },
  {
   "cell_type": "markdown",
   "id": "3da0c006-3c2a-41a6-8514-f178636b95f7",
   "metadata": {},
   "source": [
    "## Note :- In Python None data type is a space holder that will be occupied with None data type"
   ]
  },
  {
   "cell_type": "code",
   "execution_count": 13,
   "id": "e3221c33-4dd6-4e0b-aa48-799464c0dd3b",
   "metadata": {},
   "outputs": [
    {
     "name": "stdout",
     "output_type": "stream",
     "text": [
      "range(0, 5)\n"
     ]
    }
   ],
   "source": [
    "a = range(5)\n",
    "print(a)"
   ]
  },
  {
   "cell_type": "markdown",
   "id": "208080ee-3870-427e-8a06-854723dba866",
   "metadata": {},
   "source": [
    "it will give the range from 0 to (specified number-1)\n",
    "in above example -> 0 1 2 3 4"
   ]
  },
  {
   "cell_type": "code",
   "execution_count": 15,
   "id": "4607d252-e5d3-45dd-afcb-aea332515960",
   "metadata": {},
   "outputs": [
    {
     "name": "stdout",
     "output_type": "stream",
     "text": [
      "0\n",
      "1\n",
      "2\n",
      "3\n",
      "4\n"
     ]
    }
   ],
   "source": [
    "for i in a :\n",
    "    print(i)"
   ]
  },
  {
   "cell_type": "code",
   "execution_count": 16,
   "id": "fe815ff3-f998-4715-bd4c-5b9f2ca0e1f6",
   "metadata": {},
   "outputs": [
    {
     "name": "stdout",
     "output_type": "stream",
     "text": [
      "3\n",
      "4\n",
      "5\n",
      "6\n"
     ]
    }
   ],
   "source": [
    "b=range(3,7)\n",
    "for i in b:\n",
    "    print(i)"
   ]
  },
  {
   "cell_type": "code",
   "execution_count": 17,
   "id": "3070034c-efcd-4f04-b8dd-17b3e76e4910",
   "metadata": {},
   "outputs": [
    {
     "name": "stdout",
     "output_type": "stream",
     "text": [
      "(7+8j) <class 'complex'>\n"
     ]
    }
   ],
   "source": [
    "comp = 7+8j\n",
    "print(comp,type(comp))"
   ]
  },
  {
   "cell_type": "code",
   "execution_count": 18,
   "id": "e65ea31d-c24e-456b-8341-73fc4bfd500c",
   "metadata": {},
   "outputs": [
    {
     "data": {
      "text/plain": [
       "7.0"
      ]
     },
     "execution_count": 18,
     "metadata": {},
     "output_type": "execute_result"
    }
   ],
   "source": [
    "comp.real"
   ]
  },
  {
   "cell_type": "code",
   "execution_count": 19,
   "id": "2e3e4ab9-9426-46e4-9871-d5dbe7da12d2",
   "metadata": {},
   "outputs": [
    {
     "data": {
      "text/plain": [
       "8.0"
      ]
     },
     "execution_count": 19,
     "metadata": {},
     "output_type": "execute_result"
    }
   ],
   "source": [
    "comp.imag"
   ]
  },
  {
   "cell_type": "markdown",
   "id": "99329990-a126-4944-91a4-36d44f1c8da5",
   "metadata": {},
   "source": [
    "# Derived/Container type datatype\n"
   ]
  },
  {
   "cell_type": "markdown",
   "id": "bd4e7319-2374-47a9-b0e3-c9ae3a3cff08",
   "metadata": {},
   "source": [
    "List\n",
    "Tuples\n",
    "Dictionary\n",
    "Set\n",
    "Frozenset"
   ]
  },
  {
   "cell_type": "markdown",
   "id": "cd6b56e5-f2ad-4d8d-ad7a-0e28bce89cc7",
   "metadata": {},
   "source": [
    "### List"
   ]
  },
  {
   "cell_type": "markdown",
   "id": "aa5424aa-c344-4a54-9ed1-e6860117daaa",
   "metadata": {},
   "source": [
    "-> Anything written inside square brackets is called List [--,--,--]\n",
    "-> Can store multiple datatypes simultaneously\n",
    "-> It can have duplicate values in it\n",
    "-> they are mutable (it means without changing the memory location, we can modify the list)"
   ]
  },
  {
   "cell_type": "code",
   "execution_count": 33,
   "id": "b5999c8a-363b-4aa3-bae6-2ce40a2b2e2a",
   "metadata": {},
   "outputs": [
    {
     "name": "stdout",
     "output_type": "stream",
     "text": [
      "[1, 2, 3, (4+5j), 'Hello'] <class 'list'>\n"
     ]
    }
   ],
   "source": [
    "ls = [1,2,3,4+5j,\"Hello\"]\n",
    "print(ls,type(ls))"
   ]
  },
  {
   "cell_type": "code",
   "execution_count": 34,
   "id": "1ce576dc-7dc7-4f34-8293-f19004713b1a",
   "metadata": {},
   "outputs": [
    {
     "name": "stdout",
     "output_type": "stream",
     "text": [
      "[1, 2, 5, (4+5j), 'Hello']\n"
     ]
    }
   ],
   "source": [
    "ls[2]=5\n",
    "print(ls)"
   ]
  },
  {
   "cell_type": "markdown",
   "id": "8e2c465c-e0fe-4eed-9e0e-8aeeca87bdb2",
   "metadata": {},
   "source": [
    "##### id gives the memory location"
   ]
  },
  {
   "cell_type": "code",
   "execution_count": 35,
   "id": "30497fbb-517b-4f89-a885-7623d2ed9fd0",
   "metadata": {},
   "outputs": [
    {
     "data": {
      "text/plain": [
       "2644305688128"
      ]
     },
     "execution_count": 35,
     "metadata": {},
     "output_type": "execute_result"
    }
   ],
   "source": [
    "id(ls)"
   ]
  },
  {
   "cell_type": "code",
   "execution_count": 36,
   "id": "5c08f903-8ce9-4d15-879e-dbbda6b82b6c",
   "metadata": {},
   "outputs": [
    {
     "name": "stdout",
     "output_type": "stream",
     "text": [
      "[1, 2, 5, (4+5j), 'Hello', 245]\n"
     ]
    }
   ],
   "source": [
    "ls.append(245)\n",
    "print(ls)"
   ]
  },
  {
   "cell_type": "markdown",
   "id": "12583485-a42a-42b6-8a82-d56e467f57a4",
   "metadata": {},
   "source": [
    "### Tuple"
   ]
  },
  {
   "cell_type": "markdown",
   "id": "b9d196b3-7c5a-45dd-9ee0-947b1c68dac9",
   "metadata": {},
   "source": [
    "Anything written inside closed bracket (--,--,--)\n",
    "Tuples are immutable"
   ]
  },
  {
   "cell_type": "code",
   "execution_count": 24,
   "id": "93bdeb00-8e92-4833-b3b3-41a2f543a3dc",
   "metadata": {},
   "outputs": [
    {
     "name": "stdout",
     "output_type": "stream",
     "text": [
      "(1, 2, 3, (4+5j), 'Hello')\n"
     ]
    }
   ],
   "source": [
    "tu = (1,2,3,4+5j,\"Hello\")\n",
    "print(tu)"
   ]
  },
  {
   "cell_type": "markdown",
   "id": "17d7664e-7dac-461f-ad9c-8a43e90d5906",
   "metadata": {},
   "source": [
    "tu[1]=5  -> gives the error"
   ]
  },
  {
   "cell_type": "code",
   "execution_count": null,
   "id": "60fa12ec-165e-4912-8052-c02a5fb82bf8",
   "metadata": {},
   "outputs": [],
   "source": []
  }
 ],
 "metadata": {
  "kernelspec": {
   "display_name": "Python 3 (ipykernel)",
   "language": "python",
   "name": "python3"
  },
  "language_info": {
   "codemirror_mode": {
    "name": "ipython",
    "version": 3
   },
   "file_extension": ".py",
   "mimetype": "text/x-python",
   "name": "python",
   "nbconvert_exporter": "python",
   "pygments_lexer": "ipython3",
   "version": "3.11.7"
  }
 },
 "nbformat": 4,
 "nbformat_minor": 5
}
