{
 "cells": [
  {
   "cell_type": "code",
   "execution_count": 2,
   "id": "c8b5b967-2168-4b49-a20d-12e53ede8541",
   "metadata": {},
   "outputs": [],
   "source": [
    "import numpy as np"
   ]
  },
  {
   "cell_type": "code",
   "execution_count": 3,
   "id": "ff657cc1-4d5a-4ebd-a689-6b470273c3f3",
   "metadata": {},
   "outputs": [],
   "source": [
    "import pandas as pd"
   ]
  },
  {
   "cell_type": "code",
   "execution_count": 4,
   "id": "3cb3dc46-53d1-477c-9abd-c2b1ec191055",
   "metadata": {},
   "outputs": [],
   "source": [
    "s = 'Hello There i am SUbrat'"
   ]
  },
  {
   "cell_type": "code",
   "execution_count": 5,
   "id": "8cf29fce-3799-408e-9d60-fdb2a8f2d811",
   "metadata": {},
   "outputs": [
    {
     "data": {
      "text/plain": [
       "' '"
      ]
     },
     "execution_count": 5,
     "metadata": {},
     "output_type": "execute_result"
    }
   ],
   "source": [
    "s[5]"
   ]
  },
  {
   "cell_type": "code",
   "execution_count": 6,
   "id": "4fc3798d-fc50-44f3-98f4-1b5c9fce0ed2",
   "metadata": {},
   "outputs": [
    {
     "name": "stdout",
     "output_type": "stream",
     "text": [
      "T e\n"
     ]
    }
   ],
   "source": [
    "print(s[6]+' '+s[10])"
   ]
  },
  {
   "cell_type": "markdown",
   "id": "69d3308d-fb5e-40a6-a3c7-5c4ae324020b",
   "metadata": {},
   "source": [
    "### Fetch using positive and negative indexing"
   ]
  },
  {
   "cell_type": "code",
   "execution_count": 7,
   "id": "4ef32f93-9b77-45b9-83bf-08d9713158f0",
   "metadata": {},
   "outputs": [
    {
     "data": {
      "text/plain": [
       "'b'"
      ]
     },
     "execution_count": 7,
     "metadata": {},
     "output_type": "execute_result"
    }
   ],
   "source": [
    "s[-4]"
   ]
  },
  {
   "cell_type": "code",
   "execution_count": 8,
   "id": "d820bf59-b95c-49b4-8fe6-894254d7130c",
   "metadata": {},
   "outputs": [
    {
     "data": {
      "text/plain": [
       "23"
      ]
     },
     "execution_count": 8,
     "metadata": {},
     "output_type": "execute_result"
    }
   ],
   "source": [
    "len(s)"
   ]
  },
  {
   "cell_type": "code",
   "execution_count": 9,
   "id": "4a1c63c5-d5e3-4a42-8a37-15ba1eeeca15",
   "metadata": {},
   "outputs": [
    {
     "data": {
      "text/plain": [
       "str"
      ]
     },
     "execution_count": 9,
     "metadata": {},
     "output_type": "execute_result"
    }
   ],
   "source": [
    "type(s)"
   ]
  },
  {
   "cell_type": "code",
   "execution_count": 10,
   "id": "52879425-e093-469e-9abb-c49c072e4638",
   "metadata": {},
   "outputs": [
    {
     "name": "stdout",
     "output_type": "stream",
     "text": [
      "0 H\n",
      "1 e\n",
      "2 l\n",
      "3 l\n",
      "4 o\n",
      "5  \n",
      "6 T\n",
      "7 h\n",
      "8 e\n",
      "9 r\n",
      "10 e\n",
      "11  \n",
      "12 i\n",
      "13  \n",
      "14 a\n",
      "15 m\n",
      "16  \n",
      "17 S\n",
      "18 U\n",
      "19 b\n",
      "20 r\n",
      "21 a\n",
      "22 t\n"
     ]
    }
   ],
   "source": [
    "# Positive Indexing\n",
    "for i in range(len(s)):\n",
    "    print(i,s[i])"
   ]
  },
  {
   "cell_type": "code",
   "execution_count": 11,
   "id": "10fdc9f7-f621-4dbd-a2af-fa3c934e498a",
   "metadata": {},
   "outputs": [
    {
     "name": "stdout",
     "output_type": "stream",
     "text": [
      "-1 t\n",
      "-2 a\n",
      "-3 r\n",
      "-4 b\n",
      "-5 U\n",
      "-6 S\n",
      "-7  \n",
      "-8 m\n",
      "-9 a\n",
      "-10  \n",
      "-11 i\n",
      "-12  \n",
      "-13 e\n",
      "-14 r\n",
      "-15 e\n",
      "-16 h\n",
      "-17 T\n",
      "-18  \n",
      "-19 o\n",
      "-20 l\n",
      "-21 l\n",
      "-22 e\n",
      "-23 H\n"
     ]
    }
   ],
   "source": [
    "for i in range(1,len(s)+1):\n",
    "    print(-i,s[-i])"
   ]
  },
  {
   "cell_type": "code",
   "execution_count": null,
   "id": "065bfca5-5a62-4613-b292-b9c03a010e50",
   "metadata": {},
   "outputs": [],
   "source": []
  },
  {
   "cell_type": "markdown",
   "id": "6168ad22-892c-4c46-8818-d538dce5463d",
   "metadata": {},
   "source": [
    "### Slicing -> Indexing and Concatenation application"
   ]
  },
  {
   "cell_type": "markdown",
   "id": "bc213a7f-01ae-4222-ace5-dac2975f3326",
   "metadata": {},
   "source": [
    "##### Slicing can be used with both positive indexing as well as negative indexing"
   ]
  },
  {
   "cell_type": "code",
   "execution_count": 12,
   "id": "45a3d8b9-c090-4f18-b5ed-cd530fcbc8a3",
   "metadata": {},
   "outputs": [
    {
     "data": {
      "text/plain": [
       "'Hello There i am SUbrat'"
      ]
     },
     "execution_count": 12,
     "metadata": {},
     "output_type": "execute_result"
    }
   ],
   "source": [
    "s"
   ]
  },
  {
   "cell_type": "code",
   "execution_count": 13,
   "id": "2bb1147d-944e-41b0-95ba-66dd2af0211d",
   "metadata": {},
   "outputs": [
    {
     "data": {
      "text/plain": [
       "'Hello There i am SUbrat'"
      ]
     },
     "execution_count": 13,
     "metadata": {},
     "output_type": "execute_result"
    }
   ],
   "source": [
    "s[:]"
   ]
  },
  {
   "cell_type": "code",
   "execution_count": 14,
   "id": "c05ac709-2d63-4eb0-9740-80db895e3b36",
   "metadata": {},
   "outputs": [
    {
     "data": {
      "text/plain": [
       "'o Ther'"
      ]
     },
     "execution_count": 14,
     "metadata": {},
     "output_type": "execute_result"
    }
   ],
   "source": [
    "s[4:10:1]"
   ]
  },
  {
   "cell_type": "code",
   "execution_count": 15,
   "id": "4e0280ce-c3ab-4a12-9ac3-4f92d4bd6cb9",
   "metadata": {},
   "outputs": [
    {
     "data": {
      "text/plain": [
       "'Hello T'"
      ]
     },
     "execution_count": 15,
     "metadata": {},
     "output_type": "execute_result"
    }
   ],
   "source": [
    "s[:7]"
   ]
  },
  {
   "cell_type": "markdown",
   "id": "7c8390b8-a9bc-44dc-a14b-b9ce3c136da9",
   "metadata": {},
   "source": [
    "### What it is doing internally -> Application of indexing and concatenation "
   ]
  },
  {
   "cell_type": "code",
   "execution_count": 16,
   "id": "9527ac05-f06c-4d53-856b-44cb6f124410",
   "metadata": {},
   "outputs": [
    {
     "name": "stdout",
     "output_type": "stream",
     "text": [
      "o Th\n"
     ]
    }
   ],
   "source": [
    "print(s[4:8:1])"
   ]
  },
  {
   "cell_type": "markdown",
   "id": "cffb4067-2535-4ede-8b4f-c67bb72d8fc0",
   "metadata": {},
   "source": [
    "Internally what is doing is s[4] + s[5] + s[6] + s[7] , if it is using the indexing first then it is concatenating with the next index , the next index is incrementing each time the index by jump value"
   ]
  },
  {
   "cell_type": "code",
   "execution_count": 17,
   "id": "5b014007-04ff-4ade-8c0d-a5390ded3ad5",
   "metadata": {},
   "outputs": [
    {
     "name": "stdout",
     "output_type": "stream",
     "text": [
      "o Th\n"
     ]
    }
   ],
   "source": [
    "print(s[4]+s[5]+s[6]+s[7])"
   ]
  },
  {
   "cell_type": "code",
   "execution_count": 18,
   "id": "7d3b4b10-a179-4b5f-9268-75093346c7c5",
   "metadata": {},
   "outputs": [
    {
     "name": "stdout",
     "output_type": "stream",
     "text": [
      "tarbUS ma i erehT olleH\n"
     ]
    }
   ],
   "source": [
    "print(s[::-1])"
   ]
  },
  {
   "cell_type": "markdown",
   "id": "dff25523-cb9a-4ee4-8dd1-d89cd66012ad",
   "metadata": {},
   "source": [
    "It is doing reverse because -1 step size is setting the direction as well , that we need to use negative indexing , also we know the default value of negative indexing is start at -1 and end at last index, it is doing s[-1] + s[-2] + s[-3]+ ..."
   ]
  },
  {
   "cell_type": "markdown",
   "id": "7017d6a5-db9f-44a2-b8e0-24d2fafe60d8",
   "metadata": {},
   "source": [
    "#### Ambiguity of direction leads to empty string"
   ]
  },
  {
   "cell_type": "code",
   "execution_count": 19,
   "id": "57876aa2-c7ad-4a47-9d93-1c2d2ad6c4e5",
   "metadata": {},
   "outputs": [
    {
     "name": "stdout",
     "output_type": "stream",
     "text": [
      "\n"
     ]
    }
   ],
   "source": [
    "print(s[-1:-5:1]) # that is why this is giving empty string since the index says go from right to left but the step direction says go from left to right"
   ]
  },
  {
   "cell_type": "code",
   "execution_count": 20,
   "id": "59cb973f-4886-4c16-aa2d-541f50c3319d",
   "metadata": {},
   "outputs": [
    {
     "name": "stdout",
     "output_type": "stream",
     "text": [
      "\n"
     ]
    }
   ],
   "source": [
    "print(s[-4:0:]) \n",
    "# this is also giving empty string since the first index -4 assumes that it is negative indexing , if we \n",
    "# take till 0 (which is a postive index first value),that creates an ambiguity"
   ]
  },
  {
   "cell_type": "code",
   "execution_count": 21,
   "id": "30fc9d46-7b5f-4b26-bc75-9b172f62e660",
   "metadata": {},
   "outputs": [
    {
     "data": {
      "text/plain": [
       "'ehT '"
      ]
     },
     "execution_count": 21,
     "metadata": {},
     "output_type": "execute_result"
    }
   ],
   "source": [
    "s[8:4:-1]"
   ]
  },
  {
   "cell_type": "code",
   "execution_count": 22,
   "id": "628b5751-0373-4066-8614-80508aa0acb3",
   "metadata": {},
   "outputs": [
    {
     "data": {
      "text/plain": [
       "'Hello There i am SUbrat'"
      ]
     },
     "execution_count": 22,
     "metadata": {},
     "output_type": "execute_result"
    }
   ],
   "source": [
    "s"
   ]
  },
  {
   "cell_type": "code",
   "execution_count": 23,
   "id": "a534f71e-8e8e-4964-b77e-998ca9b4ebc3",
   "metadata": {},
   "outputs": [
    {
     "data": {
      "text/plain": [
       "''"
      ]
     },
     "execution_count": 23,
     "metadata": {},
     "output_type": "execute_result"
    }
   ],
   "source": [
    "s[-3:12:1]"
   ]
  },
  {
   "cell_type": "markdown",
   "id": "8926e87e-6862-433b-bcbf-8b9423c191c1",
   "metadata": {},
   "source": [
    "#### To avoid ambiguity do not mix the indexings, either use positive indexing or use negative indexing ."
   ]
  },
  {
   "cell_type": "code",
   "execution_count": 26,
   "id": "ae665d44-f8f9-4905-9ff4-8970c7d59eb0",
   "metadata": {},
   "outputs": [
    {
     "name": "stdout",
     "output_type": "stream",
     "text": [
      "['__add__', '__class__', '__contains__', '__delattr__', '__dir__', '__doc__', '__eq__', '__format__', '__ge__', '__getattribute__', '__getitem__', '__getnewargs__', '__getstate__', '__gt__', '__hash__', '__init__', '__init_subclass__', '__iter__', '__le__', '__len__', '__lt__', '__mod__', '__mul__', '__ne__', '__new__', '__reduce__', '__reduce_ex__', '__repr__', '__rmod__', '__rmul__', '__setattr__', '__sizeof__', '__str__', '__subclasshook__', 'capitalize', 'casefold', 'center', 'count', 'encode', 'endswith', 'expandtabs', 'find', 'format', 'format_map', 'index', 'isalnum', 'isalpha', 'isascii', 'isdecimal', 'isdigit', 'isidentifier', 'islower', 'isnumeric', 'isprintable', 'isspace', 'istitle', 'isupper', 'join', 'ljust', 'lower', 'lstrip', 'maketrans', 'partition', 'removeprefix', 'removesuffix', 'replace', 'rfind', 'rindex', 'rjust', 'rpartition', 'rsplit', 'rstrip', 'split', 'splitlines', 'startswith', 'strip', 'swapcase', 'title', 'translate', 'upper', 'zfill']\n"
     ]
    }
   ],
   "source": [
    "print(dir(str))"
   ]
  },
  {
   "cell_type": "markdown",
   "id": "a5148c87-c367-4bb4-bd00-1f9130976ec2",
   "metadata": {},
   "source": [
    "#### Whenever we make any changes to a string it willl create a new object, that has a seperate id or memory address"
   ]
  },
  {
   "cell_type": "code",
   "execution_count": 30,
   "id": "eea01835-4774-43ca-ba35-c684de3b694b",
   "metadata": {},
   "outputs": [
    {
     "data": {
      "text/plain": [
       "2352058941888"
      ]
     },
     "execution_count": 30,
     "metadata": {},
     "output_type": "execute_result"
    }
   ],
   "source": [
    "id(s)"
   ]
  },
  {
   "cell_type": "code",
   "execution_count": 33,
   "id": "2e0c8ffa-94b5-42bf-bec4-465ea13ae0fa",
   "metadata": {},
   "outputs": [],
   "source": [
    "a=s.capitalize()  # capitalize will make the first letter in capital letter"
   ]
  },
  {
   "cell_type": "code",
   "execution_count": 31,
   "id": "fe43a2a8-413d-471a-9a62-07c5d9c20827",
   "metadata": {},
   "outputs": [
    {
     "data": {
      "text/plain": [
       "2352088444048"
      ]
     },
     "execution_count": 31,
     "metadata": {},
     "output_type": "execute_result"
    }
   ],
   "source": [
    "id(a)"
   ]
  },
  {
   "cell_type": "code",
   "execution_count": 37,
   "id": "7c33967c-225a-490d-a813-fb2e8157301e",
   "metadata": {},
   "outputs": [
    {
     "data": {
      "text/plain": [
       "'HELLO THERE I AM SUBRAT'"
      ]
     },
     "execution_count": 37,
     "metadata": {},
     "output_type": "execute_result"
    }
   ],
   "source": [
    "s.upper() # make every letter in uppercase"
   ]
  },
  {
   "cell_type": "code",
   "execution_count": 38,
   "id": "030b40ec-3a30-422e-93b2-442c64d78258",
   "metadata": {},
   "outputs": [
    {
     "data": {
      "text/plain": [
       "'hello there i am subrat'"
      ]
     },
     "execution_count": 38,
     "metadata": {},
     "output_type": "execute_result"
    }
   ],
   "source": [
    "s.lower() # make every letter in lowercase"
   ]
  },
  {
   "cell_type": "code",
   "execution_count": 39,
   "id": "724b818b-194f-44c5-8be1-f15c82fb8e9a",
   "metadata": {},
   "outputs": [
    {
     "data": {
      "text/plain": [
       "'Hello There I Am Subrat'"
      ]
     },
     "execution_count": 39,
     "metadata": {},
     "output_type": "execute_result"
    }
   ],
   "source": [
    "s.title() # make every word first letter as capital"
   ]
  },
  {
   "cell_type": "code",
   "execution_count": 40,
   "id": "84932e35-a6aa-4651-b7a1-f2634555f34c",
   "metadata": {},
   "outputs": [
    {
     "data": {
      "text/plain": [
       "'hELLO tHERE I AM suBRAT'"
      ]
     },
     "execution_count": 40,
     "metadata": {},
     "output_type": "execute_result"
    }
   ],
   "source": [
    "s.swapcase() # make each letter swap the case e.g if it is lower case make it upper and vice versa"
   ]
  },
  {
   "cell_type": "markdown",
   "id": "be59d5cb-a882-486a-afee-d675d1e6251c",
   "metadata": {},
   "source": [
    "#### We use dot function since methods are defined inside the class and we cannot directly call them , therefore using objects like string object we can call them"
   ]
  },
  {
   "cell_type": "code",
   "execution_count": null,
   "id": "9949a690-57f8-4fc9-8776-558373928ff9",
   "metadata": {},
   "outputs": [],
   "source": []
  },
  {
   "cell_type": "markdown",
   "id": "76f6ae6b-696b-4cb7-b580-0871d69e8ce3",
   "metadata": {},
   "source": [
    "#### Casefold() vs lower()"
   ]
  },
  {
   "cell_type": "markdown",
   "id": "6ae12225-2ef0-45c3-af63-5e1c1857f77e",
   "metadata": {},
   "source": [
    "They will do the same thing , just that lower method is used only for ASCII characters , but Casefold is applicable for characters other than the ASCII Characters, like german characters etc"
   ]
  },
  {
   "cell_type": "code",
   "execution_count": 41,
   "id": "6cd2648b-4823-4710-b37d-4a498fa6f694",
   "metadata": {},
   "outputs": [
    {
     "data": {
      "text/plain": [
       "'Hello There i am SUbrat'"
      ]
     },
     "execution_count": 41,
     "metadata": {},
     "output_type": "execute_result"
    }
   ],
   "source": [
    "s"
   ]
  },
  {
   "cell_type": "code",
   "execution_count": 43,
   "id": "8393ec33-d8b8-42de-ae8f-5374c8bc39a3",
   "metadata": {},
   "outputs": [
    {
     "data": {
      "text/plain": [
       "'hello there i am subrat'"
      ]
     },
     "execution_count": 43,
     "metadata": {},
     "output_type": "execute_result"
    }
   ],
   "source": [
    "s.casefold() #similar to lower"
   ]
  },
  {
   "cell_type": "markdown",
   "id": "7c8337a1-dbe1-47ec-97c1-2bc4f006c7d8",
   "metadata": {},
   "source": [
    "#### Why  not for Upper -> because upper works for non ascii characters as well"
   ]
  },
  {
   "cell_type": "code",
   "execution_count": null,
   "id": "819641f3-51d4-4bd9-8009-1e22a1c6138a",
   "metadata": {},
   "outputs": [],
   "source": []
  },
  {
   "cell_type": "code",
   "execution_count": null,
   "id": "bd330e34-5928-4bd9-b53b-4389c6f5254f",
   "metadata": {},
   "outputs": [],
   "source": []
  },
  {
   "cell_type": "code",
   "execution_count": null,
   "id": "14025508-86e8-4e66-ae1e-5a58c6c39dac",
   "metadata": {},
   "outputs": [],
   "source": []
  },
  {
   "cell_type": "markdown",
   "id": "c76d4090-91f2-4fbd-8566-d6ecc17830ba",
   "metadata": {},
   "source": [
    "#### Count Method"
   ]
  },
  {
   "cell_type": "code",
   "execution_count": 44,
   "id": "b3f54996-5e01-431a-9cc9-ef8a154f604e",
   "metadata": {},
   "outputs": [
    {
     "data": {
      "text/plain": [
       "'Hello There i am SUbrat'"
      ]
     },
     "execution_count": 44,
     "metadata": {},
     "output_type": "execute_result"
    }
   ],
   "source": [
    "s"
   ]
  },
  {
   "cell_type": "code",
   "execution_count": 46,
   "id": "cdcf407d-6359-4874-a216-b47ce99d4b30",
   "metadata": {},
   "outputs": [
    {
     "data": {
      "text/plain": [
       "2"
      ]
     },
     "execution_count": 46,
     "metadata": {},
     "output_type": "execute_result"
    }
   ],
   "source": [
    "s.count('a')"
   ]
  },
  {
   "cell_type": "code",
   "execution_count": 51,
   "id": "58e5380c-7c26-4a5c-a1cb-74222a6285c3",
   "metadata": {},
   "outputs": [
    {
     "data": {
      "text/plain": [
       "0"
      ]
     },
     "execution_count": 51,
     "metadata": {},
     "output_type": "execute_result"
    }
   ],
   "source": [
    "s.count('a',17,21)   # 17 and 21 is like start and end index , does similar work as slicing "
   ]
  },
  {
   "cell_type": "markdown",
   "id": "31908341-2546-46c5-869c-ffe9ea2cc5a2",
   "metadata": {},
   "source": [
    "#### Index Method -> returns the lowest index that matches otherwise error"
   ]
  },
  {
   "cell_type": "markdown",
   "id": "7627c21f-fbdb-431a-b70a-432aa4a86b2e",
   "metadata": {},
   "source": [
    "It will give the first occuernce of the character"
   ]
  },
  {
   "cell_type": "code",
   "execution_count": 54,
   "id": "4c2aa015-d4da-4654-ae80-4a66bca8af53",
   "metadata": {},
   "outputs": [
    {
     "data": {
      "text/plain": [
       "'Hello There i am SUbrat'"
      ]
     },
     "execution_count": 54,
     "metadata": {},
     "output_type": "execute_result"
    }
   ],
   "source": [
    "s"
   ]
  },
  {
   "cell_type": "code",
   "execution_count": 61,
   "id": "b8c8cb70-c441-400f-a651-a318543288e2",
   "metadata": {},
   "outputs": [
    {
     "ename": "ValueError",
     "evalue": "substring not found",
     "output_type": "error",
     "traceback": [
      "\u001b[1;31m---------------------------------------------------------------------------\u001b[0m",
      "\u001b[1;31mValueError\u001b[0m                                Traceback (most recent call last)",
      "Cell \u001b[1;32mIn[61], line 1\u001b[0m\n\u001b[1;32m----> 1\u001b[0m s\u001b[38;5;241m.\u001b[39mindex(\u001b[38;5;124m'\u001b[39m\u001b[38;5;124mS\u001b[39m\u001b[38;5;124m'\u001b[39m,\u001b[38;5;241m20\u001b[39m,\u001b[38;5;241m34\u001b[39m)\n",
      "\u001b[1;31mValueError\u001b[0m: substring not found"
     ]
    }
   ],
   "source": [
    "s.index('S',20,34)"
   ]
  },
  {
   "cell_type": "markdown",
   "id": "abf757e0-c37f-45a9-bc91-e72d19ed4e52",
   "metadata": {},
   "source": [
    "### Find function -> returns the lowest index that is there for the substring otherwise -1"
   ]
  },
  {
   "cell_type": "code",
   "execution_count": 57,
   "id": "9067e5ec-ad78-479f-b3b7-8b9948ae4da1",
   "metadata": {},
   "outputs": [
    {
     "data": {
      "text/plain": [
       "'Hello There i am SUbrat'"
      ]
     },
     "execution_count": 57,
     "metadata": {},
     "output_type": "execute_result"
    }
   ],
   "source": [
    "s"
   ]
  },
  {
   "cell_type": "code",
   "execution_count": 58,
   "id": "d10d7637-d2c6-4153-b4e6-fa52bf25d43f",
   "metadata": {},
   "outputs": [
    {
     "data": {
      "text/plain": [
       "9"
      ]
     },
     "execution_count": 58,
     "metadata": {},
     "output_type": "execute_result"
    }
   ],
   "source": [
    "s.find('re')"
   ]
  },
  {
   "cell_type": "code",
   "execution_count": 59,
   "id": "f115ef3c-ece1-482c-b769-96280a43654a",
   "metadata": {},
   "outputs": [
    {
     "data": {
      "text/plain": [
       "-1"
      ]
     },
     "execution_count": 59,
     "metadata": {},
     "output_type": "execute_result"
    }
   ],
   "source": [
    "s.find('red')"
   ]
  },
  {
   "cell_type": "markdown",
   "id": "69303898-147b-4baa-915f-afc9ced5f731",
   "metadata": {},
   "source": [
    "### rfind method"
   ]
  },
  {
   "cell_type": "markdown",
   "id": "c38612ad-cae0-4d4f-aab2-77b05bd34696",
   "metadata": {},
   "source": [
    "It will read the string from right to left, but it will give the result according to the +ve indexing "
   ]
  },
  {
   "cell_type": "code",
   "execution_count": 62,
   "id": "3d869d06-d416-441f-a8c9-8391d19adbad",
   "metadata": {},
   "outputs": [
    {
     "data": {
      "text/plain": [
       "'Hello There i am SUbrat'"
      ]
     },
     "execution_count": 62,
     "metadata": {},
     "output_type": "execute_result"
    }
   ],
   "source": [
    "s"
   ]
  },
  {
   "cell_type": "code",
   "execution_count": 63,
   "id": "f34b70b7-c747-44b9-80cb-44d642216d91",
   "metadata": {},
   "outputs": [
    {
     "data": {
      "text/plain": [
       "21"
      ]
     },
     "execution_count": 63,
     "metadata": {},
     "output_type": "execute_result"
    }
   ],
   "source": [
    "s.rfind('a')"
   ]
  },
  {
   "cell_type": "markdown",
   "id": "12f12909-c879-4f21-a908-317b7a66a742",
   "metadata": {},
   "source": [
    "### What is the difference between find,rfind and index (Imp question)"
   ]
  },
  {
   "cell_type": "code",
   "execution_count": null,
   "id": "cf5a83d7-de55-453d-a1bd-ad914c76876f",
   "metadata": {},
   "outputs": [],
   "source": []
  },
  {
   "cell_type": "code",
   "execution_count": null,
   "id": "3d62ea53-e9a8-41f9-aae8-687ac83a16f3",
   "metadata": {},
   "outputs": [],
   "source": []
  },
  {
   "cell_type": "code",
   "execution_count": null,
   "id": "8866612d-f77e-46e8-9a34-2fc9630ecc46",
   "metadata": {},
   "outputs": [],
   "source": []
  },
  {
   "cell_type": "markdown",
   "id": "78807e4f-30ae-4cf6-8bf1-22a70cf3e5b0",
   "metadata": {},
   "source": [
    "### Split -> Takes a string, splits according to the seperator(by default is ' ') and returns list"
   ]
  },
  {
   "cell_type": "code",
   "execution_count": 64,
   "id": "11ea8d90-a3f1-416c-8b24-491bb0745971",
   "metadata": {},
   "outputs": [
    {
     "data": {
      "text/plain": [
       "'Hello There i am SUbrat'"
      ]
     },
     "execution_count": 64,
     "metadata": {},
     "output_type": "execute_result"
    }
   ],
   "source": [
    "s"
   ]
  },
  {
   "cell_type": "code",
   "execution_count": 68,
   "id": "8c4a94cf-361b-4de4-9bbc-11b597bf2801",
   "metadata": {},
   "outputs": [
    {
     "name": "stdout",
     "output_type": "stream",
     "text": [
      "['Hello', 'There', 'i', 'am', 'SUbrat']\n"
     ]
    }
   ],
   "source": [
    "print(s.split())"
   ]
  },
  {
   "cell_type": "code",
   "execution_count": 70,
   "id": "0d09909c-5b6f-4f90-b4dd-c3542e6a715c",
   "metadata": {},
   "outputs": [
    {
     "name": "stdout",
     "output_type": "stream",
     "text": [
      "['Hello There ', ' am SUbrat']\n"
     ]
    }
   ],
   "source": [
    "print(s.split('i'))"
   ]
  },
  {
   "cell_type": "markdown",
   "id": "33237616-4203-4a8a-a45a-003d28e027d0",
   "metadata": {},
   "source": [
    "### Join Method -> opposite of split(), we can specify a string as well which we want to be included in between the joining "
   ]
  },
  {
   "cell_type": "code",
   "execution_count": 71,
   "id": "79624192-6ecd-4ebd-a7a8-b63d0ad450ea",
   "metadata": {},
   "outputs": [
    {
     "data": {
      "text/plain": [
       "'Hello There i am SUbrat'"
      ]
     },
     "execution_count": 71,
     "metadata": {},
     "output_type": "execute_result"
    }
   ],
   "source": [
    "s"
   ]
  },
  {
   "cell_type": "code",
   "execution_count": 72,
   "id": "9808489b-2a97-4b0d-930a-32c527a0877a",
   "metadata": {},
   "outputs": [
    {
     "data": {
      "text/plain": [
       "'Hello there i am subrat'"
      ]
     },
     "execution_count": 72,
     "metadata": {},
     "output_type": "execute_result"
    }
   ],
   "source": [
    "a"
   ]
  },
  {
   "cell_type": "code",
   "execution_count": 74,
   "id": "fb231e02-e63d-4b0e-a0e6-4cb17a3848ef",
   "metadata": {},
   "outputs": [],
   "source": [
    "b=['a','b','c']"
   ]
  },
  {
   "cell_type": "code",
   "execution_count": 79,
   "id": "1f4b4292-c18b-4d4a-9fe9-8a857beec1ca",
   "metadata": {},
   "outputs": [],
   "source": [
    "c='-'.join(b)"
   ]
  },
  {
   "cell_type": "code",
   "execution_count": 80,
   "id": "983a3bb6-88ab-4ef9-9401-d002b490837c",
   "metadata": {},
   "outputs": [
    {
     "data": {
      "text/plain": [
       "'a-b-c'"
      ]
     },
     "execution_count": 80,
     "metadata": {},
     "output_type": "execute_result"
    }
   ],
   "source": [
    "c"
   ]
  },
  {
   "cell_type": "code",
   "execution_count": null,
   "id": "09197109-5cbe-43a4-9f56-7d361759aafe",
   "metadata": {},
   "outputs": [],
   "source": []
  }
 ],
 "metadata": {
  "kernelspec": {
   "display_name": "Python 3 (ipykernel)",
   "language": "python",
   "name": "python3"
  },
  "language_info": {
   "codemirror_mode": {
    "name": "ipython",
    "version": 3
   },
   "file_extension": ".py",
   "mimetype": "text/x-python",
   "name": "python",
   "nbconvert_exporter": "python",
   "pygments_lexer": "ipython3",
   "version": "3.11.7"
  }
 },
 "nbformat": 4,
 "nbformat_minor": 5
}
