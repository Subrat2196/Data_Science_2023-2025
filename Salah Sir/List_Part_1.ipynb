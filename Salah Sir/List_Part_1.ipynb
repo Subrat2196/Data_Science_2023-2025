{
 "cells": [
  {
   "cell_type": "markdown",
   "id": "b585b97f-b803-408a-bfc5-30a54092a29c",
   "metadata": {},
   "source": [
    "### List"
   ]
  },
  {
   "cell_type": "code",
   "execution_count": 2,
   "id": "5c125884-6bb2-4a9c-96f8-aa853b07768e",
   "metadata": {},
   "outputs": [],
   "source": [
    " a = ['Hey',2,3,{1,2,3}]"
   ]
  },
  {
   "cell_type": "code",
   "execution_count": 3,
   "id": "aa3cd73d-b25c-4cf2-bec9-40bea982fa1b",
   "metadata": {},
   "outputs": [
    {
     "data": {
      "text/plain": [
       "['Hey', 2, 3, {1, 2, 3}]"
      ]
     },
     "execution_count": 3,
     "metadata": {},
     "output_type": "execute_result"
    }
   ],
   "source": [
    "a"
   ]
  },
  {
   "cell_type": "code",
   "execution_count": 4,
   "id": "a97cd090-e37a-47e0-a37f-d9a62e2354a7",
   "metadata": {},
   "outputs": [
    {
     "data": {
      "text/plain": [
       "{1, 2, 3}"
      ]
     },
     "execution_count": 4,
     "metadata": {},
     "output_type": "execute_result"
    }
   ],
   "source": [
    "a[3]"
   ]
  },
  {
   "cell_type": "code",
   "execution_count": 5,
   "id": "e6556aec-0b13-41b9-ba23-7d9d298bf52c",
   "metadata": {},
   "outputs": [
    {
     "data": {
      "text/plain": [
       "set"
      ]
     },
     "execution_count": 5,
     "metadata": {},
     "output_type": "execute_result"
    }
   ],
   "source": [
    "type(a[3])"
   ]
  },
  {
   "cell_type": "markdown",
   "id": "99d82ec9-7f9c-4249-95ca-1a184b70a0fe",
   "metadata": {},
   "source": [
    "## Different methods to create a list"
   ]
  },
  {
   "cell_type": "markdown",
   "id": "59f19217-0c2f-4959-b09d-432a223b5daa",
   "metadata": {},
   "source": [
    "##### 1. You know the elements "
   ]
  },
  {
   "cell_type": "code",
   "execution_count": 6,
   "id": "d178a2b4-3424-4204-b58d-553aab76a8d4",
   "metadata": {},
   "outputs": [],
   "source": [
    "a = ['Apple','Banana','Cherry']"
   ]
  },
  {
   "cell_type": "code",
   "execution_count": 7,
   "id": "afb2d22a-78da-4279-8ba6-fce29301c7a9",
   "metadata": {},
   "outputs": [
    {
     "data": {
      "text/plain": [
       "['Apple', 'Banana', 'Cherry']"
      ]
     },
     "execution_count": 7,
     "metadata": {},
     "output_type": "execute_result"
    }
   ],
   "source": [
    "a"
   ]
  },
  {
   "cell_type": "markdown",
   "id": "b65ba401-4e15-426e-9693-3ae621507d42",
   "metadata": {},
   "source": [
    "##### 2. Input from the user"
   ]
  },
  {
   "cell_type": "code",
   "execution_count": 8,
   "id": "647f0a4c-ee3d-4745-86e7-335a88bf6dc4",
   "metadata": {},
   "outputs": [],
   "source": [
    "# input by default will take the string as the input"
   ]
  },
  {
   "cell_type": "markdown",
   "id": "c68c54c8-a338-4d48-a94a-b757c07696a4",
   "metadata": {},
   "source": [
    "##### a. Using type casting"
   ]
  },
  {
   "cell_type": "code",
   "execution_count": 9,
   "id": "e40ef48d-be26-4e94-be4b-6825c15cf6d1",
   "metadata": {},
   "outputs": [
    {
     "name": "stdin",
     "output_type": "stream",
     "text": [
      "Enter a list 1,2,3,4,5\n"
     ]
    }
   ],
   "source": [
    "lst = list(input('Enter a list'))"
   ]
  },
  {
   "cell_type": "code",
   "execution_count": 10,
   "id": "775cc234-aaf1-44fd-a93e-8b3c1ea6a174",
   "metadata": {},
   "outputs": [
    {
     "data": {
      "text/plain": [
       "list"
      ]
     },
     "execution_count": 10,
     "metadata": {},
     "output_type": "execute_result"
    }
   ],
   "source": [
    "type(lst)"
   ]
  },
  {
   "cell_type": "code",
   "execution_count": 11,
   "id": "61fb8e4e-8b1f-4031-90b0-88efd1d8bbde",
   "metadata": {},
   "outputs": [
    {
     "data": {
      "text/plain": [
       "['1', ',', '2', ',', '3', ',', '4', ',', '5']"
      ]
     },
     "execution_count": 11,
     "metadata": {},
     "output_type": "execute_result"
    }
   ],
   "source": [
    "lst"
   ]
  },
  {
   "cell_type": "markdown",
   "id": "6f2f38d1-6a11-4607-9263-9740a7b2e447",
   "metadata": {},
   "source": [
    "##### b->  eval"
   ]
  },
  {
   "cell_type": "code",
   "execution_count": 12,
   "id": "03794559-bdbe-4574-beff-856b1016a011",
   "metadata": {},
   "outputs": [],
   "source": [
    "# in eval you need to pass the input in the form of list only"
   ]
  },
  {
   "cell_type": "code",
   "execution_count": 14,
   "id": "a4774c4c-8c8e-4111-a42f-8b2c244ed1a8",
   "metadata": {},
   "outputs": [
    {
     "name": "stdin",
     "output_type": "stream",
     "text": [
      "Enter the list :  [1,2,3,4,5]\n"
     ]
    }
   ],
   "source": [
    "lst = eval(input('Enter the list : '))"
   ]
  },
  {
   "cell_type": "code",
   "execution_count": 29,
   "id": "feb5e509-2254-4cf8-942c-91e759e2d872",
   "metadata": {},
   "outputs": [
    {
     "data": {
      "text/plain": [
       "tuple"
      ]
     },
     "execution_count": 29,
     "metadata": {},
     "output_type": "execute_result"
    }
   ],
   "source": [
    "type(lst)"
   ]
  },
  {
   "cell_type": "markdown",
   "id": "b31fdd71-1508-4117-bffc-f45c90f5c4ea",
   "metadata": {},
   "source": [
    "##### Here we can see it became a tuple as by default it will make it as tuple, therefore input we need to give in the form of list i.e [1,2,3,4,5] , if we make it as 1,2,3,4,5 it will take it as a tuple in case of eval"
   ]
  },
  {
   "cell_type": "code",
   "execution_count": 15,
   "id": "326b738e-b8b6-4d7b-9903-7de0c9e295b2",
   "metadata": {},
   "outputs": [],
   "source": [
    "str = 'a,b,c'"
   ]
  },
  {
   "cell_type": "code",
   "execution_count": 16,
   "id": "d0c7c13f-bd15-4512-8268-3acb977b7a49",
   "metadata": {},
   "outputs": [],
   "source": [
    "ls = list(str)"
   ]
  },
  {
   "cell_type": "code",
   "execution_count": 17,
   "id": "28f4a31e-7f98-4ce0-a6c4-85d3ab5146e6",
   "metadata": {},
   "outputs": [
    {
     "data": {
      "text/plain": [
       "['a', ',', 'b', ',', 'c']"
      ]
     },
     "execution_count": 17,
     "metadata": {},
     "output_type": "execute_result"
    }
   ],
   "source": [
    "ls"
   ]
  },
  {
   "cell_type": "markdown",
   "id": "4f6d5167-230c-4710-9b65-5ee7e6b1cd8b",
   "metadata": {},
   "source": [
    "#### 3. Using split function"
   ]
  },
  {
   "cell_type": "markdown",
   "id": "8e83105e-6c22-4613-96e2-cec0ae34a390",
   "metadata": {},
   "source": [
    "#### Whenever we are converting string to list, each character of the list will act as a seperate element of the list"
   ]
  },
  {
   "cell_type": "code",
   "execution_count": 18,
   "id": "bc7d7ba4-3db9-44a5-9238-2a193d2d552c",
   "metadata": {},
   "outputs": [],
   "source": [
    "str1 = 'Hello World is the new trend'"
   ]
  },
  {
   "cell_type": "code",
   "execution_count": 19,
   "id": "174a27c4-2c81-4e0e-8969-af9b5195343f",
   "metadata": {},
   "outputs": [
    {
     "data": {
      "text/plain": [
       "['Hello', 'World', 'is', 'the', 'new', 'trend']"
      ]
     },
     "execution_count": 19,
     "metadata": {},
     "output_type": "execute_result"
    }
   ],
   "source": [
    "str1.split()"
   ]
  },
  {
   "cell_type": "code",
   "execution_count": 20,
   "id": "a6dbe431-acf5-4892-9670-08eb261139e4",
   "metadata": {},
   "outputs": [],
   "source": [
    "# Split by default will make the string as the list"
   ]
  },
  {
   "cell_type": "code",
   "execution_count": 21,
   "id": "e49e981e-25b0-47ed-8842-66366cac5a4a",
   "metadata": {},
   "outputs": [
    {
     "name": "stdin",
     "output_type": "stream",
     "text": [
      " 1,2,3,4,5\n"
     ]
    },
    {
     "data": {
      "text/plain": [
       "['1', '2', '3', '4', '5']"
      ]
     },
     "execution_count": 21,
     "metadata": {},
     "output_type": "execute_result"
    }
   ],
   "source": [
    "a=input()\n",
    "a.split(',')"
   ]
  },
  {
   "cell_type": "markdown",
   "id": "9314606a-48de-4594-8fe7-a4fdaddd9423",
   "metadata": {},
   "source": [
    "#### eval by default will give tuple "
   ]
  },
  {
   "cell_type": "code",
   "execution_count": 23,
   "id": "e4e99431-a221-4d2d-a5e7-e2264f3fe30a",
   "metadata": {},
   "outputs": [
    {
     "name": "stdin",
     "output_type": "stream",
     "text": [
      " 1,2,3,4\n"
     ]
    },
    {
     "data": {
      "text/plain": [
       "tuple"
      ]
     },
     "execution_count": 23,
     "metadata": {},
     "output_type": "execute_result"
    }
   ],
   "source": [
    "tp = eval(input())\n",
    "type(tp)"
   ]
  },
  {
   "cell_type": "code",
   "execution_count": 24,
   "id": "cc47f165-dd68-49cb-ab45-8e3ed0b01f3c",
   "metadata": {},
   "outputs": [],
   "source": [
    "l = list(tp)"
   ]
  },
  {
   "cell_type": "code",
   "execution_count": 25,
   "id": "e0a06a91-450a-4cae-93d3-439e34cf8e96",
   "metadata": {},
   "outputs": [
    {
     "data": {
      "text/plain": [
       "[1, 2, 3, 4]"
      ]
     },
     "execution_count": 25,
     "metadata": {},
     "output_type": "execute_result"
    }
   ],
   "source": [
    "l"
   ]
  },
  {
   "cell_type": "code",
   "execution_count": null,
   "id": "c6a54059-49e3-4dd0-8184-2f21a2580ccd",
   "metadata": {},
   "outputs": [],
   "source": []
  },
  {
   "cell_type": "markdown",
   "id": "90a74ede-ad4b-4e35-9fa2-ae3b5cdf4b18",
   "metadata": {},
   "source": [
    "### Properties of list"
   ]
  },
  {
   "cell_type": "markdown",
   "id": "d1b0f2ac-1e46-44f0-ad81-6372ec695964",
   "metadata": {},
   "source": [
    "- Sequential data type since indexing , slicing , concatenation, repetition, membership, identity are all supported"
   ]
  },
  {
   "cell_type": "markdown",
   "id": "7084ed37-f5bf-42cf-9054-07dc2201c761",
   "metadata": {},
   "source": [
    "### List is a mutable data type"
   ]
  },
  {
   "cell_type": "code",
   "execution_count": 26,
   "id": "1908efd2-2192-48c7-8d6e-8a763d1ea4c0",
   "metadata": {},
   "outputs": [],
   "source": [
    "lst=[1,2,3,4,5,6]"
   ]
  },
  {
   "cell_type": "code",
   "execution_count": 27,
   "id": "4cbb2992-d951-4f35-86ad-6ee9aff14be4",
   "metadata": {},
   "outputs": [
    {
     "data": {
      "text/plain": [
       "4"
      ]
     },
     "execution_count": 27,
     "metadata": {},
     "output_type": "execute_result"
    }
   ],
   "source": [
    "lst[3]"
   ]
  },
  {
   "cell_type": "code",
   "execution_count": 28,
   "id": "1c5eae9d-3db7-46dc-88e3-57330e4c78a9",
   "metadata": {},
   "outputs": [],
   "source": [
    "lst[4]=10"
   ]
  },
  {
   "cell_type": "code",
   "execution_count": 29,
   "id": "56be8963-5e9e-48f5-94bf-e25041444d4c",
   "metadata": {},
   "outputs": [
    {
     "data": {
      "text/plain": [
       "[1, 2, 3, 4, 10, 6]"
      ]
     },
     "execution_count": 29,
     "metadata": {},
     "output_type": "execute_result"
    }
   ],
   "source": [
    "lst"
   ]
  },
  {
   "cell_type": "code",
   "execution_count": 30,
   "id": "3fbd96bc-4b19-4478-8c9d-015b917de4aa",
   "metadata": {},
   "outputs": [
    {
     "data": {
      "text/plain": [
       "10"
      ]
     },
     "execution_count": 30,
     "metadata": {},
     "output_type": "execute_result"
    }
   ],
   "source": [
    "lst[-2]"
   ]
  },
  {
   "cell_type": "code",
   "execution_count": 31,
   "id": "e2803847-864b-49cb-979b-6827f96644e2",
   "metadata": {},
   "outputs": [
    {
     "data": {
      "text/plain": [
       "1"
      ]
     },
     "execution_count": 31,
     "metadata": {},
     "output_type": "execute_result"
    }
   ],
   "source": [
    "lst[-len(lst)]"
   ]
  },
  {
   "cell_type": "code",
   "execution_count": 38,
   "id": "ef30ce31-d570-4f79-b62b-4a8189f56a47",
   "metadata": {},
   "outputs": [
    {
     "data": {
      "text/plain": [
       "[1, 2, 3, 4, 10, 6]"
      ]
     },
     "execution_count": 38,
     "metadata": {},
     "output_type": "execute_result"
    }
   ],
   "source": [
    "lst"
   ]
  },
  {
   "cell_type": "code",
   "execution_count": 43,
   "id": "feee4bb7-47ac-4f73-b4c4-28f8898a021e",
   "metadata": {},
   "outputs": [
    {
     "data": {
      "text/plain": [
       "[10, 4]"
      ]
     },
     "execution_count": 43,
     "metadata": {},
     "output_type": "execute_result"
    }
   ],
   "source": [
    "lst[-2:-4:-1]"
   ]
  },
  {
   "cell_type": "markdown",
   "id": "68ed3907-d2c6-4a7f-9be2-7ae2ba3abba4",
   "metadata": {},
   "source": [
    "#### For performing the concatenation both the data types should be of same type"
   ]
  },
  {
   "cell_type": "markdown",
   "id": "61e04f55-4553-4b0c-bea4-61c4c6e9ed94",
   "metadata": {},
   "source": [
    "#### Concatenation ( + )"
   ]
  },
  {
   "cell_type": "code",
   "execution_count": 44,
   "id": "72b9f881-fbcc-4f50-a77f-47fa9c654377",
   "metadata": {},
   "outputs": [
    {
     "name": "stdout",
     "output_type": "stream",
     "text": [
      "5\n"
     ]
    }
   ],
   "source": [
    "print(lst[1]+lst[2])"
   ]
  },
  {
   "cell_type": "code",
   "execution_count": 45,
   "id": "75bd338f-7237-4b07-962d-1fce8ddfb69d",
   "metadata": {},
   "outputs": [
    {
     "data": {
      "text/plain": [
       "[1, 2, 3, 'Hello', 'There']"
      ]
     },
     "execution_count": 45,
     "metadata": {},
     "output_type": "execute_result"
    }
   ],
   "source": [
    "a = [1,2,3]\n",
    "b= ['Hello','There']\n",
    "a+b"
   ]
  },
  {
   "cell_type": "markdown",
   "id": "0d3c8a2c-a2b6-4dc0-92f9-fd6685b7d14a",
   "metadata": {},
   "source": [
    "#### For performing repetion one should be a list and other should be an integer"
   ]
  },
  {
   "cell_type": "markdown",
   "id": "c77e759b-a64d-4b52-9a8e-d40559a6df4f",
   "metadata": {},
   "source": [
    "#### Repetition ( * )"
   ]
  },
  {
   "cell_type": "code",
   "execution_count": null,
   "id": "51bba848-046d-4c1c-ad2c-e1c12aeccfbf",
   "metadata": {},
   "outputs": [],
   "source": []
  },
  {
   "cell_type": "code",
   "execution_count": 46,
   "id": "f7056db6-bf18-4991-9cc8-0f2f9f3a0f48",
   "metadata": {},
   "outputs": [
    {
     "data": {
      "text/plain": [
       "[3, 4, 'Hello', 3, 4, 'Hello', 3, 4, 'Hello']"
      ]
     },
     "execution_count": 46,
     "metadata": {},
     "output_type": "execute_result"
    }
   ],
   "source": [
    "a=[3,4,'Hello']\n",
    "b= 3 \n",
    "a * b"
   ]
  },
  {
   "cell_type": "code",
   "execution_count": null,
   "id": "63faf451-a834-4f44-878a-88fb0dec3c79",
   "metadata": {},
   "outputs": [],
   "source": []
  },
  {
   "cell_type": "markdown",
   "id": "448ef7ef-6347-450f-af1e-bafcf0884f37",
   "metadata": {},
   "source": [
    "#### Don't think in case of lists that it will be multiplication, * denotes repetition in list"
   ]
  },
  {
   "cell_type": "code",
   "execution_count": 47,
   "id": "aeca8212-bb2b-4ea2-88ab-b9e92fd14296",
   "metadata": {},
   "outputs": [
    {
     "data": {
      "text/plain": [
       "[1, 2, 3, 1, 2, 3, 1, 2, 3]"
      ]
     },
     "execution_count": 47,
     "metadata": {},
     "output_type": "execute_result"
    }
   ],
   "source": [
    "a = [1,2,3] \n",
    "b=3\n",
    "a * b"
   ]
  },
  {
   "cell_type": "markdown",
   "id": "866b2f64-1c6f-42cf-b25b-cb54f335fb41",
   "metadata": {},
   "source": []
  },
  {
   "cell_type": "code",
   "execution_count": null,
   "id": "9cb4e2e7-b184-4a11-a1e1-c8da98d38e9e",
   "metadata": {},
   "outputs": [],
   "source": []
  },
  {
   "cell_type": "markdown",
   "id": "6eafad2a-0511-4eff-8e51-a8adeb53741c",
   "metadata": {},
   "source": [
    "### Membership Operators -> in and not in"
   ]
  },
  {
   "cell_type": "markdown",
   "id": "2987c42e-7939-46c3-b24f-81ed66ffaf6a",
   "metadata": {},
   "source": [
    "##### Return true is element in datatype, return false if not"
   ]
  },
  {
   "cell_type": "code",
   "execution_count": 51,
   "id": "9c8b846f-6980-4021-b275-9e36685e29d2",
   "metadata": {},
   "outputs": [],
   "source": [
    "a = ['a','b',3,4,5]"
   ]
  },
  {
   "cell_type": "code",
   "execution_count": 49,
   "id": "cb73e472-fa11-489e-9b54-8425e7ddd7e0",
   "metadata": {},
   "outputs": [
    {
     "data": {
      "text/plain": [
       "False"
      ]
     },
     "execution_count": 49,
     "metadata": {},
     "output_type": "execute_result"
    }
   ],
   "source": [
    "'c' in a"
   ]
  },
  {
   "cell_type": "code",
   "execution_count": 50,
   "id": "ebfdd40b-d586-48a8-acfe-d527806edccf",
   "metadata": {},
   "outputs": [
    {
     "data": {
      "text/plain": [
       "True"
      ]
     },
     "execution_count": 50,
     "metadata": {},
     "output_type": "execute_result"
    }
   ],
   "source": [
    "4 in a"
   ]
  },
  {
   "cell_type": "code",
   "execution_count": 52,
   "id": "906cfe4f-4740-45a0-b06c-001f94dd89ff",
   "metadata": {},
   "outputs": [
    {
     "data": {
      "text/plain": [
       "False"
      ]
     },
     "execution_count": 52,
     "metadata": {},
     "output_type": "execute_result"
    }
   ],
   "source": [
    "3 not in a"
   ]
  },
  {
   "cell_type": "code",
   "execution_count": 53,
   "id": "3b7a37d5-f3bc-4b2a-9f2c-7b038bbb544f",
   "metadata": {},
   "outputs": [
    {
     "data": {
      "text/plain": [
       "True"
      ]
     },
     "execution_count": 53,
     "metadata": {},
     "output_type": "execute_result"
    }
   ],
   "source": [
    "6 not in a"
   ]
  },
  {
   "cell_type": "markdown",
   "id": "6e317456-e85f-4647-a710-b48297dba59b",
   "metadata": {},
   "source": [
    "#### Identity Operators -> is and is not"
   ]
  },
  {
   "cell_type": "code",
   "execution_count": 55,
   "id": "9b11d5f1-e428-490e-9c79-9a1dd7e09fb5",
   "metadata": {},
   "outputs": [
    {
     "name": "stdout",
     "output_type": "stream",
     "text": [
      "1528112941056\n",
      "1528112209408\n"
     ]
    }
   ],
   "source": [
    "a = ['a','b','c']\n",
    "b = ['a','b','c']\n",
    "print(id(a))\n",
    "print(id(b))"
   ]
  },
  {
   "cell_type": "code",
   "execution_count": 56,
   "id": "b8b3d732-f762-4266-908f-dc8b5cbd0b32",
   "metadata": {},
   "outputs": [
    {
     "name": "stdout",
     "output_type": "stream",
     "text": [
      "False\n"
     ]
    }
   ],
   "source": [
    "print(a is b)"
   ]
  },
  {
   "cell_type": "code",
   "execution_count": 57,
   "id": "551b75b9-8edc-4631-b87c-d75428a2d8b0",
   "metadata": {},
   "outputs": [
    {
     "data": {
      "text/plain": [
       "True"
      ]
     },
     "execution_count": 57,
     "metadata": {},
     "output_type": "execute_result"
    }
   ],
   "source": [
    "a is not b"
   ]
  },
  {
   "cell_type": "markdown",
   "id": "9bfa54e0-6c2b-4817-8d4d-5d3ba8497892",
   "metadata": {},
   "source": [
    "#### Difference between identity operator and Assignment operator ***"
   ]
  },
  {
   "cell_type": "code",
   "execution_count": 59,
   "id": "c12e491d-ac35-499f-bb44-fb5abe6a8143",
   "metadata": {},
   "outputs": [
    {
     "data": {
      "text/plain": [
       "True"
      ]
     },
     "execution_count": 59,
     "metadata": {},
     "output_type": "execute_result"
    }
   ],
   "source": [
    "a == b"
   ]
  },
  {
   "cell_type": "code",
   "execution_count": 60,
   "id": "3e495f2d-f525-43cb-b974-cc0f69201ac8",
   "metadata": {},
   "outputs": [
    {
     "data": {
      "text/plain": [
       "False"
      ]
     },
     "execution_count": 60,
     "metadata": {},
     "output_type": "execute_result"
    }
   ],
   "source": [
    "a is b"
   ]
  },
  {
   "cell_type": "markdown",
   "id": "6e38942e-b504-4933-a93e-d6c684168566",
   "metadata": {},
   "source": [
    "##### Here the assignment deals with the value of variables to be same, whereas is deals with the id or the address of the data to be the same"
   ]
  },
  {
   "cell_type": "code",
   "execution_count": null,
   "id": "f9400ac4-6fcf-4bc0-a59f-860b2d8c639e",
   "metadata": {},
   "outputs": [],
   "source": []
  },
  {
   "cell_type": "code",
   "execution_count": null,
   "id": "255cbce2-6a24-4493-8185-8599b65444ec",
   "metadata": {},
   "outputs": [],
   "source": []
  },
  {
   "cell_type": "markdown",
   "id": "4b30f8ac-d2da-4cef-aada-8b09f2533955",
   "metadata": {},
   "source": [
    "### Nested Lists"
   ]
  },
  {
   "cell_type": "code",
   "execution_count": 61,
   "id": "917f128c-a6ea-46ea-a3ce-d88078fd229f",
   "metadata": {},
   "outputs": [],
   "source": [
    "a=[1,2,3,4,[5,6,7,8]]"
   ]
  },
  {
   "cell_type": "code",
   "execution_count": 64,
   "id": "b067cb11-4dbf-4453-ada7-1fc861965034",
   "metadata": {},
   "outputs": [
    {
     "data": {
      "text/plain": [
       "8"
      ]
     },
     "execution_count": 64,
     "metadata": {},
     "output_type": "execute_result"
    }
   ],
   "source": [
    "a[4][3]"
   ]
  },
  {
   "cell_type": "code",
   "execution_count": 65,
   "id": "efc28bdc-f74c-42ac-a5fd-6395576d95c7",
   "metadata": {},
   "outputs": [
    {
     "data": {
      "text/plain": [
       "[5, 6, 7, 8]"
      ]
     },
     "execution_count": 65,
     "metadata": {},
     "output_type": "execute_result"
    }
   ],
   "source": [
    "a[-1]"
   ]
  },
  {
   "cell_type": "code",
   "execution_count": 66,
   "id": "575953d3-c3c6-4b75-bc99-6d326e41dcfe",
   "metadata": {},
   "outputs": [
    {
     "data": {
      "text/plain": [
       "7"
      ]
     },
     "execution_count": 66,
     "metadata": {},
     "output_type": "execute_result"
    }
   ],
   "source": [
    "a[-1][-2]"
   ]
  },
  {
   "cell_type": "code",
   "execution_count": 67,
   "id": "75ca71b6-09e9-4563-8d05-e7e7db85e7c3",
   "metadata": {},
   "outputs": [],
   "source": [
    "import numpy as np"
   ]
  },
  {
   "cell_type": "code",
   "execution_count": 73,
   "id": "e9a1e6c3-7626-49e7-8eab-5f923d66e5b3",
   "metadata": {},
   "outputs": [
    {
     "data": {
      "text/plain": [
       "array([[ 0,  1,  2,  3,  4,  5,  6,  7,  8],\n",
       "       [ 9, 10, 11, 12, 13, 14, 15, 16, 17],\n",
       "       [18, 19, 20, 21, 22, 23, 24, 25, 26],\n",
       "       [27, 28, 29, 30, 31, 32, 33, 34, 35]])"
      ]
     },
     "execution_count": 73,
     "metadata": {},
     "output_type": "execute_result"
    }
   ],
   "source": [
    "np.arange(36).reshape((4,9))"
   ]
  },
  {
   "cell_type": "markdown",
   "id": "8d38a983-4124-4225-816e-8f740810453f",
   "metadata": {},
   "source": [
    "#### Reshape method in numpy requires a Tuple as an argument"
   ]
  },
  {
   "cell_type": "code",
   "execution_count": null,
   "id": "b52497df-dc4b-4e8d-bdd5-4043ffdee541",
   "metadata": {},
   "outputs": [],
   "source": []
  }
 ],
 "metadata": {
  "kernelspec": {
   "display_name": "Python 3 (ipykernel)",
   "language": "python",
   "name": "python3"
  },
  "language_info": {
   "codemirror_mode": {
    "name": "ipython",
    "version": 3
   },
   "file_extension": ".py",
   "mimetype": "text/x-python",
   "name": "python",
   "nbconvert_exporter": "python",
   "pygments_lexer": "ipython3",
   "version": "3.11.7"
  }
 },
 "nbformat": 4,
 "nbformat_minor": 5
}
