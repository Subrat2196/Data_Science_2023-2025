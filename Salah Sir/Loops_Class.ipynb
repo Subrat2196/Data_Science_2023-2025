{
 "cells": [
  {
   "cell_type": "markdown",
   "id": "f6e56708-4975-44aa-b3f7-615b5aeba09f",
   "metadata": {},
   "source": [
    "# For Loop -> When you know the number of iterations"
   ]
  },
  {
   "cell_type": "markdown",
   "id": "2f101057-f47b-4411-b1d6-8ecb8b9a485f",
   "metadata": {},
   "source": [
    "#### Syntax"
   ]
  },
  {
   "cell_type": "markdown",
   "id": "82408630-ff27-4e75-aca0-2044c492f82f",
   "metadata": {},
   "source": [
    "for var in iterable:\n",
    "    stat1\n",
    "    stat2\n",
    "    stat3"
   ]
  },
  {
   "cell_type": "markdown",
   "id": "c9c56c3c-9e0c-4a62-a934-1ae645c3c56c",
   "metadata": {},
   "source": [
    "#### What do we consider as variable and what as an iterable \n",
    "\n",
    "For Variable :- Rules of identifiers should be satisfied here                              \n",
    "For iterable :- \n",
    "Any data type where len() function will work this will also work and if\n",
    "print(dir(object)) -------> __iter__"
   ]
  },
  {
   "cell_type": "code",
   "execution_count": 1,
   "id": "a4b3c67a-25eb-4108-888d-ffc34ae83520",
   "metadata": {},
   "outputs": [],
   "source": [
    "a = 'Subrat Bahuguna'"
   ]
  },
  {
   "cell_type": "code",
   "execution_count": 2,
   "id": "fed9c51e-a1c6-4232-bc83-0ac2746ec6df",
   "metadata": {},
   "outputs": [
    {
     "name": "stdout",
     "output_type": "stream",
     "text": [
      "Subrat Bahuguna\n",
      "Subrat Bahuguna\n",
      "Subrat Bahuguna\n",
      "Subrat Bahuguna\n",
      "Subrat Bahuguna\n",
      "Subrat Bahuguna\n",
      "Subrat Bahuguna\n",
      "Subrat Bahuguna\n",
      "Subrat Bahuguna\n",
      "Subrat Bahuguna\n",
      "Subrat Bahuguna\n",
      "Subrat Bahuguna\n",
      "Subrat Bahuguna\n",
      "Subrat Bahuguna\n",
      "Subrat Bahuguna\n"
     ]
    }
   ],
   "source": [
    "for i in a:\n",
    "    print(a)"
   ]
  },
  {
   "cell_type": "code",
   "execution_count": 3,
   "id": "a986989a-71cd-4266-9ac7-e7563e2fc3a5",
   "metadata": {},
   "outputs": [
    {
     "data": {
      "text/plain": [
       "15"
      ]
     },
     "execution_count": 3,
     "metadata": {},
     "output_type": "execute_result"
    }
   ],
   "source": [
    "len(a)"
   ]
  },
  {
   "cell_type": "markdown",
   "id": "942cb8eb-fb80-428a-ad04-2e92a3a402f9",
   "metadata": {},
   "source": [
    "# While Loop -> When you dont know the number of iterations"
   ]
  },
  {
   "cell_type": "markdown",
   "id": "74a7d1b6-420e-4e33-8602-552a4de6b40a",
   "metadata": {},
   "source": [
    "1. initialization\n",
    "2. condition\n",
    "3. increment"
   ]
  },
  {
   "cell_type": "code",
   "execution_count": 4,
   "id": "4779701d-877d-4474-b564-7f6ef9a9b135",
   "metadata": {},
   "outputs": [
    {
     "name": "stdout",
     "output_type": "stream",
     "text": [
      "1\n",
      "2\n",
      "3\n",
      "4\n"
     ]
    }
   ],
   "source": [
    "var = 1                          #initialization\n",
    "while(var<5):                    #condition\n",
    "    print(var)\n",
    "    var=var+1                    #increment"
   ]
  },
  {
   "cell_type": "code",
   "execution_count": 5,
   "id": "67dd82de-8493-42e3-af65-00c001bbebaf",
   "metadata": {},
   "outputs": [],
   "source": [
    "a='python'"
   ]
  },
  {
   "cell_type": "code",
   "execution_count": 6,
   "id": "b6155343-6551-49ee-96ca-85b77d75246e",
   "metadata": {},
   "outputs": [],
   "source": [
    "# p\n",
    "# yy\n",
    "# ttt\n",
    "# hhhh\n",
    "# ooooo\n",
    "# nnnnnn"
   ]
  },
  {
   "cell_type": "code",
   "execution_count": 7,
   "id": "ec2703f5-b0cf-4f0d-9918-90a4124de438",
   "metadata": {},
   "outputs": [
    {
     "name": "stdout",
     "output_type": "stream",
     "text": [
      "p\n",
      "yy\n",
      "ttt\n",
      "hhhh\n",
      "ooooo\n",
      "nnnnnn\n"
     ]
    }
   ],
   "source": [
    "j=1\n",
    "for i in a:\n",
    "    print(i*j)\n",
    "    j+=1"
   ]
  },
  {
   "cell_type": "code",
   "execution_count": 12,
   "id": "47b7ff5b-58ce-4ecc-b380-0ddbb10680b0",
   "metadata": {},
   "outputs": [
    {
     "name": "stdout",
     "output_type": "stream",
     "text": [
      "p\n",
      "yy\n",
      "ttt\n",
      "hhhh\n",
      "ooooo\n",
      "nnnnnn\n"
     ]
    }
   ],
   "source": [
    "for i in range(0,len(a)):\n",
    "    print(a[i]*(i+1))"
   ]
  },
  {
   "cell_type": "code",
   "execution_count": 8,
   "id": "59571ccd-2a63-42d4-a732-584f847a4ce9",
   "metadata": {},
   "outputs": [],
   "source": [
    "# Since we know that in string functions * denotes repetition"
   ]
  },
  {
   "cell_type": "code",
   "execution_count": 15,
   "id": "c13f5b3e-3204-4579-b15c-359394c7ffd2",
   "metadata": {},
   "outputs": [
    {
     "name": "stdout",
     "output_type": "stream",
     "text": [
      "p\n",
      "yy\n",
      "ttt\n",
      "hhhh\n",
      "ooooo\n",
      "nnnnnn\n"
     ]
    }
   ],
   "source": [
    "j=1\n",
    "while(j<=len(a)):\n",
    "    print(a[j-1]*j)\n",
    "    j+=1"
   ]
  },
  {
   "cell_type": "code",
   "execution_count": 16,
   "id": "61595e53-d50d-4a11-bdf1-9fee072d1d39",
   "metadata": {},
   "outputs": [],
   "source": [
    "# nnnnnn\n",
    "# ooooo\n",
    "# hhhh\n",
    "# ttt\n",
    "# yy\n",
    "# p"
   ]
  },
  {
   "cell_type": "code",
   "execution_count": 17,
   "id": "541abe0d-8846-43db-9d8c-8dea99ce5866",
   "metadata": {},
   "outputs": [
    {
     "name": "stdout",
     "output_type": "stream",
     "text": [
      "nnnnnn\n",
      "ooooo\n",
      "hhhh\n",
      "ttt\n",
      "yy\n",
      "p\n"
     ]
    }
   ],
   "source": [
    "j=len(a)\n",
    "while(j>0):\n",
    "    print(a[j-1]*j)\n",
    "    j-=1"
   ]
  },
  {
   "cell_type": "markdown",
   "id": "489ac9bd-92c6-4a0b-a1eb-e846ec13eaf6",
   "metadata": {},
   "source": [
    "## break , continue and pass"
   ]
  },
  {
   "cell_type": "markdown",
   "id": "23759902-9d3f-4c38-bd56-b0c811cc0ff8",
   "metadata": {},
   "source": [
    "#### break the current iteration and all other iterations of that loop as well"
   ]
  },
  {
   "cell_type": "code",
   "execution_count": 19,
   "id": "199d9962-8ee9-434f-be44-396f9331aeae",
   "metadata": {},
   "outputs": [
    {
     "name": "stdout",
     "output_type": "stream",
     "text": [
      "0\n",
      "1\n",
      "2\n",
      "3\n",
      "4\n",
      "5\n",
      "6\n",
      "7\n",
      "8\n",
      "9\n",
      "Loop completed\n"
     ]
    }
   ],
   "source": [
    "for i in range(0,10):\n",
    "    print(i)\n",
    "print('Loop completed')"
   ]
  },
  {
   "cell_type": "code",
   "execution_count": 22,
   "id": "235fbd43-3d32-4d9f-b66f-51cdb898aac5",
   "metadata": {},
   "outputs": [
    {
     "name": "stdout",
     "output_type": "stream",
     "text": [
      "0\n",
      "1\n",
      "2\n",
      "3\n",
      "4\n",
      "Loop completed\n"
     ]
    }
   ],
   "source": [
    "for i in range(0,10):\n",
    "    if i==5 :\n",
    "        break\n",
    "    print(i)\n",
    "print('Loop completed')"
   ]
  },
  {
   "cell_type": "code",
   "execution_count": 24,
   "id": "c8bd4f54-81f4-4625-98b3-c40afe69861b",
   "metadata": {},
   "outputs": [],
   "source": [
    "l=list(range(10))"
   ]
  },
  {
   "cell_type": "markdown",
   "id": "acf1cd4f-8d05-418a-bdff-3aa51ed96c17",
   "metadata": {},
   "source": [
    "#### continue will skip all the instruction below the continue statement for that particular iteration"
   ]
  },
  {
   "cell_type": "code",
   "execution_count": 27,
   "id": "ee25b6fe-9b0c-4801-aaef-1d0cf0e685ff",
   "metadata": {},
   "outputs": [
    {
     "name": "stdout",
     "output_type": "stream",
     "text": [
      "0\n",
      "1\n",
      "2\n",
      "4\n",
      "5\n",
      "6\n",
      "7\n",
      "8\n",
      "9\n"
     ]
    }
   ],
   "source": [
    "for i in l:\n",
    "    if(i==3):\n",
    "        continue\n",
    "    print(i)"
   ]
  },
  {
   "cell_type": "code",
   "execution_count": 30,
   "id": "63f6ab40-454f-4a9d-bd78-d72ad606aa1e",
   "metadata": {},
   "outputs": [
    {
     "name": "stdout",
     "output_type": "stream",
     "text": [
      "0\n",
      "1\n",
      "5\n",
      "6\n",
      "7\n",
      "8\n",
      "9\n"
     ]
    }
   ],
   "source": [
    "for i in l:\n",
    "    if i in range(2,5):\n",
    "        continue\n",
    "    print(i)"
   ]
  },
  {
   "cell_type": "markdown",
   "id": "acd25b11-5513-4b19-a0df-7c7e7aafb5c8",
   "metadata": {},
   "source": [
    "#### pass is used to make any condition blank in case of loop, since you cannot leave a condition as it will throw an indentation error"
   ]
  },
  {
   "cell_type": "code",
   "execution_count": 34,
   "id": "1f58621a-ad5a-43e7-b482-bc0d227c8c80",
   "metadata": {},
   "outputs": [
    {
     "name": "stdout",
     "output_type": "stream",
     "text": [
      "1 is Odd\n",
      "3 is Odd\n",
      "5 is Odd\n",
      "7 is Odd\n"
     ]
    }
   ],
   "source": [
    "for i in range(1,9):\n",
    "    if i%2 == 0:\n",
    "        pass                              # pass means dont do anything just pass\n",
    "    else :\n",
    "        print(f'{i} is Odd')"
   ]
  },
  {
   "cell_type": "markdown",
   "id": "74449517-bae8-4502-b13e-2438dffe3b9a",
   "metadata": {},
   "source": [
    "##### Create a GPAY kind of function to transfer the money"
   ]
  },
  {
   "cell_type": "code",
   "execution_count": 40,
   "id": "74e691d0-28f4-4028-a6c0-8ad24b37b9f0",
   "metadata": {},
   "outputs": [
    {
     "name": "stdin",
     "output_type": "stream",
     "text": [
      "Do you want to transfer the amount yes\n",
      "Enter the amount you want to transfer 10000\n"
     ]
    },
    {
     "name": "stdout",
     "output_type": "stream",
     "text": [
      "Them amount you are transferring is 10000\n"
     ]
    },
    {
     "name": "stdin",
     "output_type": "stream",
     "text": [
      "Do you want to transfer the amount no\n"
     ]
    }
   ],
   "source": [
    "while True:\n",
    "    ans=input('Do you want to transfer the amount')\n",
    "    if ans.lower()=='yes':\n",
    "        amt=eval(input('Enter the amount you want to transfer'))\n",
    "        print(f'Them amount you are transferring is {amt}')\n",
    "    else :\n",
    "        break\n",
    "        "
   ]
  },
  {
   "cell_type": "markdown",
   "id": "3e732aec-5358-486b-a2fd-fee5867e629a",
   "metadata": {},
   "source": [
    "## Else in Loops"
   ]
  },
  {
   "cell_type": "markdown",
   "id": "f1643f33-cb70-4961-b293-4466ccf939ad",
   "metadata": {},
   "source": [
    "##### else in loops is used to identify if the loop is completely executed or not"
   ]
  },
  {
   "cell_type": "code",
   "execution_count": 45,
   "id": "deafe810-9160-43cc-9f1f-39d72b981294",
   "metadata": {},
   "outputs": [
    {
     "name": "stdout",
     "output_type": "stream",
     "text": [
      "1\n",
      "2\n",
      "loop completed\n"
     ]
    }
   ],
   "source": [
    "for i in range(1,10):\n",
    "    if i == 3:\n",
    "        break\n",
    "    print(i)\n",
    "print('loop completed')"
   ]
  },
  {
   "cell_type": "code",
   "execution_count": 44,
   "id": "16533ab0-a309-4380-92e7-fe08e61b31d2",
   "metadata": {},
   "outputs": [
    {
     "name": "stdout",
     "output_type": "stream",
     "text": [
      "1\n",
      "2\n"
     ]
    }
   ],
   "source": [
    "for i in range(1,10):\n",
    "    if i == 3:\n",
    "        break;\n",
    "    print(i)\n",
    "else :\n",
    "    print('loop completed')"
   ]
  },
  {
   "cell_type": "code",
   "execution_count": 46,
   "id": "cc8d8891-651c-4c51-a51d-9843c90fc3a9",
   "metadata": {},
   "outputs": [
    {
     "name": "stdout",
     "output_type": "stream",
     "text": [
      "1\n",
      "2\n",
      "4\n",
      "5\n",
      "6\n",
      "7\n",
      "8\n",
      "9\n",
      "loop completed\n"
     ]
    }
   ],
   "source": [
    "for i in range(1,10):\n",
    "    if i == 3:\n",
    "        continue\n",
    "    print(i)\n",
    "else :\n",
    "    print('loop completed')"
   ]
  },
  {
   "cell_type": "markdown",
   "id": "8c7e0c53-ed85-4afb-aa7b-a74801f5bc9a",
   "metadata": {},
   "source": [
    "#### Here we can see whenever the loop is getting completed executed for all the iterations else statement is getting executed"
   ]
  },
  {
   "cell_type": "code",
   "execution_count": null,
   "id": "76b5d26c-41d5-40a4-ac8b-702be5a1d998",
   "metadata": {},
   "outputs": [],
   "source": []
  },
  {
   "cell_type": "code",
   "execution_count": 47,
   "id": "34d3b7de-d25c-48a3-987c-ef2da063675c",
   "metadata": {},
   "outputs": [],
   "source": [
    "### a number is prime / not"
   ]
  },
  {
   "cell_type": "code",
   "execution_count": 48,
   "id": "78dc54f0-56f8-4344-821a-408ae5035150",
   "metadata": {},
   "outputs": [],
   "source": [
    "import math"
   ]
  },
  {
   "cell_type": "code",
   "execution_count": 51,
   "id": "bf4cd01e-5f2b-469d-b6b8-6840fbf979d3",
   "metadata": {},
   "outputs": [
    {
     "data": {
      "text/plain": [
       "3.1622776601683795"
      ]
     },
     "execution_count": 51,
     "metadata": {},
     "output_type": "execute_result"
    }
   ],
   "source": [
    "math.sqrt(10)"
   ]
  },
  {
   "cell_type": "code",
   "execution_count": 59,
   "id": "54bd0204-363e-474a-9654-327ab166171b",
   "metadata": {},
   "outputs": [
    {
     "name": "stdin",
     "output_type": "stream",
     "text": [
      "Enter the number to be checked 13\n"
     ]
    },
    {
     "name": "stdout",
     "output_type": "stream",
     "text": [
      "13 is a Prime Number\n"
     ]
    }
   ],
   "source": [
    "num = eval(input('Enter the number to be checked'))\n",
    "for i in range (2,num//2):\n",
    "    if num%i==0:\n",
    "        print(f'{num} is not a prime number')\n",
    "        break;\n",
    "else:\n",
    "    print(f'{num} is a Prime Number')"
   ]
  },
  {
   "cell_type": "code",
   "execution_count": 58,
   "id": "d29ca5a4-f499-4f0b-b75f-ff3dc6ffb322",
   "metadata": {},
   "outputs": [],
   "source": [
    "# num // 2 means floor division i.e 13//2 = 6 "
   ]
  },
  {
   "cell_type": "code",
   "execution_count": 61,
   "id": "4fbeb525-bbf0-4b73-8ac3-892a5e7ba663",
   "metadata": {},
   "outputs": [
    {
     "data": {
      "application/javascript": [
       "IPython.notebook.set_autosave_interval(5000)"
      ]
     },
     "metadata": {},
     "output_type": "display_data"
    },
    {
     "name": "stdout",
     "output_type": "stream",
     "text": [
      "Autosaving every 5 seconds\n"
     ]
    }
   ],
   "source": [
    "%autosave 5"
   ]
  },
  {
   "cell_type": "code",
   "execution_count": null,
   "id": "880afade-acec-4c3d-9772-4d8425206c54",
   "metadata": {},
   "outputs": [],
   "source": []
  }
 ],
 "metadata": {
  "kernelspec": {
   "display_name": "Python 3 (ipykernel)",
   "language": "python",
   "name": "python3"
  },
  "language_info": {
   "codemirror_mode": {
    "name": "ipython",
    "version": 3
   },
   "file_extension": ".py",
   "mimetype": "text/x-python",
   "name": "python",
   "nbconvert_exporter": "python",
   "pygments_lexer": "ipython3",
   "version": "3.11.7"
  }
 },
 "nbformat": 4,
 "nbformat_minor": 5
}
