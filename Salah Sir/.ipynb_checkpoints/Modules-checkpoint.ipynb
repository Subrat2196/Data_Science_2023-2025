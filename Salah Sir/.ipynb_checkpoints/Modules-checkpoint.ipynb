{
 "cells": [
  {
   "cell_type": "markdown",
   "id": "89de5df4-3b5e-4cb7-8ace-0a9808528ffc",
   "metadata": {},
   "source": [
    "NumPy Panda etc were also modules but it became libraries because they were public"
   ]
  },
  {
   "cell_type": "markdown",
   "id": "04981c5f-ee92-4167-a00b-31e27a6bedf9",
   "metadata": {},
   "source": [
    "## Different methods to import a module"
   ]
  },
  {
   "cell_type": "code",
   "execution_count": 1,
   "id": "2b7a4a6a-3064-4e75-926e-17026510fc6e",
   "metadata": {},
   "outputs": [
    {
     "name": "stdout",
     "output_type": "stream",
     "text": [
      "['In', 'Out', '_', '__', '___', '__builtin__', '__builtins__', '__doc__', '__loader__', '__name__', '__package__', '__session__', '__spec__', '_dh', '_i', '_i1', '_ih', '_ii', '_iii', '_oh', 'exit', 'get_ipython', 'open', 'quit']\n"
     ]
    }
   ],
   "source": [
    "print(dir())"
   ]
  },
  {
   "cell_type": "markdown",
   "id": "a7d0715e-09b8-409b-ae2d-dca41e1dab25",
   "metadata": {},
   "source": [
    "### 1st method to import the module"
   ]
  },
  {
   "cell_type": "code",
   "execution_count": 2,
   "id": "c063ac40-55cd-40d1-9073-4389f865d735",
   "metadata": {},
   "outputs": [
    {
     "name": "stdout",
     "output_type": "stream",
     "text": [
      "['In', 'Out', '_', '__', '___', '__builtin__', '__builtins__', '__doc__', '__loader__', '__name__', '__package__', '__session__', '__spec__', '_dh', '_i', '_i1', '_i2', '_ih', '_ii', '_iii', '_oh', 'exit', 'get_ipython', 'open', 'quit']\n"
     ]
    }
   ],
   "source": [
    "print(dir())   # This is the memory before i have imported "
   ]
  },
  {
   "cell_type": "code",
   "execution_count": 3,
   "id": "89397b05-1aab-4dda-8df7-cabbcc7860c6",
   "metadata": {},
   "outputs": [],
   "source": [
    "import math "
   ]
  },
  {
   "cell_type": "code",
   "execution_count": 5,
   "id": "daded6cd-18a1-4df2-a919-f4c6e0628e0f",
   "metadata": {},
   "outputs": [
    {
     "name": "stdout",
     "output_type": "stream",
     "text": [
      "['In', 'Out', '_', '__', '___', '__builtin__', '__builtins__', '__doc__', '__loader__', '__name__', '__package__', '__session__', '__spec__', '_dh', '_i', '_i1', '_i2', '_i3', '_i4', '_i5', '_ih', '_ii', '_iii', '_oh', 'exit', 'get_ipython', 'math', 'open', 'quit']\n"
     ]
    }
   ],
   "source": [
    "print(dir())  # this is the memory after i have imported"
   ]
  },
  {
   "cell_type": "code",
   "execution_count": 6,
   "id": "04d4882c-2c59-44d1-8705-ac2d80b1d25a",
   "metadata": {},
   "outputs": [
    {
     "name": "stdout",
     "output_type": "stream",
     "text": [
      "['__doc__', '__loader__', '__name__', '__package__', '__spec__', 'acos', 'acosh', 'asin', 'asinh', 'atan', 'atan2', 'atanh', 'cbrt', 'ceil', 'comb', 'copysign', 'cos', 'cosh', 'degrees', 'dist', 'e', 'erf', 'erfc', 'exp', 'exp2', 'expm1', 'fabs', 'factorial', 'floor', 'fmod', 'frexp', 'fsum', 'gamma', 'gcd', 'hypot', 'inf', 'isclose', 'isfinite', 'isinf', 'isnan', 'isqrt', 'lcm', 'ldexp', 'lgamma', 'log', 'log10', 'log1p', 'log2', 'modf', 'nan', 'nextafter', 'perm', 'pi', 'pow', 'prod', 'radians', 'remainder', 'sin', 'sinh', 'sqrt', 'tan', 'tanh', 'tau', 'trunc', 'ulp']\n"
     ]
    }
   ],
   "source": [
    "print(dir(math))"
   ]
  },
  {
   "cell_type": "code",
   "execution_count": 8,
   "id": "cf56287d-c97b-483d-aaed-e411cf491b8a",
   "metadata": {},
   "outputs": [
    {
     "data": {
      "text/plain": [
       "3.1622776601683795"
      ]
     },
     "execution_count": 8,
     "metadata": {},
     "output_type": "execute_result"
    }
   ],
   "source": [
    "math.sqrt(10) # Getting inside the math module using dot operator"
   ]
  },
  {
   "cell_type": "markdown",
   "id": "f1033cca-e271-4e92-9cbc-6aa61a5387e0",
   "metadata": {},
   "source": [
    "#### Everytime we need to go inside math"
   ]
  },
  {
   "cell_type": "markdown",
   "id": "b47f4e29-f0c2-4858-8537-c86e60ff8722",
   "metadata": {},
   "source": [
    "## 2nd method"
   ]
  },
  {
   "cell_type": "markdown",
   "id": "8710d11b-cb27-4143-83c3-24749bc84492",
   "metadata": {},
   "source": [
    "To solve this we do as ->"
   ]
  },
  {
   "cell_type": "code",
   "execution_count": 9,
   "id": "2acda0a4-409f-4813-8472-c960924ca32f",
   "metadata": {},
   "outputs": [],
   "source": [
    "from math import *"
   ]
  },
  {
   "cell_type": "code",
   "execution_count": 13,
   "id": "485650da-e8a1-4414-b427-a0fb99370368",
   "metadata": {},
   "outputs": [
    {
     "data": {
      "text/plain": [
       "3.1622776601683795"
      ]
     },
     "execution_count": 13,
     "metadata": {},
     "output_type": "execute_result"
    }
   ],
   "source": [
    "sqrt(10)"
   ]
  },
  {
   "cell_type": "code",
   "execution_count": 10,
   "id": "5b8ceabc-b380-436b-9d18-ba8ce70a1107",
   "metadata": {},
   "outputs": [
    {
     "name": "stdout",
     "output_type": "stream",
     "text": [
      "['In', 'Out', '_', '_7', '_8', '__', '___', '__builtin__', '__builtins__', '__doc__', '__loader__', '__name__', '__package__', '__session__', '__spec__', '_dh', '_i', '_i1', '_i10', '_i2', '_i3', '_i4', '_i5', '_i6', '_i7', '_i8', '_i9', '_ih', '_ii', '_iii', '_oh', 'acos', 'acosh', 'asin', 'asinh', 'atan', 'atan2', 'atanh', 'cbrt', 'ceil', 'comb', 'copysign', 'cos', 'cosh', 'degrees', 'dist', 'e', 'erf', 'erfc', 'exit', 'exp', 'exp2', 'expm1', 'fabs', 'factorial', 'floor', 'fmod', 'frexp', 'fsum', 'gamma', 'gcd', 'get_ipython', 'hypot', 'inf', 'isclose', 'isfinite', 'isinf', 'isnan', 'isqrt', 'lcm', 'ldexp', 'lgamma', 'log', 'log10', 'log1p', 'log2', 'math', 'modf', 'nan', 'nextafter', 'open', 'perm', 'pi', 'pow', 'prod', 'quit', 'radians', 'remainder', 'sin', 'sinh', 'sqrt', 'tan', 'tanh', 'tau', 'trunc', 'ulp']\n"
     ]
    }
   ],
   "source": [
    "print(dir())"
   ]
  },
  {
   "cell_type": "markdown",
   "id": "45ac988c-9f6b-44cd-8c40-d92d4e9b05f1",
   "metadata": {},
   "source": [
    "##### We have so many functions that we dont want in the memory"
   ]
  },
  {
   "cell_type": "markdown",
   "id": "c7ebe25b-a51e-4606-b222-dfda1fd87408",
   "metadata": {},
   "source": [
    "To solve this we use the third method"
   ]
  },
  {
   "cell_type": "markdown",
   "id": "aab1f47d-fb24-4793-85e8-5f66cae52c20",
   "metadata": {},
   "source": [
    "## 3rd method"
   ]
  },
  {
   "cell_type": "code",
   "execution_count": 12,
   "id": "5a1d95c9-6413-4ce9-8133-1a0213a64ddb",
   "metadata": {},
   "outputs": [],
   "source": [
    "from math import sqrt,remainder"
   ]
  },
  {
   "cell_type": "code",
   "execution_count": 15,
   "id": "152e6d2b-8564-4517-853e-eb5b156a71c9",
   "metadata": {},
   "outputs": [
    {
     "data": {
      "text/plain": [
       "3.1622776601683795"
      ]
     },
     "execution_count": 15,
     "metadata": {},
     "output_type": "execute_result"
    }
   ],
   "source": [
    "sqrt(10)"
   ]
  },
  {
   "cell_type": "markdown",
   "id": "bc323dba-d125-47b2-beb4-179e60f58687",
   "metadata": {},
   "source": [
    "##### Now if we have lot of modules we can do aliasing "
   ]
  },
  {
   "cell_type": "markdown",
   "id": "1061dc2e-69f1-4ba5-9d20-4aa6d8955cbf",
   "metadata": {},
   "source": [
    "## 4th method"
   ]
  },
  {
   "cell_type": "code",
   "execution_count": 18,
   "id": "1a35c3fa-92f5-4193-9901-4e2f88a5833a",
   "metadata": {},
   "outputs": [],
   "source": [
    "import math as mt"
   ]
  },
  {
   "cell_type": "code",
   "execution_count": 23,
   "id": "21d8893e-6e80-43eb-91cf-ae114651da1c",
   "metadata": {},
   "outputs": [],
   "source": [
    "from math import sqrt as sq"
   ]
  },
  {
   "cell_type": "code",
   "execution_count": 24,
   "id": "35b3c2ff-81d5-46ce-bba8-5552243fa14b",
   "metadata": {},
   "outputs": [
    {
     "data": {
      "text/plain": [
       "4.47213595499958"
      ]
     },
     "execution_count": 24,
     "metadata": {},
     "output_type": "execute_result"
    }
   ],
   "source": [
    "sq(20)"
   ]
  },
  {
   "cell_type": "code",
   "execution_count": 22,
   "id": "f49c53d8-3ffe-4546-9d8c-51e50109db49",
   "metadata": {},
   "outputs": [
    {
     "name": "stdout",
     "output_type": "stream",
     "text": [
      "['In', 'Out', '_', '_13', '_15', '_21', '_7', '_8', '__', '___', '__builtin__', '__builtins__', '__doc__', '__loader__', '__name__', '__package__', '__session__', '__spec__', '_dh', '_i', '_i1', '_i10', '_i11', '_i12', '_i13', '_i14', '_i15', '_i16', '_i17', '_i18', '_i19', '_i2', '_i20', '_i21', '_i22', '_i3', '_i4', '_i5', '_i6', '_i7', '_i8', '_i9', '_ih', '_ii', '_iii', '_oh', 'acos', 'acosh', 'asin', 'asinh', 'atan', 'atan2', 'atanh', 'cbrt', 'ceil', 'comb', 'copysign', 'cos', 'cosh', 'degrees', 'dist', 'e', 'erf', 'erfc', 'exit', 'exp', 'exp2', 'expm1', 'fabs', 'factorial', 'floor', 'fmod', 'frexp', 'fsum', 'gamma', 'gcd', 'get_ipython', 'hypot', 'inf', 'isclose', 'isfinite', 'isinf', 'isnan', 'isqrt', 'lcm', 'ldexp', 'lgamma', 'log', 'log10', 'log1p', 'log2', 'math', 'modf', 'mt', 'nan', 'nextafter', 'open', 'perm', 'pi', 'pow', 'prod', 'quit', 'radians', 'remainder', 'sin', 'sinh', 'sqrt', 'tan', 'tanh', 'tau', 'trunc', 'ulp']\n"
     ]
    }
   ],
   "source": [
    "print(dir())"
   ]
  },
  {
   "cell_type": "code",
   "execution_count": null,
   "id": "543d07d9-d1a8-4cde-9739-44ce8da66e6a",
   "metadata": {},
   "outputs": [],
   "source": []
  },
  {
   "cell_type": "markdown",
   "id": "5f706020-0a2e-475a-ac0c-bc39a5b26187",
   "metadata": {},
   "source": [
    "## User Defined Module"
   ]
  },
  {
   "cell_type": "code",
   "execution_count": 29,
   "id": "79188325-f2e3-47f8-aceb-1402de1a3232",
   "metadata": {},
   "outputs": [],
   "source": [
    "import credit_card_module as ccm"
   ]
  },
  {
   "cell_type": "code",
   "execution_count": 26,
   "id": "268598ce-c8c8-4aec-963d-ba6a424657a8",
   "metadata": {},
   "outputs": [
    {
     "name": "stdout",
     "output_type": "stream",
     "text": [
      "['In', 'Out', '_', '_13', '_15', '_21', '_24', '_7', '_8', '__', '___', '__builtin__', '__builtins__', '__doc__', '__loader__', '__name__', '__package__', '__session__', '__spec__', '_dh', '_i', '_i1', '_i10', '_i11', '_i12', '_i13', '_i14', '_i15', '_i16', '_i17', '_i18', '_i19', '_i2', '_i20', '_i21', '_i22', '_i23', '_i24', '_i25', '_i26', '_i3', '_i4', '_i5', '_i6', '_i7', '_i8', '_i9', '_ih', '_ii', '_iii', '_oh', 'acos', 'acosh', 'asin', 'asinh', 'atan', 'atan2', 'atanh', 'cbrt', 'ceil', 'comb', 'copysign', 'cos', 'cosh', 'credit_card_module', 'degrees', 'dist', 'e', 'erf', 'erfc', 'exit', 'exp', 'exp2', 'expm1', 'fabs', 'factorial', 'floor', 'fmod', 'frexp', 'fsum', 'gamma', 'gcd', 'get_ipython', 'hypot', 'inf', 'isclose', 'isfinite', 'isinf', 'isnan', 'isqrt', 'lcm', 'ldexp', 'lgamma', 'log', 'log10', 'log1p', 'log2', 'math', 'modf', 'mt', 'nan', 'nextafter', 'open', 'perm', 'pi', 'pow', 'prod', 'quit', 'radians', 'remainder', 'sin', 'sinh', 'sq', 'sqrt', 'tan', 'tanh', 'tau', 'trunc', 'ulp']\n"
     ]
    }
   ],
   "source": [
    "print(dir())"
   ]
  },
  {
   "cell_type": "code",
   "execution_count": 27,
   "id": "485201df-0bb2-46c2-9e65-7224df9e1f84",
   "metadata": {},
   "outputs": [
    {
     "name": "stdout",
     "output_type": "stream",
     "text": [
      "['__builtins__', '__cached__', '__doc__', '__file__', '__loader__', '__name__', '__package__', '__spec__', 'adder', 'palindrome']\n"
     ]
    }
   ],
   "source": [
    "print(dir(credit_card_module))"
   ]
  },
  {
   "cell_type": "code",
   "execution_count": 28,
   "id": "0596193c-d6a1-4269-917f-8ee59d9ef4fc",
   "metadata": {},
   "outputs": [
    {
     "name": "stdout",
     "output_type": "stream",
     "text": [
      " Volume in drive C is OS\n",
      " Volume Serial Number is 6CA5-C2C4\n",
      "\n",
      " Directory of C:\\Users\\Anonymous\\Desktop\\LEARNBAY 2024\\Salah Sir\n",
      "\n",
      "11-06-2024  20:43    <DIR>          .\n",
      "09-06-2024  13:35    <DIR>          ..\n",
      "11-06-2024  20:33    <DIR>          .ipynb_checkpoints\n",
      "11-06-2024  20:43    <DIR>          __pycache__\n",
      "11-06-2024  20:42               126 credit_card_module.py\n",
      "11-06-2024  20:33             3,741 Functions.ipynb\n",
      "08-06-2024  18:11            22,938 List_Part_1.ipynb\n",
      "11-06-2024  07:00            15,285 Loops_Class.ipynb\n",
      "11-06-2024  20:43            12,084 Modules.ipynb\n",
      "               5 File(s)         54,174 bytes\n",
      "               4 Dir(s)  126,058,729,472 bytes free\n"
     ]
    }
   ],
   "source": [
    "ls"
   ]
  },
  {
   "cell_type": "code",
   "execution_count": 35,
   "id": "59941082-1ff2-48fa-b951-20b7379c486b",
   "metadata": {},
   "outputs": [
    {
     "name": "stdout",
     "output_type": "stream",
     "text": [
      "No\n"
     ]
    }
   ],
   "source": [
    "ccm.palindrome('Hello')"
   ]
  },
  {
   "cell_type": "code",
   "execution_count": 36,
   "id": "1d4b7105-d022-46cc-ab88-b0f3b248a86f",
   "metadata": {},
   "outputs": [
    {
     "name": "stdout",
     "output_type": "stream",
     "text": [
      "No\n"
     ]
    }
   ],
   "source": [
    "ccm.palindrome('YEYEY')"
   ]
  },
  {
   "cell_type": "code",
   "execution_count": null,
   "id": "66271c8a-046a-425a-bd99-fc092e6cbabb",
   "metadata": {},
   "outputs": [],
   "source": []
  }
 ],
 "metadata": {
  "kernelspec": {
   "display_name": "Python 3 (ipykernel)",
   "language": "python",
   "name": "python3"
  },
  "language_info": {
   "codemirror_mode": {
    "name": "ipython",
    "version": 3
   },
   "file_extension": ".py",
   "mimetype": "text/x-python",
   "name": "python",
   "nbconvert_exporter": "python",
   "pygments_lexer": "ipython3",
   "version": "3.11.7"
  }
 },
 "nbformat": 4,
 "nbformat_minor": 5
}
