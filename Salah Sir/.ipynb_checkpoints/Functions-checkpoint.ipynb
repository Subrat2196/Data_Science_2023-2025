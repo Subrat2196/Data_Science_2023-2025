{
 "cells": [
  {
   "cell_type": "code",
   "execution_count": 1,
   "id": "4a6294ce-6f77-469f-ba36-4721e6cef255",
   "metadata": {},
   "outputs": [
    {
     "data": {
      "application/javascript": [
       "IPython.notebook.set_autosave_interval(5000)"
      ]
     },
     "metadata": {},
     "output_type": "display_data"
    },
    {
     "name": "stdout",
     "output_type": "stream",
     "text": [
      "Autosaving every 5 seconds\n"
     ]
    }
   ],
   "source": [
    "%autosave 5"
   ]
  },
  {
   "cell_type": "code",
   "execution_count": 5,
   "id": "b9fbe2bc-5de7-42e4-8159-c91b38956c1d",
   "metadata": {},
   "outputs": [
    {
     "name": "stdout",
     "output_type": "stream",
     "text": [
      "Yes it is palindrome\n"
     ]
    },
    {
     "name": "stdin",
     "output_type": "stream",
     "text": [
      " 1\n",
      " 2\n"
     ]
    },
    {
     "name": "stdout",
     "output_type": "stream",
     "text": [
      "3\n"
     ]
    }
   ],
   "source": [
    "# Task1 -> Find Palindrome or not\n",
    "\n",
    "x='PyPyP'\n",
    "if x==x[::-1]:\n",
    "    print('Yes it is palindrome')\n",
    "else:\n",
    "    print('No it is not a palindrome')\n",
    "        \n",
    "\n",
    "# Task2 -> add 2 numbers\n",
    "a = eval(input())\n",
    "b = eval(input())\n",
    "print(a+b)\n",
    "\n",
    "# Task3 -> Find palindrome for some other string\n",
    "\n",
    "\n",
    "# Task4 -> add some other 2 numbers"
   ]
  },
  {
   "cell_type": "markdown",
   "id": "2303fc60-8ea7-4415-8c42-84c9983b5c83",
   "metadata": {},
   "source": [
    "##### To avoid the repetition of code and make it modular we use functions"
   ]
  },
  {
   "cell_type": "code",
   "execution_count": null,
   "id": "60ed7d62-4519-48e7-b54a-bac9b87d5a7b",
   "metadata": {},
   "outputs": [],
   "source": []
  },
  {
   "cell_type": "code",
   "execution_count": null,
   "id": "29db88b6-310c-4820-ba52-d737defe5b19",
   "metadata": {},
   "outputs": [],
   "source": []
  },
  {
   "cell_type": "markdown",
   "id": "8e2cc4c3-57ff-448d-87f4-21b47c32ee1b",
   "metadata": {},
   "source": [
    "# Syntax"
   ]
  },
  {
   "cell_type": "markdown",
   "id": "9065912b-b5b0-4201-b6b3-c70abf61c0c7",
   "metadata": {},
   "source": [
    "1. Function definition\n",
    "2. function calling"
   ]
  },
  {
   "cell_type": "code",
   "execution_count": 1,
   "id": "8429b429-89a7-4350-9c4d-dacd579089a9",
   "metadata": {},
   "outputs": [],
   "source": [
    "def adder(a,b):\n",
    "    print(a+b)"
   ]
  },
  {
   "cell_type": "code",
   "execution_count": 2,
   "id": "08a7f04c-9555-4458-b339-a45ab1b513e9",
   "metadata": {},
   "outputs": [],
   "source": [
    "def palindrome(a):\n",
    "    if a == a[::-1]:\n",
    "        print('Yes')\n",
    "    else:\n",
    "        print('No')"
   ]
  },
  {
   "cell_type": "code",
   "execution_count": 5,
   "id": "9eb05ace-857f-4bb6-8852-e5188badec16",
   "metadata": {},
   "outputs": [
    {
     "name": "stdout",
     "output_type": "stream",
     "text": [
      "Yes\n"
     ]
    }
   ],
   "source": [
    "palindrome('HelleH')"
   ]
  },
  {
   "cell_type": "code",
   "execution_count": null,
   "id": "1825fd46-88dc-4fad-adab-102b777f54e3",
   "metadata": {},
   "outputs": [],
   "source": []
  }
 ],
 "metadata": {
  "kernelspec": {
   "display_name": "Python 3 (ipykernel)",
   "language": "python",
   "name": "python3"
  },
  "language_info": {
   "codemirror_mode": {
    "name": "ipython",
    "version": 3
   },
   "file_extension": ".py",
   "mimetype": "text/x-python",
   "name": "python",
   "nbconvert_exporter": "python",
   "pygments_lexer": "ipython3",
   "version": "3.11.7"
  }
 },
 "nbformat": 4,
 "nbformat_minor": 5
}
