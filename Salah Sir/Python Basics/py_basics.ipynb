{
 "cells": [
  {
   "cell_type": "code",
   "execution_count": 1,
   "id": "2e476899-a5f0-4857-aaf1-bca54f3c05fc",
   "metadata": {},
   "outputs": [],
   "source": [
    "a = 5"
   ]
  },
  {
   "cell_type": "code",
   "execution_count": 2,
   "id": "03f6f8cf-eed8-45dc-833a-f89ef11f646e",
   "metadata": {},
   "outputs": [
    {
     "data": {
      "text/plain": [
       "5"
      ]
     },
     "execution_count": 2,
     "metadata": {},
     "output_type": "execute_result"
    }
   ],
   "source": [
    "a"
   ]
  },
  {
   "cell_type": "code",
   "execution_count": 3,
   "id": "78af928d-afda-4ed6-87e1-b6d5a381aa16",
   "metadata": {},
   "outputs": [
    {
     "data": {
      "text/plain": [
       "True"
      ]
     },
     "execution_count": 3,
     "metadata": {},
     "output_type": "execute_result"
    }
   ],
   "source": [
    "bool(a)"
   ]
  },
  {
   "cell_type": "code",
   "execution_count": 6,
   "id": "6d654080-b144-44b9-87f0-a809b8a81c4a",
   "metadata": {},
   "outputs": [],
   "source": [
    "a=float(a)"
   ]
  },
  {
   "cell_type": "code",
   "execution_count": 7,
   "id": "9185ebd0-1956-49bc-98a2-1db0df0db4d9",
   "metadata": {},
   "outputs": [
    {
     "data": {
      "text/plain": [
       "5.0"
      ]
     },
     "execution_count": 7,
     "metadata": {},
     "output_type": "execute_result"
    }
   ],
   "source": [
    "a"
   ]
  },
  {
   "cell_type": "code",
   "execution_count": 26,
   "id": "25bc2cf6-1f44-4056-a966-796d0ef76393",
   "metadata": {},
   "outputs": [],
   "source": [
    "a=5"
   ]
  },
  {
   "cell_type": "code",
   "execution_count": 27,
   "id": "61aaedaf-acc8-4cf5-a785-5c333d07804a",
   "metadata": {},
   "outputs": [],
   "source": [
    "a=bin(a)"
   ]
  },
  {
   "cell_type": "code",
   "execution_count": 28,
   "id": "6e81af10-f928-43df-8425-1e0aaad4c6f2",
   "metadata": {},
   "outputs": [
    {
     "data": {
      "text/plain": [
       "'0b101'"
      ]
     },
     "execution_count": 28,
     "metadata": {},
     "output_type": "execute_result"
    }
   ],
   "source": [
    "a"
   ]
  },
  {
   "cell_type": "code",
   "execution_count": 29,
   "id": "2358d754-59f1-4947-b36b-a0bb6df8d17a",
   "metadata": {},
   "outputs": [],
   "source": [
    "a=int(a,2)   # Here we can use what to convert in base 2 , since binary"
   ]
  },
  {
   "cell_type": "code",
   "execution_count": 30,
   "id": "3044efdc-b4b3-48a1-9f37-6d82e8f57c25",
   "metadata": {},
   "outputs": [
    {
     "data": {
      "text/plain": [
       "5"
      ]
     },
     "execution_count": 30,
     "metadata": {},
     "output_type": "execute_result"
    }
   ],
   "source": [
    "a"
   ]
  },
  {
   "cell_type": "code",
   "execution_count": 31,
   "id": "abede928-db12-4b1c-b940-591283d60d1f",
   "metadata": {},
   "outputs": [
    {
     "data": {
      "text/plain": [
       "'0x5'"
      ]
     },
     "execution_count": 31,
     "metadata": {},
     "output_type": "execute_result"
    }
   ],
   "source": [
    "hex(a)"
   ]
  },
  {
   "cell_type": "code",
   "execution_count": 32,
   "id": "0c9f2fd7-d37b-4d60-a3ac-9952874da37a",
   "metadata": {},
   "outputs": [
    {
     "data": {
      "text/plain": [
       "'0o5'"
      ]
     },
     "execution_count": 32,
     "metadata": {},
     "output_type": "execute_result"
    }
   ],
   "source": [
    "oct(a)"
   ]
  },
  {
   "cell_type": "code",
   "execution_count": 34,
   "id": "8a8b3eac-6d0d-4a21-b416-84c9e1fd5c4f",
   "metadata": {},
   "outputs": [
    {
     "data": {
      "text/plain": [
       "9"
      ]
     },
     "execution_count": 34,
     "metadata": {},
     "output_type": "execute_result"
    }
   ],
   "source": [
    "a = 3\n",
    "a ** 2"
   ]
  },
  {
   "cell_type": "code",
   "execution_count": 35,
   "id": "848fc552-dc46-4579-949e-4f90a89a92e7",
   "metadata": {},
   "outputs": [],
   "source": [
    "a = 9"
   ]
  },
  {
   "cell_type": "code",
   "execution_count": 36,
   "id": "2656a974-ad15-43b0-a5c3-4ca7820b58c3",
   "metadata": {},
   "outputs": [
    {
     "data": {
      "text/plain": [
       "3.0"
      ]
     },
     "execution_count": 36,
     "metadata": {},
     "output_type": "execute_result"
    }
   ],
   "source": [
    "a ** (1/2)"
   ]
  },
  {
   "cell_type": "markdown",
   "id": "4901ecc6-15c2-4feb-9ccb-954ad332687d",
   "metadata": {},
   "source": [
    "### Components in Python"
   ]
  },
  {
   "cell_type": "markdown",
   "id": "79f57515-7dc1-412d-b5bc-119f5d8555d7",
   "metadata": {},
   "source": [
    "Datatypes \n",
    "Keywords\n",
    "Reserve Words\n",
    "Comments\n",
    "Indentation\n",
    "Identifiers\n",
    "Variables\n",
    "Blocks of Coded"
   ]
  },
  {
   "cell_type": "markdown",
   "id": "924a37c3-5819-4b57-838c-2ad03396d59e",
   "metadata": {},
   "source": [
    "#### Rules of Identifier "
   ]
  },
  {
   "cell_type": "markdown",
   "id": "c6cef355-0c94-487c-af1b-9024dbfca7e9",
   "metadata": {},
   "source": [
    "Allowed characters -> A-Z , a-z , 0-9 (just not at the start), _ \n",
    "Not-Allowed character -> Space , special_character (!,@,#,$,%,^,&,*,(,),-,etc.)"
   ]
  },
  {
   "cell_type": "markdown",
   "id": "51df34eb-d9cd-4f0e-aca4-2a56515ea9a9",
   "metadata": {},
   "source": [
    "It cannot start with a number "
   ]
  },
  {
   "cell_type": "code",
   "execution_count": null,
   "id": "957c1628-bd9d-4ad1-9b8b-8efcd6b961d7",
   "metadata": {},
   "outputs": [],
   "source": []
  },
  {
   "cell_type": "code",
   "execution_count": 1,
   "id": "8fc8c17c-7456-4d4e-9555-6e9569a62968",
   "metadata": {},
   "outputs": [
    {
     "name": "stdout",
     "output_type": "stream",
     "text": [
      "<built-in function dir>\n"
     ]
    }
   ],
   "source": [
    "print(dir)"
   ]
  },
  {
   "cell_type": "code",
   "execution_count": 2,
   "id": "23ce57dc-5c46-4b68-b52e-8d03bf602eba",
   "metadata": {},
   "outputs": [
    {
     "name": "stdout",
     "output_type": "stream",
     "text": [
      "['ArithmeticError', 'AssertionError', 'AttributeError', 'BaseException', 'BaseExceptionGroup', 'BlockingIOError', 'BrokenPipeError', 'BufferError', 'BytesWarning', 'ChildProcessError', 'ConnectionAbortedError', 'ConnectionError', 'ConnectionRefusedError', 'ConnectionResetError', 'DeprecationWarning', 'EOFError', 'Ellipsis', 'EncodingWarning', 'EnvironmentError', 'Exception', 'ExceptionGroup', 'False', 'FileExistsError', 'FileNotFoundError', 'FloatingPointError', 'FutureWarning', 'GeneratorExit', 'IOError', 'ImportError', 'ImportWarning', 'IndentationError', 'IndexError', 'InterruptedError', 'IsADirectoryError', 'KeyError', 'KeyboardInterrupt', 'LookupError', 'MemoryError', 'ModuleNotFoundError', 'NameError', 'None', 'NotADirectoryError', 'NotImplemented', 'NotImplementedError', 'OSError', 'OverflowError', 'PendingDeprecationWarning', 'PermissionError', 'ProcessLookupError', 'RecursionError', 'ReferenceError', 'ResourceWarning', 'RuntimeError', 'RuntimeWarning', 'StopAsyncIteration', 'StopIteration', 'SyntaxError', 'SyntaxWarning', 'SystemError', 'SystemExit', 'TabError', 'TimeoutError', 'True', 'TypeError', 'UnboundLocalError', 'UnicodeDecodeError', 'UnicodeEncodeError', 'UnicodeError', 'UnicodeTranslateError', 'UnicodeWarning', 'UserWarning', 'ValueError', 'Warning', 'WindowsError', 'ZeroDivisionError', '__IPYTHON__', '__build_class__', '__debug__', '__doc__', '__import__', '__loader__', '__name__', '__package__', '__spec__', 'abs', 'aiter', 'all', 'anext', 'any', 'ascii', 'bin', 'bool', 'breakpoint', 'bytearray', 'bytes', 'callable', 'chr', 'classmethod', 'compile', 'complex', 'copyright', 'credits', 'delattr', 'dict', 'dir', 'display', 'divmod', 'enumerate', 'eval', 'exec', 'execfile', 'filter', 'float', 'format', 'frozenset', 'get_ipython', 'getattr', 'globals', 'hasattr', 'hash', 'help', 'hex', 'id', 'input', 'int', 'isinstance', 'issubclass', 'iter', 'len', 'license', 'list', 'locals', 'map', 'max', 'memoryview', 'min', 'next', 'object', 'oct', 'open', 'ord', 'pow', 'print', 'property', 'range', 'repr', 'reversed', 'round', 'runfile', 'set', 'setattr', 'slice', 'sorted', 'staticmethod', 'str', 'sum', 'super', 'tuple', 'type', 'vars', 'zip']\n"
     ]
    }
   ],
   "source": [
    "print(dir(__builtins__)) "
   ]
  },
  {
   "cell_type": "code",
   "execution_count": 3,
   "id": "51ac0f4b-11d8-47dc-af8f-05bef8a9472f",
   "metadata": {},
   "outputs": [
    {
     "name": "stdout",
     "output_type": "stream",
     "text": [
      "['__abs__', '__add__', '__and__', '__bool__', '__ceil__', '__class__', '__delattr__', '__dir__', '__divmod__', '__doc__', '__eq__', '__float__', '__floor__', '__floordiv__', '__format__', '__ge__', '__getattribute__', '__getnewargs__', '__getstate__', '__gt__', '__hash__', '__index__', '__init__', '__init_subclass__', '__int__', '__invert__', '__le__', '__lshift__', '__lt__', '__mod__', '__mul__', '__ne__', '__neg__', '__new__', '__or__', '__pos__', '__pow__', '__radd__', '__rand__', '__rdivmod__', '__reduce__', '__reduce_ex__', '__repr__', '__rfloordiv__', '__rlshift__', '__rmod__', '__rmul__', '__ror__', '__round__', '__rpow__', '__rrshift__', '__rshift__', '__rsub__', '__rtruediv__', '__rxor__', '__setattr__', '__sizeof__', '__str__', '__sub__', '__subclasshook__', '__truediv__', '__trunc__', '__xor__', 'as_integer_ratio', 'bit_count', 'bit_length', 'conjugate', 'denominator', 'from_bytes', 'imag', 'numerator', 'real', 'to_bytes']\n"
     ]
    }
   ],
   "source": [
    "print(dir(bool))"
   ]
  },
  {
   "cell_type": "markdown",
   "id": "0e2faa20-5b5f-4820-815e-53583ccfa18d",
   "metadata": {},
   "source": [
    "#### dir() function lists the current scope functions, variables, attributes and imported terms"
   ]
  },
  {
   "cell_type": "markdown",
   "id": "1ead11b9-c8fc-4134-a384-f9b06d874239",
   "metadata": {},
   "source": [
    "#### dir(object) - lists the attributes within the object"
   ]
  },
  {
   "cell_type": "code",
   "execution_count": 4,
   "id": "42ae10ea-9582-47e9-8ab7-60b5d02d66b9",
   "metadata": {},
   "outputs": [
    {
     "name": "stdout",
     "output_type": "stream",
     "text": [
      "['In', 'Out', '_', '__', '___', '__builtin__', '__builtins__', '__doc__', '__loader__', '__name__', '__package__', '__session__', '__spec__', '_dh', '_i', '_i1', '_i2', '_i3', '_i4', '_ih', '_ii', '_iii', '_oh', 'exit', 'get_ipython', 'open', 'quit']\n"
     ]
    }
   ],
   "source": [
    "print(dir())"
   ]
  },
  {
   "cell_type": "code",
   "execution_count": 5,
   "id": "edcca83b-1ea1-4913-8f7a-315161138d76",
   "metadata": {},
   "outputs": [
    {
     "name": "stdout",
     "output_type": "stream",
     "text": [
      "['__call__', '__class__', '__delattr__', '__dir__', '__doc__', '__eq__', '__format__', '__ge__', '__getattribute__', '__getstate__', '__gt__', '__hash__', '__init__', '__init_subclass__', '__le__', '__lt__', '__module__', '__name__', '__ne__', '__new__', '__qualname__', '__reduce__', '__reduce_ex__', '__repr__', '__self__', '__setattr__', '__sizeof__', '__str__', '__subclasshook__', '__text_signature__']\n"
     ]
    }
   ],
   "source": [
    "print(dir(sum))"
   ]
  },
  {
   "cell_type": "code",
   "execution_count": 10,
   "id": "badef842-fe6c-4dd0-b663-5d195bd9046e",
   "metadata": {},
   "outputs": [],
   "source": [
    "import math"
   ]
  },
  {
   "cell_type": "code",
   "execution_count": 11,
   "id": "9498dba5-edda-47e6-aa36-1386a358435d",
   "metadata": {},
   "outputs": [
    {
     "name": "stdout",
     "output_type": "stream",
     "text": [
      "['__doc__', '__loader__', '__name__', '__package__', '__spec__', 'acos', 'acosh', 'asin', 'asinh', 'atan', 'atan2', 'atanh', 'cbrt', 'ceil', 'comb', 'copysign', 'cos', 'cosh', 'degrees', 'dist', 'e', 'erf', 'erfc', 'exp', 'exp2', 'expm1', 'fabs', 'factorial', 'floor', 'fmod', 'frexp', 'fsum', 'gamma', 'gcd', 'hypot', 'inf', 'isclose', 'isfinite', 'isinf', 'isnan', 'isqrt', 'lcm', 'ldexp', 'lgamma', 'log', 'log10', 'log1p', 'log2', 'modf', 'nan', 'nextafter', 'perm', 'pi', 'pow', 'prod', 'radians', 'remainder', 'sin', 'sinh', 'sqrt', 'tan', 'tanh', 'tau', 'trunc', 'ulp']\n"
     ]
    }
   ],
   "source": [
    "print(dir(math))"
   ]
  },
  {
   "cell_type": "markdown",
   "id": "e4952f60-b6c4-4ad7-ab31-acf3b1e7c8da",
   "metadata": {},
   "source": [
    "###### Here we used dir method to inspect a module of it's functionalities"
   ]
  },
  {
   "cell_type": "code",
   "execution_count": 13,
   "id": "128056ee-6c10-4d01-ab04-8132f1a25330",
   "metadata": {},
   "outputs": [
    {
     "name": "stdout",
     "output_type": "stream",
     "text": [
      "['__add__', '__class__', '__contains__', '__delattr__', '__dir__', '__doc__', '__eq__', '__format__', '__ge__', '__getattribute__', '__getitem__', '__getnewargs__', '__getstate__', '__gt__', '__hash__', '__init__', '__init_subclass__', '__iter__', '__le__', '__len__', '__lt__', '__mod__', '__mul__', '__ne__', '__new__', '__reduce__', '__reduce_ex__', '__repr__', '__rmod__', '__rmul__', '__setattr__', '__sizeof__', '__str__', '__subclasshook__', 'capitalize', 'casefold', 'center', 'count', 'encode', 'endswith', 'expandtabs', 'find', 'format', 'format_map', 'index', 'isalnum', 'isalpha', 'isascii', 'isdecimal', 'isdigit', 'isidentifier', 'islower', 'isnumeric', 'isprintable', 'isspace', 'istitle', 'isupper', 'join', 'ljust', 'lower', 'lstrip', 'maketrans', 'partition', 'removeprefix', 'removesuffix', 'replace', 'rfind', 'rindex', 'rjust', 'rpartition', 'rsplit', 'rstrip', 'split', 'splitlines', 'startswith', 'strip', 'swapcase', 'title', 'translate', 'upper', 'zfill']\n"
     ]
    }
   ],
   "source": [
    "print(dir('Hello'))"
   ]
  },
  {
   "cell_type": "code",
   "execution_count": 14,
   "id": "50a0a391-4bd2-491a-90d2-88b857ed2c02",
   "metadata": {},
   "outputs": [
    {
     "name": "stdout",
     "output_type": "stream",
     "text": [
      "['__add__', '__class__', '__class_getitem__', '__contains__', '__delattr__', '__delitem__', '__dir__', '__doc__', '__eq__', '__format__', '__ge__', '__getattribute__', '__getitem__', '__getstate__', '__gt__', '__hash__', '__iadd__', '__imul__', '__init__', '__init_subclass__', '__iter__', '__le__', '__len__', '__lt__', '__mul__', '__ne__', '__new__', '__reduce__', '__reduce_ex__', '__repr__', '__reversed__', '__rmul__', '__setattr__', '__setitem__', '__sizeof__', '__str__', '__subclasshook__', 'append', 'clear', 'copy', 'count', 'extend', 'index', 'insert', 'pop', 'remove', 'reverse', 'sort']\n"
     ]
    }
   ],
   "source": [
    "print(dir([]))"
   ]
  },
  {
   "cell_type": "code",
   "execution_count": 16,
   "id": "54431a7a-ba9e-4ca7-b936-885b01ea6eaa",
   "metadata": {},
   "outputs": [
    {
     "name": "stdout",
     "output_type": "stream",
     "text": [
      "['__add__', '__class__', '__class_getitem__', '__contains__', '__delattr__', '__dir__', '__doc__', '__eq__', '__format__', '__ge__', '__getattribute__', '__getitem__', '__getnewargs__', '__getstate__', '__gt__', '__hash__', '__init__', '__init_subclass__', '__iter__', '__le__', '__len__', '__lt__', '__mul__', '__ne__', '__new__', '__reduce__', '__reduce_ex__', '__repr__', '__rmul__', '__setattr__', '__sizeof__', '__str__', '__subclasshook__', 'count', 'index']\n"
     ]
    }
   ],
   "source": [
    "print(dir((1,2,3,4)))"
   ]
  },
  {
   "cell_type": "code",
   "execution_count": null,
   "id": "b8d69cf7-b501-4fe3-aa69-bee70b251a94",
   "metadata": {},
   "outputs": [],
   "source": []
  },
  {
   "cell_type": "code",
   "execution_count": null,
   "id": "871f4f3c-7cf0-4305-8e98-e30ab5fb96a6",
   "metadata": {},
   "outputs": [],
   "source": []
  },
  {
   "cell_type": "markdown",
   "id": "5857110b-aab0-44c8-ba1e-0ff5c75777d1",
   "metadata": {},
   "source": [
    "## **************** Important Point ***************"
   ]
  },
  {
   "cell_type": "markdown",
   "id": "97ab1854-2979-4cbe-8cb9-12b352b28867",
   "metadata": {},
   "source": [
    "### do not use built-in functions as variables , since after that we cannot use them as functions but they will ast as variables e.g sum=a+b , now sum([1,2,3,4,5]) will give error"
   ]
  },
  {
   "cell_type": "code",
   "execution_count": 1,
   "id": "f8b9e7fe-e0ad-48b2-82ac-edb58d6d3dc0",
   "metadata": {},
   "outputs": [
    {
     "data": {
      "text/plain": [
       "15"
      ]
     },
     "execution_count": 1,
     "metadata": {},
     "output_type": "execute_result"
    }
   ],
   "source": [
    "sum([1,2,3,4,5])"
   ]
  },
  {
   "cell_type": "markdown",
   "id": "25fb4d00-f571-45e2-8509-0f921af3e1a5",
   "metadata": {},
   "source": [
    "abc -> 1 \n",
    "1bc  -> 0\n",
    "abc1_ -> 1\n",
    "abc__@ -> 0\n",
    "sum -> 1 (But don't do since it will act as a variable after that)\n",
    "if -> 0 (reserved word)\n",
    "If -> 1\n",
    "False -> 0(reserved word)\n",
    "type -> 1 (but dont do)\n",
    "false -> 1 \n",
    "@info -> 1 -> It is allowed since it is a special object called the decorator object \n",
    "abc@123 -> 0 \n",
    "print -> 1 -> (dont do)"
   ]
  },
  {
   "cell_type": "code",
   "execution_count": 14,
   "id": "54545076-f168-45cf-bce6-7cc8fc339764",
   "metadata": {},
   "outputs": [],
   "source": [
    "def my_decorator(func):\n",
    "    def wrapper():\n",
    "        print('Hey Ya , Hey Ya')\n",
    "        func()\n",
    "        print('I am doing good what about u')\n",
    "    return wrapper"
   ]
  },
  {
   "cell_type": "code",
   "execution_count": 15,
   "id": "1ebd1c8e-05b9-48aa-b0c2-4c1f4932e02e",
   "metadata": {},
   "outputs": [
    {
     "name": "stdout",
     "output_type": "stream",
     "text": [
      "Hey Ya , Hey Ya\n",
      "Hello There , how are you doing\n",
      "I am doing good what about u\n"
     ]
    }
   ],
   "source": [
    "@my_decorator\n",
    "def say_hello():\n",
    "    print('Hello There , how are you doing')\n",
    "say_hello()"
   ]
  },
  {
   "cell_type": "markdown",
   "id": "9a123aed-a3ff-488a-8d87-ffbf2c9e38eb",
   "metadata": {},
   "source": [
    "##### Here the my decorator function takes function as an argument to add extra functionality to the function , the inside wrapper function will wrap around the function such that to do some task before and after the function execution , we return wrapper back to the decorator function that will make use of it , when we write @my_decorator , that is the short form for 'say_hello=my_decorator(say_hello), therefore say_hello is now used in the wrapper function and we will return it's output , whenver you call say_hello() that is now part of the wrapper function therefore the wrapper function is executed"
   ]
  },
  {
   "cell_type": "code",
   "execution_count": null,
   "id": "8b7f689e-fdb5-4f8d-8358-71e3f32446c4",
   "metadata": {},
   "outputs": [],
   "source": []
  },
  {
   "cell_type": "markdown",
   "id": "e201302d-7349-4c1d-8e48-ad2b3b5366e7",
   "metadata": {},
   "source": [
    "### Data Types"
   ]
  },
  {
   "cell_type": "markdown",
   "id": "280b260a-45b9-452a-98fd-54467591cd00",
   "metadata": {},
   "source": [
    "###### Fundamental Datatypes (bool,int,float,complex,string,None) and Derived Datatypes(list,tuple,set,dicctionary)"
   ]
  },
  {
   "cell_type": "code",
   "execution_count": 16,
   "id": "bc3dc4de-ca56-4bf8-a492-e49e48637600",
   "metadata": {},
   "outputs": [],
   "source": [
    "a = 5"
   ]
  },
  {
   "cell_type": "code",
   "execution_count": 18,
   "id": "d696d924-c6c5-48ed-b965-f7c89fef35c8",
   "metadata": {},
   "outputs": [
    {
     "data": {
      "text/plain": [
       "int"
      ]
     },
     "execution_count": 18,
     "metadata": {},
     "output_type": "execute_result"
    }
   ],
   "source": [
    "type(5)"
   ]
  },
  {
   "cell_type": "markdown",
   "id": "1eb78ede-c6f3-4387-94f1-f6459169b3a7",
   "metadata": {},
   "source": [
    "###### Here we dont have like int32 or int64 , any lenght number which doesnt have decimal is an integer"
   ]
  },
  {
   "cell_type": "code",
   "execution_count": 19,
   "id": "197dfbbf-26a5-44fb-836c-62e7d7999e43",
   "metadata": {},
   "outputs": [
    {
     "name": "stdout",
     "output_type": "stream",
     "text": [
      "54555555555555555555555555555533333332222222222 <class 'int'>\n"
     ]
    }
   ],
   "source": [
    "a = 54555555555555555555555555555533333332222222222\n",
    "print(a,type(a))"
   ]
  },
  {
   "cell_type": "markdown",
   "id": "df1a3f93-9669-47d9-9b83-35eec9a43a1e",
   "metadata": {},
   "source": [
    " #### Complex Numbers"
   ]
  },
  {
   "cell_type": "markdown",
   "id": "30504efd-1930-483e-b784-0a572e5401f4",
   "metadata": {},
   "source": [
    "Any number in the form of 'a+bj'"
   ]
  },
  {
   "cell_type": "code",
   "execution_count": 20,
   "id": "7cb3acc4-cdfa-4d37-98b8-8562cfb07394",
   "metadata": {},
   "outputs": [],
   "source": [
    "a = 430 + 10j"
   ]
  },
  {
   "cell_type": "code",
   "execution_count": 21,
   "id": "a3d2ed30-6e15-45bf-a42a-f4ccc78ae0b2",
   "metadata": {},
   "outputs": [
    {
     "data": {
      "text/plain": [
       "430.0"
      ]
     },
     "execution_count": 21,
     "metadata": {},
     "output_type": "execute_result"
    }
   ],
   "source": [
    "a.real"
   ]
  },
  {
   "cell_type": "code",
   "execution_count": 23,
   "id": "59940ec7-e306-4682-bae1-b510df7aa9ed",
   "metadata": {},
   "outputs": [
    {
     "data": {
      "text/plain": [
       "10.0"
      ]
     },
     "execution_count": 23,
     "metadata": {},
     "output_type": "execute_result"
    }
   ],
   "source": [
    "a.imag"
   ]
  },
  {
   "cell_type": "code",
   "execution_count": 24,
   "id": "21150db1-6a72-416f-bc78-06199246f399",
   "metadata": {},
   "outputs": [
    {
     "data": {
      "text/plain": [
       "['__abs__',\n",
       " '__add__',\n",
       " '__and__',\n",
       " '__bool__',\n",
       " '__ceil__',\n",
       " '__class__',\n",
       " '__delattr__',\n",
       " '__dir__',\n",
       " '__divmod__',\n",
       " '__doc__',\n",
       " '__eq__',\n",
       " '__float__',\n",
       " '__floor__',\n",
       " '__floordiv__',\n",
       " '__format__',\n",
       " '__ge__',\n",
       " '__getattribute__',\n",
       " '__getnewargs__',\n",
       " '__getstate__',\n",
       " '__gt__',\n",
       " '__hash__',\n",
       " '__index__',\n",
       " '__init__',\n",
       " '__init_subclass__',\n",
       " '__int__',\n",
       " '__invert__',\n",
       " '__le__',\n",
       " '__lshift__',\n",
       " '__lt__',\n",
       " '__mod__',\n",
       " '__mul__',\n",
       " '__ne__',\n",
       " '__neg__',\n",
       " '__new__',\n",
       " '__or__',\n",
       " '__pos__',\n",
       " '__pow__',\n",
       " '__radd__',\n",
       " '__rand__',\n",
       " '__rdivmod__',\n",
       " '__reduce__',\n",
       " '__reduce_ex__',\n",
       " '__repr__',\n",
       " '__rfloordiv__',\n",
       " '__rlshift__',\n",
       " '__rmod__',\n",
       " '__rmul__',\n",
       " '__ror__',\n",
       " '__round__',\n",
       " '__rpow__',\n",
       " '__rrshift__',\n",
       " '__rshift__',\n",
       " '__rsub__',\n",
       " '__rtruediv__',\n",
       " '__rxor__',\n",
       " '__setattr__',\n",
       " '__sizeof__',\n",
       " '__str__',\n",
       " '__sub__',\n",
       " '__subclasshook__',\n",
       " '__truediv__',\n",
       " '__trunc__',\n",
       " '__xor__',\n",
       " 'as_integer_ratio',\n",
       " 'bit_count',\n",
       " 'bit_length',\n",
       " 'conjugate',\n",
       " 'denominator',\n",
       " 'from_bytes',\n",
       " 'imag',\n",
       " 'numerator',\n",
       " 'real',\n",
       " 'to_bytes']"
      ]
     },
     "execution_count": 24,
     "metadata": {},
     "output_type": "execute_result"
    }
   ],
   "source": [
    "dir(bool)"
   ]
  },
  {
   "cell_type": "code",
   "execution_count": 25,
   "id": "bf6a220b-4e9d-4c29-b9fd-6c7d75869348",
   "metadata": {},
   "outputs": [
    {
     "data": {
      "text/plain": [
       "True"
      ]
     },
     "execution_count": 25,
     "metadata": {},
     "output_type": "execute_result"
    }
   ],
   "source": [
    "1 == 1"
   ]
  },
  {
   "cell_type": "code",
   "execution_count": 26,
   "id": "db6e0d7a-dbea-42b1-a048-ab9e12144d30",
   "metadata": {},
   "outputs": [
    {
     "data": {
      "text/plain": [
       "bool"
      ]
     },
     "execution_count": 26,
     "metadata": {},
     "output_type": "execute_result"
    }
   ],
   "source": [
    "type(1==1)"
   ]
  },
  {
   "cell_type": "code",
   "execution_count": 27,
   "id": "1333c707-0791-4d8f-bb36-e9347a9af444",
   "metadata": {},
   "outputs": [
    {
     "data": {
      "text/plain": [
       "bool"
      ]
     },
     "execution_count": 27,
     "metadata": {},
     "output_type": "execute_result"
    }
   ],
   "source": [
    "type(1==0)"
   ]
  },
  {
   "cell_type": "markdown",
   "id": "3db979df-352f-4ddf-8f80-985c16d737ba",
   "metadata": {},
   "source": [
    "#### None Datatype"
   ]
  },
  {
   "cell_type": "markdown",
   "id": "cb65378c-8d9f-4c77-a711-24b2fd56a0e2",
   "metadata": {},
   "source": [
    "To fill any missing value we use None data type "
   ]
  },
  {
   "cell_type": "code",
   "execution_count": 30,
   "id": "6ef808d6-d285-44c5-a4bb-187755404b64",
   "metadata": {},
   "outputs": [
    {
     "ename": "SyntaxError",
     "evalue": "invalid syntax (2101251296.py, line 1)",
     "output_type": "error",
     "traceback": [
      "\u001b[1;36m  Cell \u001b[1;32mIn[30], line 1\u001b[1;36m\u001b[0m\n\u001b[1;33m    a = [1,2,,5,6]\u001b[0m\n\u001b[1;37m             ^\u001b[0m\n\u001b[1;31mSyntaxError\u001b[0m\u001b[1;31m:\u001b[0m invalid syntax\n"
     ]
    }
   ],
   "source": [
    "a = [1,2,,5,6]"
   ]
  },
  {
   "cell_type": "code",
   "execution_count": 31,
   "id": "af48a47a-45f5-4f11-876c-97f2e31c2bc5",
   "metadata": {},
   "outputs": [],
   "source": [
    "a = [1,2,0,5,6]"
   ]
  },
  {
   "cell_type": "code",
   "execution_count": 34,
   "id": "d326f8ba-6521-4dea-9912-d2c095223f61",
   "metadata": {},
   "outputs": [
    {
     "data": {
      "text/plain": [
       "14"
      ]
     },
     "execution_count": 34,
     "metadata": {},
     "output_type": "execute_result"
    }
   ],
   "source": [
    "sum(a)"
   ]
  },
  {
   "cell_type": "code",
   "execution_count": 36,
   "id": "c659696b-439c-4a07-ad16-2517b382c287",
   "metadata": {},
   "outputs": [],
   "source": [
    "a = [1,2,None,5,6]"
   ]
  },
  {
   "cell_type": "markdown",
   "id": "cdf6b49c-62ef-40a3-85a5-42a7a9b1233d",
   "metadata": {},
   "source": [
    "##### Here 0 is a value but None signifies empty"
   ]
  },
  {
   "cell_type": "code",
   "execution_count": null,
   "id": "d1730668-f251-4f89-b45e-a1be72b31c39",
   "metadata": {},
   "outputs": [],
   "source": []
  },
  {
   "cell_type": "markdown",
   "id": "b032efbb-fb12-4e2b-9210-e1f72434bce4",
   "metadata": {},
   "source": [
    "### How to make a ' come in the ouptut of string"
   ]
  },
  {
   "cell_type": "code",
   "execution_count": 37,
   "id": "d4619183-7a10-444f-9ed7-b9c70e27c7e8",
   "metadata": {},
   "outputs": [
    {
     "ename": "SyntaxError",
     "evalue": "unterminated string literal (detected at line 1) (2400619774.py, line 1)",
     "output_type": "error",
     "traceback": [
      "\u001b[1;36m  Cell \u001b[1;32mIn[37], line 1\u001b[1;36m\u001b[0m\n\u001b[1;33m    s = 'Hello there what's it doing'\u001b[0m\n\u001b[1;37m                                    ^\u001b[0m\n\u001b[1;31mSyntaxError\u001b[0m\u001b[1;31m:\u001b[0m unterminated string literal (detected at line 1)\n"
     ]
    }
   ],
   "source": [
    "s = 'Hello there what's it doing'"
   ]
  },
  {
   "cell_type": "code",
   "execution_count": 38,
   "id": "e769a4d3-52a7-402e-a4a8-8767bf81846e",
   "metadata": {},
   "outputs": [],
   "source": [
    "s = \"Hello there what's it doing\""
   ]
  },
  {
   "cell_type": "code",
   "execution_count": 39,
   "id": "a4046d90-2f54-4b9d-8d7c-46580bac94a6",
   "metadata": {},
   "outputs": [
    {
     "data": {
      "text/plain": [
       "\"Hello there what's it doing\""
      ]
     },
     "execution_count": 39,
     "metadata": {},
     "output_type": "execute_result"
    }
   ],
   "source": [
    "s"
   ]
  },
  {
   "cell_type": "markdown",
   "id": "d728bd50-52d9-4eaa-b21d-2bb1ea44b764",
   "metadata": {},
   "source": [
    "##### This happened because of we start as double quotes it will only consider that as ending point"
   ]
  },
  {
   "cell_type": "code",
   "execution_count": 40,
   "id": "eafbbd3e-e212-4b58-a71a-a6a2e70a7af6",
   "metadata": {},
   "outputs": [],
   "source": [
    "s = 'Hello there what''s it doing'"
   ]
  },
  {
   "cell_type": "code",
   "execution_count": 41,
   "id": "d2c2aa82-b943-4407-a2fb-47a013061854",
   "metadata": {},
   "outputs": [
    {
     "data": {
      "text/plain": [
       "'Hello there whats it doing'"
      ]
     },
     "execution_count": 41,
     "metadata": {},
     "output_type": "execute_result"
    }
   ],
   "source": [
    "s"
   ]
  },
  {
   "cell_type": "code",
   "execution_count": null,
   "id": "02ef28dd-fe4b-484c-b58e-1ee5fb7a8c37",
   "metadata": {},
   "outputs": [],
   "source": []
  }
 ],
 "metadata": {
  "kernelspec": {
   "display_name": "Python 3 (ipykernel)",
   "language": "python",
   "name": "python3"
  },
  "language_info": {
   "codemirror_mode": {
    "name": "ipython",
    "version": 3
   },
   "file_extension": ".py",
   "mimetype": "text/x-python",
   "name": "python",
   "nbconvert_exporter": "python",
   "pygments_lexer": "ipython3",
   "version": "3.11.7"
  }
 },
 "nbformat": 4,
 "nbformat_minor": 5
}
