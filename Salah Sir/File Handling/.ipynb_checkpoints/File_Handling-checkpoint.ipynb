{
 "cells": [
  {
   "cell_type": "markdown",
   "id": "db33ee49-1b40-4aa3-b6f5-87802546bbbe",
   "metadata": {},
   "source": [
    "#  File handling"
   ]
  },
  {
   "cell_type": "markdown",
   "id": "210a537e-659f-4be0-b78b-9a2a31475940",
   "metadata": {},
   "source": [
    "##### example can be how using software we can filter out all the resumes to select the ones which is aligned with the job role"
   ]
  },
  {
   "cell_type": "markdown",
   "id": "c6b6550f-88a4-49a1-a675-8f08ca6aa15f",
   "metadata": {},
   "source": [
    " var = open('file_path/file_name.ext','mode') # to read / write in a file , we need to first open it"
   ]
  },
  {
   "cell_type": "markdown",
   "id": "8de44a16-9dba-4a9c-a7fb-5a34a75596df",
   "metadata": {},
   "source": [
    "var.close()    # to make changes we need to close the file"
   ]
  },
  {
   "cell_type": "markdown",
   "id": "beb0ca8d-9399-4e41-af1a-66d30a4382d7",
   "metadata": {},
   "source": [
    "##### Modes of Operation"
   ]
  },
  {
   "cell_type": "code",
   "execution_count": null,
   "id": "2d4996cc-ca4c-40db-8447-8932bb05f576",
   "metadata": {},
   "outputs": [],
   "source": [
    "1. Read Mode --> 'r'\n",
    "2. Write Mode --> 'w'\n",
    "3. Append Mode --> 'a'\n",
    "4. Read and Write mode --> 'r+'\n",
    "5. Write and read mode --> 'w+'\n",
    "6. append and read mode --> 'a+'"
   ]
  }
 ],
 "metadata": {
  "kernelspec": {
   "display_name": "Python 3 (ipykernel)",
   "language": "python",
   "name": "python3"
  },
  "language_info": {
   "codemirror_mode": {
    "name": "ipython",
    "version": 3
   },
   "file_extension": ".py",
   "mimetype": "text/x-python",
   "name": "python",
   "nbconvert_exporter": "python",
   "pygments_lexer": "ipython3",
   "version": "3.11.7"
  }
 },
 "nbformat": 4,
 "nbformat_minor": 5
}
