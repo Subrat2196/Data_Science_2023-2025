{
 "cells": [
  {
   "cell_type": "code",
   "execution_count": 1,
   "id": "ff614cf2-dc26-4327-985a-48e1d5e75755",
   "metadata": {},
   "outputs": [],
   "source": [
    "x=10"
   ]
  },
  {
   "cell_type": "code",
   "execution_count": 5,
   "id": "95d7a870-cc3a-4687-b0f2-4bd548b92a48",
   "metadata": {},
   "outputs": [
    {
     "name": "stdout",
     "output_type": "stream",
     "text": [
      "False\n"
     ]
    }
   ],
   "source": [
    "if x==5:\n",
    "    print('True')\n",
    "else:\n",
    "    print('False')\n",
    "    "
   ]
  },
  {
   "cell_type": "code",
   "execution_count": 8,
   "id": "b934e45b-73b7-4a0d-bb3c-ed47d77815ba",
   "metadata": {},
   "outputs": [],
   "source": [
    "y=15"
   ]
  },
  {
   "cell_type": "code",
   "execution_count": 9,
   "id": "c4d1cc39-7456-4c20-84bc-4f4905e483b9",
   "metadata": {},
   "outputs": [
    {
     "name": "stdout",
     "output_type": "stream",
     "text": [
      "Yes\n"
     ]
    }
   ],
   "source": [
    "if y==20:\n",
    "    print('True')\n",
    "elif y==10:\n",
    "    print('No')\n",
    "else:\n",
    "    print('Yes')"
   ]
  },
  {
   "cell_type": "code",
   "execution_count": 12,
   "id": "33683c22-b6cf-47bb-abd3-5408b8645a30",
   "metadata": {},
   "outputs": [
    {
     "name": "stdin",
     "output_type": "stream",
     "text": [
      "Enter the value of a Yes\n"
     ]
    },
    {
     "name": "stdout",
     "output_type": "stream",
     "text": [
      "Yes\n"
     ]
    }
   ],
   "source": [
    "a= input(\"Enter the value of a\")\n",
    "if a.lower()=='yes' :\n",
    "    print('Yes')\n",
    "else:\n",
    "    print('No')"
   ]
  },
  {
   "cell_type": "markdown",
   "id": "d5856a4c-2806-446d-9c80-2a6903a40d1f",
   "metadata": {},
   "source": [
    "### WAP to tell a number is divisible by 2 , divisibly by 3 , divisble by 5 and divisible by 2,3,5"
   ]
  },
  {
   "cell_type": "code",
   "execution_count": 15,
   "id": "e81ae48e-efcc-4816-ab2a-c68d2b6ca206",
   "metadata": {},
   "outputs": [
    {
     "name": "stdin",
     "output_type": "stream",
     "text": [
      "Enter the number:  20\n"
     ]
    },
    {
     "name": "stdout",
     "output_type": "stream",
     "text": [
      "Yes\n",
      "Yes\n"
     ]
    }
   ],
   "source": [
    "a=int(input('Enter the number: '))\n",
    "if a%2 == 0:\n",
    "    print('Yes')\n",
    "if a%3 == 0:\n",
    "    print('Yes')\n",
    "if a%5 == 0:\n",
    "    print('Yes')\n",
    "if a%2 == 0 and a%3 == 0 and a%5==0:\n",
    "    print('Yes')"
   ]
  },
  {
   "cell_type": "markdown",
   "id": "eacc97f0-2be6-4a0b-8c1a-08e1136bb880",
   "metadata": {},
   "source": [
    "The issue here is that it will execute all the conditions even though we already got the answer , that is the issue with only using if condition"
   ]
  },
  {
   "cell_type": "code",
   "execution_count": 17,
   "id": "91a630fc-da4e-489d-981a-d7b26bcb80f7",
   "metadata": {},
   "outputs": [
    {
     "name": "stdin",
     "output_type": "stream",
     "text": [
      "Enter the number:  21\n"
     ]
    },
    {
     "name": "stdout",
     "output_type": "stream",
     "text": [
      "divisible by 3\n"
     ]
    }
   ],
   "source": [
    "a=int(input('Enter the number: '))\n",
    "if a%2 == 0:\n",
    "    print('divisible by 2')\n",
    "elif a%3 == 0:\n",
    "    print('divisible by 3')\n",
    "elif a%5 == 0:\n",
    "    print('divisible by 5')\n",
    "elif a%2 == 0 and a%3 == 0 and a%5==0:\n",
    "    print('divisible by 2,3 and 5')"
   ]
  },
  {
   "cell_type": "code",
   "execution_count": null,
   "id": "36d6c21c-ada9-4cdf-a2ef-2e5e5b7c8a97",
   "metadata": {},
   "outputs": [],
   "source": []
  },
  {
   "cell_type": "code",
   "execution_count": 26,
   "id": "91524bcf-e9c5-4192-8998-7311d7783e9d",
   "metadata": {},
   "outputs": [
    {
     "name": "stdin",
     "output_type": "stream",
     "text": [
      "Enter the number:  a\n"
     ]
    },
    {
     "name": "stdout",
     "output_type": "stream",
     "text": [
      "vowel\n"
     ]
    }
   ],
   "source": [
    "num=input('Enter the number: ')\n",
    "if num.isalpha():\n",
    "    if num.lower() in ['a','e','i','o','u']:\n",
    "        print('vowel')\n",
    "    else:\n",
    "        print('consonant')\n",
    "\n",
    "else:\n",
    "    num=int(num)\n",
    "    if num%2==0:\n",
    "        print(f' {num} is Even')\n",
    "    else:\n",
    "        print(f' {num} is odd')\n",
    "    "
   ]
  },
  {
   "cell_type": "code",
   "execution_count": null,
   "id": "bc973c5f-79cc-449c-9a9d-9442467cf1e8",
   "metadata": {},
   "outputs": [],
   "source": []
  }
 ],
 "metadata": {
  "kernelspec": {
   "display_name": "Python 3 (ipykernel)",
   "language": "python",
   "name": "python3"
  },
  "language_info": {
   "codemirror_mode": {
    "name": "ipython",
    "version": 3
   },
   "file_extension": ".py",
   "mimetype": "text/x-python",
   "name": "python",
   "nbconvert_exporter": "python",
   "pygments_lexer": "ipython3",
   "version": "3.11.7"
  }
 },
 "nbformat": 4,
 "nbformat_minor": 5
}
