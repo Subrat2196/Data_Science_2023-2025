{
 "cells": [
  {
   "cell_type": "code",
   "execution_count": 1,
   "id": "25eb4e19-3a51-4885-a232-75be0c79fcf0",
   "metadata": {},
   "outputs": [
    {
     "name": "stdout",
     "output_type": "stream",
     "text": [
      "30\n"
     ]
    }
   ],
   "source": [
    "a = 10\n",
    "b = 20\n",
    "print(a+b)"
   ]
  },
  {
   "cell_type": "code",
   "execution_count": 2,
   "id": "12ebe964-88fe-40ed-9cd8-1f319bf15656",
   "metadata": {},
   "outputs": [],
   "source": [
    "import numpy as np"
   ]
  },
  {
   "cell_type": "code",
   "execution_count": 3,
   "id": "9a620b82-97d7-48ca-9848-f79bb94f24b6",
   "metadata": {},
   "outputs": [],
   "source": [
    "import pandas as pd"
   ]
  },
  {
   "cell_type": "code",
   "execution_count": 4,
   "id": "4cb73980-2e39-4667-9dc9-b1de84bfb0cc",
   "metadata": {},
   "outputs": [],
   "source": [
    "import seaborn as sns"
   ]
  },
  {
   "cell_type": "code",
   "execution_count": 5,
   "id": "2e1d7631-cbff-4d23-8b2f-0ee3e03d4d5c",
   "metadata": {},
   "outputs": [],
   "source": [
    "import matplotlib.pyplot as plt"
   ]
  },
  {
   "cell_type": "code",
   "execution_count": 7,
   "id": "2599edcd-a2ce-4751-9a69-2721de2d9a31",
   "metadata": {},
   "outputs": [],
   "source": [
    "%matplotlib inline"
   ]
  },
  {
   "cell_type": "code",
   "execution_count": null,
   "id": "24fbf877-89c5-4df1-865a-9373f1c726c1",
   "metadata": {},
   "outputs": [],
   "source": []
  },
  {
   "cell_type": "markdown",
   "id": "9eb02865-a354-4951-831e-a14e7fc6c627",
   "metadata": {},
   "source": [
    "#### to convert a cell to markdown mode -> esc + m\n",
    "#### to convert a cell to code mode -> esc + y \n",
    "#### to delete a cell -> esc + x\n",
    "#### add cell above -> esc + a\n",
    "#### add cell above -> esc + b\n",
    "##### a=10\n",
    "##### b=20\n",
    "##### print(a)"
   ]
  },
  {
   "cell_type": "markdown",
   "id": "f7eb44c9-fa53-4bcd-a3de-2eae337a3c99",
   "metadata": {},
   "source": [
    "#### .ipynb (refers to integrated python notebook)"
   ]
  },
  {
   "cell_type": "markdown",
   "id": "a58c7c78-47e8-467b-ab0b-7cab88008212",
   "metadata": {},
   "source": []
  },
  {
   "cell_type": "markdown",
   "id": "22007bb4-683e-41a5-a53f-a79860e1feba",
   "metadata": {},
   "source": [
    "### Input / Output in Python"
   ]
  },
  {
   "cell_type": "code",
   "execution_count": 3,
   "id": "8ced19ff-8f04-488b-8cb7-5453ac367b65",
   "metadata": {},
   "outputs": [
    {
     "name": "stdin",
     "output_type": "stream",
     "text": [
      "Enter the following:  10\n"
     ]
    }
   ],
   "source": [
    "a = input(\"Enter the following: \")"
   ]
  },
  {
   "cell_type": "code",
   "execution_count": 4,
   "id": "fb97be19-7106-4c1c-bd10-e17b4ec3a181",
   "metadata": {},
   "outputs": [
    {
     "data": {
      "text/plain": [
       "'10'"
      ]
     },
     "execution_count": 4,
     "metadata": {},
     "output_type": "execute_result"
    }
   ],
   "source": [
    "a"
   ]
  },
  {
   "cell_type": "code",
   "execution_count": 5,
   "id": "9814233e-f9c1-4c4c-b28c-dd2d8496d6b5",
   "metadata": {},
   "outputs": [
    {
     "data": {
      "text/plain": [
       "str"
      ]
     },
     "execution_count": 5,
     "metadata": {},
     "output_type": "execute_result"
    }
   ],
   "source": [
    "type(a)"
   ]
  },
  {
   "cell_type": "code",
   "execution_count": 7,
   "id": "71f42e56-8926-4c81-9115-4d8fe515c664",
   "metadata": {},
   "outputs": [
    {
     "name": "stdin",
     "output_type": "stream",
     "text": [
      "Enter the following to take the input :  10\n"
     ]
    },
    {
     "name": "stdout",
     "output_type": "stream",
     "text": [
      "10\n"
     ]
    }
   ],
   "source": [
    "a = int(input(\"Enter the following to take the input : \"))\n",
    "print(a)"
   ]
  },
  {
   "cell_type": "markdown",
   "id": "072ad34f-e434-47f8-a5c6-14267b4a48c2",
   "metadata": {},
   "source": [
    "print is used to give the output "
   ]
  },
  {
   "cell_type": "code",
   "execution_count": 8,
   "id": "90ec5043-a4ab-4ef7-b21c-426b912fc062",
   "metadata": {},
   "outputs": [
    {
     "name": "stdout",
     "output_type": "stream",
     "text": [
      "10\n"
     ]
    }
   ],
   "source": [
    "print(a)"
   ]
  },
  {
   "cell_type": "code",
   "execution_count": 11,
   "id": "fe5ea178-9ce6-47f6-8066-becf9c20d1e2",
   "metadata": {},
   "outputs": [
    {
     "name": "stdout",
     "output_type": "stream",
     "text": [
      "the value that i want to print is 10\n"
     ]
    }
   ],
   "source": [
    "print(\"the value that i want to print is\",a)"
   ]
  },
  {
   "cell_type": "markdown",
   "id": "3da0c006-3c2a-41a6-8514-f178636b95f7",
   "metadata": {},
   "source": [
    "## Note :- In Python None data type is a space holder that will be occupied with None data type"
   ]
  },
  {
   "cell_type": "code",
   "execution_count": 13,
   "id": "e3221c33-4dd6-4e0b-aa48-799464c0dd3b",
   "metadata": {},
   "outputs": [
    {
     "name": "stdout",
     "output_type": "stream",
     "text": [
      "range(0, 5)\n"
     ]
    }
   ],
   "source": [
    "a = range(5)\n",
    "print(a)"
   ]
  },
  {
   "cell_type": "markdown",
   "id": "208080ee-3870-427e-8a06-854723dba866",
   "metadata": {},
   "source": [
    "it will give the range from 0 to (specified number-1)\n",
    "in above example -> 0 1 2 3 4"
   ]
  },
  {
   "cell_type": "code",
   "execution_count": 15,
   "id": "4607d252-e5d3-45dd-afcb-aea332515960",
   "metadata": {},
   "outputs": [
    {
     "name": "stdout",
     "output_type": "stream",
     "text": [
      "0\n",
      "1\n",
      "2\n",
      "3\n",
      "4\n"
     ]
    }
   ],
   "source": [
    "for i in a :\n",
    "    print(i)"
   ]
  },
  {
   "cell_type": "code",
   "execution_count": 16,
   "id": "fe815ff3-f998-4715-bd4c-5b9f2ca0e1f6",
   "metadata": {},
   "outputs": [
    {
     "name": "stdout",
     "output_type": "stream",
     "text": [
      "3\n",
      "4\n",
      "5\n",
      "6\n"
     ]
    }
   ],
   "source": [
    "b=range(3,7)\n",
    "for i in b:\n",
    "    print(i)"
   ]
  },
  {
   "cell_type": "code",
   "execution_count": 17,
   "id": "3070034c-efcd-4f04-b8dd-17b3e76e4910",
   "metadata": {},
   "outputs": [
    {
     "name": "stdout",
     "output_type": "stream",
     "text": [
      "(7+8j) <class 'complex'>\n"
     ]
    }
   ],
   "source": [
    "comp = 7+8j\n",
    "print(comp,type(comp))"
   ]
  },
  {
   "cell_type": "code",
   "execution_count": 18,
   "id": "e65ea31d-c24e-456b-8341-73fc4bfd500c",
   "metadata": {},
   "outputs": [
    {
     "data": {
      "text/plain": [
       "7.0"
      ]
     },
     "execution_count": 18,
     "metadata": {},
     "output_type": "execute_result"
    }
   ],
   "source": [
    "comp.real"
   ]
  },
  {
   "cell_type": "code",
   "execution_count": 19,
   "id": "2e3e4ab9-9426-46e4-9871-d5dbe7da12d2",
   "metadata": {},
   "outputs": [
    {
     "data": {
      "text/plain": [
       "8.0"
      ]
     },
     "execution_count": 19,
     "metadata": {},
     "output_type": "execute_result"
    }
   ],
   "source": [
    "comp.imag"
   ]
  },
  {
   "cell_type": "markdown",
   "id": "99329990-a126-4944-91a4-36d44f1c8da5",
   "metadata": {},
   "source": [
    "# Derived/Container type datatype\n"
   ]
  },
  {
   "cell_type": "markdown",
   "id": "bd4e7319-2374-47a9-b0e3-c9ae3a3cff08",
   "metadata": {},
   "source": [
    "List\n",
    "Tuples\n",
    "Dictionary\n",
    "Set\n",
    "Frozenset"
   ]
  },
  {
   "cell_type": "markdown",
   "id": "cd6b56e5-f2ad-4d8d-ad7a-0e28bce89cc7",
   "metadata": {},
   "source": [
    "### List"
   ]
  },
  {
   "cell_type": "markdown",
   "id": "aa5424aa-c344-4a54-9ed1-e6860117daaa",
   "metadata": {},
   "source": [
    "-> Anything written inside square brackets is called List [--,--,--]\n",
    "-> Can store multiple datatypes simultaneously\n",
    "-> It can have duplicate values in it\n",
    "-> they are mutable (it means without changing the memory location, we can modify the list)"
   ]
  },
  {
   "cell_type": "code",
   "execution_count": 33,
   "id": "b5999c8a-363b-4aa3-bae6-2ce40a2b2e2a",
   "metadata": {},
   "outputs": [
    {
     "name": "stdout",
     "output_type": "stream",
     "text": [
      "[1, 2, 3, (4+5j), 'Hello'] <class 'list'>\n"
     ]
    }
   ],
   "source": [
    "ls = [1,2,3,4+5j,\"Hello\"]\n",
    "print(ls,type(ls))"
   ]
  },
  {
   "cell_type": "code",
   "execution_count": 34,
   "id": "1ce576dc-7dc7-4f34-8293-f19004713b1a",
   "metadata": {},
   "outputs": [
    {
     "name": "stdout",
     "output_type": "stream",
     "text": [
      "[1, 2, 5, (4+5j), 'Hello']\n"
     ]
    }
   ],
   "source": [
    "ls[2]=5\n",
    "print(ls)"
   ]
  },
  {
   "cell_type": "markdown",
   "id": "8e2c465c-e0fe-4eed-9e0e-8aeeca87bdb2",
   "metadata": {},
   "source": [
    "##### id gives the memory location"
   ]
  },
  {
   "cell_type": "code",
   "execution_count": 35,
   "id": "30497fbb-517b-4f89-a885-7623d2ed9fd0",
   "metadata": {},
   "outputs": [
    {
     "data": {
      "text/plain": [
       "2644305688128"
      ]
     },
     "execution_count": 35,
     "metadata": {},
     "output_type": "execute_result"
    }
   ],
   "source": [
    "id(ls)"
   ]
  },
  {
   "cell_type": "code",
   "execution_count": 36,
   "id": "5c08f903-8ce9-4d15-879e-dbbda6b82b6c",
   "metadata": {},
   "outputs": [
    {
     "name": "stdout",
     "output_type": "stream",
     "text": [
      "[1, 2, 5, (4+5j), 'Hello', 245]\n"
     ]
    }
   ],
   "source": [
    "ls.append(245)\n",
    "print(ls)"
   ]
  },
  {
   "cell_type": "markdown",
   "id": "12583485-a42a-42b6-8a82-d56e467f57a4",
   "metadata": {},
   "source": [
    "### Tuple"
   ]
  },
  {
   "cell_type": "markdown",
   "id": "b9d196b3-7c5a-45dd-9ee0-947b1c68dac9",
   "metadata": {},
   "source": [
    "Anything written inside closed bracket (--,--,--)\n",
    "Tuples are immutable"
   ]
  },
  {
   "cell_type": "code",
   "execution_count": 24,
   "id": "93bdeb00-8e92-4833-b3b3-41a2f543a3dc",
   "metadata": {},
   "outputs": [
    {
     "name": "stdout",
     "output_type": "stream",
     "text": [
      "(1, 2, 3, (4+5j), 'Hello')\n"
     ]
    }
   ],
   "source": [
    "tu = (1,2,3,4+5j,\"Hello\")\n",
    "print(tu)"
   ]
  },
  {
   "cell_type": "markdown",
   "id": "17d7664e-7dac-461f-ad9c-8a43e90d5906",
   "metadata": {},
   "source": [
    "tu[1]=5  -> gives the error"
   ]
  },
  {
   "cell_type": "code",
   "execution_count": null,
   "id": "60fa12ec-165e-4912-8052-c02a5fb82bf8",
   "metadata": {},
   "outputs": [],
   "source": []
  },
  {
   "cell_type": "code",
   "execution_count": 16,
   "id": "9e3a8f3e-207f-4427-836f-27591f83604e",
   "metadata": {},
   "outputs": [],
   "source": [
    "tips = sns.load_dataset('Tips')"
   ]
  },
  {
   "cell_type": "code",
   "execution_count": 17,
   "id": "d8464ccd-9b4a-45f4-8ad6-f77ad315a62c",
   "metadata": {},
   "outputs": [
    {
     "data": {
      "text/html": [
       "<div>\n",
       "<style scoped>\n",
       "    .dataframe tbody tr th:only-of-type {\n",
       "        vertical-align: middle;\n",
       "    }\n",
       "\n",
       "    .dataframe tbody tr th {\n",
       "        vertical-align: top;\n",
       "    }\n",
       "\n",
       "    .dataframe thead th {\n",
       "        text-align: right;\n",
       "    }\n",
       "</style>\n",
       "<table border=\"1\" class=\"dataframe\">\n",
       "  <thead>\n",
       "    <tr style=\"text-align: right;\">\n",
       "      <th></th>\n",
       "      <th>total_bill</th>\n",
       "      <th>tip</th>\n",
       "      <th>sex</th>\n",
       "      <th>smoker</th>\n",
       "      <th>day</th>\n",
       "      <th>time</th>\n",
       "      <th>size</th>\n",
       "    </tr>\n",
       "  </thead>\n",
       "  <tbody>\n",
       "    <tr>\n",
       "      <th>0</th>\n",
       "      <td>16.99</td>\n",
       "      <td>1.01</td>\n",
       "      <td>Female</td>\n",
       "      <td>No</td>\n",
       "      <td>Sun</td>\n",
       "      <td>Dinner</td>\n",
       "      <td>2</td>\n",
       "    </tr>\n",
       "    <tr>\n",
       "      <th>1</th>\n",
       "      <td>10.34</td>\n",
       "      <td>1.66</td>\n",
       "      <td>Male</td>\n",
       "      <td>No</td>\n",
       "      <td>Sun</td>\n",
       "      <td>Dinner</td>\n",
       "      <td>3</td>\n",
       "    </tr>\n",
       "    <tr>\n",
       "      <th>2</th>\n",
       "      <td>21.01</td>\n",
       "      <td>3.50</td>\n",
       "      <td>Male</td>\n",
       "      <td>No</td>\n",
       "      <td>Sun</td>\n",
       "      <td>Dinner</td>\n",
       "      <td>3</td>\n",
       "    </tr>\n",
       "    <tr>\n",
       "      <th>3</th>\n",
       "      <td>23.68</td>\n",
       "      <td>3.31</td>\n",
       "      <td>Male</td>\n",
       "      <td>No</td>\n",
       "      <td>Sun</td>\n",
       "      <td>Dinner</td>\n",
       "      <td>2</td>\n",
       "    </tr>\n",
       "    <tr>\n",
       "      <th>4</th>\n",
       "      <td>24.59</td>\n",
       "      <td>3.61</td>\n",
       "      <td>Female</td>\n",
       "      <td>No</td>\n",
       "      <td>Sun</td>\n",
       "      <td>Dinner</td>\n",
       "      <td>4</td>\n",
       "    </tr>\n",
       "  </tbody>\n",
       "</table>\n",
       "</div>"
      ],
      "text/plain": [
       "   total_bill   tip     sex smoker  day    time  size\n",
       "0       16.99  1.01  Female     No  Sun  Dinner     2\n",
       "1       10.34  1.66    Male     No  Sun  Dinner     3\n",
       "2       21.01  3.50    Male     No  Sun  Dinner     3\n",
       "3       23.68  3.31    Male     No  Sun  Dinner     2\n",
       "4       24.59  3.61  Female     No  Sun  Dinner     4"
      ]
     },
     "execution_count": 17,
     "metadata": {},
     "output_type": "execute_result"
    }
   ],
   "source": [
    "tips.head()"
   ]
  },
  {
   "cell_type": "markdown",
   "id": "83e77755-0a44-4a6a-bed6-f3a99fdd4c9b",
   "metadata": {},
   "source": [
    "# Histogram"
   ]
  },
  {
   "cell_type": "code",
   "execution_count": 21,
   "id": "9bc66646-3431-409a-aa14-bc7edaaebf40",
   "metadata": {},
   "outputs": [
    {
     "data": {
      "text/html": [
       "<div>\n",
       "<style scoped>\n",
       "    .dataframe tbody tr th:only-of-type {\n",
       "        vertical-align: middle;\n",
       "    }\n",
       "\n",
       "    .dataframe tbody tr th {\n",
       "        vertical-align: top;\n",
       "    }\n",
       "\n",
       "    .dataframe thead th {\n",
       "        text-align: right;\n",
       "    }\n",
       "</style>\n",
       "<table border=\"1\" class=\"dataframe\">\n",
       "  <thead>\n",
       "    <tr style=\"text-align: right;\">\n",
       "      <th></th>\n",
       "      <th>total_bill</th>\n",
       "      <th>tip</th>\n",
       "      <th>sex</th>\n",
       "      <th>smoker</th>\n",
       "      <th>day</th>\n",
       "      <th>time</th>\n",
       "      <th>size</th>\n",
       "    </tr>\n",
       "  </thead>\n",
       "  <tbody>\n",
       "    <tr>\n",
       "      <th>0</th>\n",
       "      <td>16.99</td>\n",
       "      <td>1.01</td>\n",
       "      <td>Female</td>\n",
       "      <td>No</td>\n",
       "      <td>Sun</td>\n",
       "      <td>Dinner</td>\n",
       "      <td>2</td>\n",
       "    </tr>\n",
       "    <tr>\n",
       "      <th>1</th>\n",
       "      <td>10.34</td>\n",
       "      <td>1.66</td>\n",
       "      <td>Male</td>\n",
       "      <td>No</td>\n",
       "      <td>Sun</td>\n",
       "      <td>Dinner</td>\n",
       "      <td>3</td>\n",
       "    </tr>\n",
       "    <tr>\n",
       "      <th>2</th>\n",
       "      <td>21.01</td>\n",
       "      <td>3.50</td>\n",
       "      <td>Male</td>\n",
       "      <td>No</td>\n",
       "      <td>Sun</td>\n",
       "      <td>Dinner</td>\n",
       "      <td>3</td>\n",
       "    </tr>\n",
       "    <tr>\n",
       "      <th>3</th>\n",
       "      <td>23.68</td>\n",
       "      <td>3.31</td>\n",
       "      <td>Male</td>\n",
       "      <td>No</td>\n",
       "      <td>Sun</td>\n",
       "      <td>Dinner</td>\n",
       "      <td>2</td>\n",
       "    </tr>\n",
       "    <tr>\n",
       "      <th>4</th>\n",
       "      <td>24.59</td>\n",
       "      <td>3.61</td>\n",
       "      <td>Female</td>\n",
       "      <td>No</td>\n",
       "      <td>Sun</td>\n",
       "      <td>Dinner</td>\n",
       "      <td>4</td>\n",
       "    </tr>\n",
       "  </tbody>\n",
       "</table>\n",
       "</div>"
      ],
      "text/plain": [
       "   total_bill   tip     sex smoker  day    time  size\n",
       "0       16.99  1.01  Female     No  Sun  Dinner     2\n",
       "1       10.34  1.66    Male     No  Sun  Dinner     3\n",
       "2       21.01  3.50    Male     No  Sun  Dinner     3\n",
       "3       23.68  3.31    Male     No  Sun  Dinner     2\n",
       "4       24.59  3.61  Female     No  Sun  Dinner     4"
      ]
     },
     "execution_count": 21,
     "metadata": {},
     "output_type": "execute_result"
    }
   ],
   "source": [
    "tips.head()"
   ]
  },
  {
   "cell_type": "code",
   "execution_count": 22,
   "id": "2ad171eb-0a9a-46c0-adaa-e4125cde90c0",
   "metadata": {},
   "outputs": [
    {
     "data": {
      "text/plain": [
       "<Axes: xlabel='total_bill', ylabel='day'>"
      ]
     },
     "execution_count": 22,
     "metadata": {},
     "output_type": "execute_result"
    },
    {
     "data": {
      "image/png": "[encoded data removed]",
      "text/plain": [
       "<Figure size 640x480 with 1 Axes>"
      ]
     },
     "metadata": {},
     "output_type": "display_data"
    }
   ],
   "source": [
    "sns.barplot(data=tips,x='total_bill',y='day')"
   ]
  },
  {
   "cell_type": "code",
   "execution_count": 23,
   "id": "ca268ef8-d2f9-41fe-905d-b1f1f420bbf6",
   "metadata": {},
   "outputs": [
    {
     "data": {
      "text/html": [
       "<div>\n",
       "<style scoped>\n",
       "    .dataframe tbody tr th:only-of-type {\n",
       "        vertical-align: middle;\n",
       "    }\n",
       "\n",
       "    .dataframe tbody tr th {\n",
       "        vertical-align: top;\n",
       "    }\n",
       "\n",
       "    .dataframe thead th {\n",
       "        text-align: right;\n",
       "    }\n",
       "</style>\n",
       "<table border=\"1\" class=\"dataframe\">\n",
       "  <thead>\n",
       "    <tr style=\"text-align: right;\">\n",
       "      <th></th>\n",
       "      <th>total_bill</th>\n",
       "      <th>tip</th>\n",
       "      <th>sex</th>\n",
       "      <th>smoker</th>\n",
       "      <th>day</th>\n",
       "      <th>time</th>\n",
       "      <th>size</th>\n",
       "    </tr>\n",
       "  </thead>\n",
       "  <tbody>\n",
       "    <tr>\n",
       "      <th>0</th>\n",
       "      <td>16.99</td>\n",
       "      <td>1.01</td>\n",
       "      <td>Female</td>\n",
       "      <td>No</td>\n",
       "      <td>Sun</td>\n",
       "      <td>Dinner</td>\n",
       "      <td>2</td>\n",
       "    </tr>\n",
       "    <tr>\n",
       "      <th>1</th>\n",
       "      <td>10.34</td>\n",
       "      <td>1.66</td>\n",
       "      <td>Male</td>\n",
       "      <td>No</td>\n",
       "      <td>Sun</td>\n",
       "      <td>Dinner</td>\n",
       "      <td>3</td>\n",
       "    </tr>\n",
       "    <tr>\n",
       "      <th>2</th>\n",
       "      <td>21.01</td>\n",
       "      <td>3.50</td>\n",
       "      <td>Male</td>\n",
       "      <td>No</td>\n",
       "      <td>Sun</td>\n",
       "      <td>Dinner</td>\n",
       "      <td>3</td>\n",
       "    </tr>\n",
       "    <tr>\n",
       "      <th>3</th>\n",
       "      <td>23.68</td>\n",
       "      <td>3.31</td>\n",
       "      <td>Male</td>\n",
       "      <td>No</td>\n",
       "      <td>Sun</td>\n",
       "      <td>Dinner</td>\n",
       "      <td>2</td>\n",
       "    </tr>\n",
       "    <tr>\n",
       "      <th>4</th>\n",
       "      <td>24.59</td>\n",
       "      <td>3.61</td>\n",
       "      <td>Female</td>\n",
       "      <td>No</td>\n",
       "      <td>Sun</td>\n",
       "      <td>Dinner</td>\n",
       "      <td>4</td>\n",
       "    </tr>\n",
       "  </tbody>\n",
       "</table>\n",
       "</div>"
      ],
      "text/plain": [
       "   total_bill   tip     sex smoker  day    time  size\n",
       "0       16.99  1.01  Female     No  Sun  Dinner     2\n",
       "1       10.34  1.66    Male     No  Sun  Dinner     3\n",
       "2       21.01  3.50    Male     No  Sun  Dinner     3\n",
       "3       23.68  3.31    Male     No  Sun  Dinner     2\n",
       "4       24.59  3.61  Female     No  Sun  Dinner     4"
      ]
     },
     "execution_count": 23,
     "metadata": {},
     "output_type": "execute_result"
    }
   ],
   "source": [
    "tips.head()"
   ]
  },
  {
   "cell_type": "markdown",
   "id": "6d6c8a32-ac40-43d1-a1d7-3a66d94b8dc6",
   "metadata": {},
   "source": [
    "### Finding 5 point summary "
   ]
  },
  {
   "cell_type": "code",
   "execution_count": 26,
   "id": "c9f393c2-2097-4642-ad9f-af5337f76f22",
   "metadata": {},
   "outputs": [
    {
     "data": {
      "text/plain": [
       "0.25    13.3475\n",
       "0.50    17.7950\n",
       "0.75    24.1275\n",
       "Name: total_bill, dtype: float64"
      ]
     },
     "execution_count": 26,
     "metadata": {},
     "output_type": "execute_result"
    }
   ],
   "source": [
    "tips['total_bill'].quantile([.25,.50,.75])"
   ]
  },
  {
   "cell_type": "code",
   "execution_count": 31,
   "id": "93766826-45bb-4acf-b111-5b12506c475b",
   "metadata": {},
   "outputs": [
    {
     "data": {
      "text/plain": [
       "19.78594262295082"
      ]
     },
     "execution_count": 31,
     "metadata": {},
     "output_type": "execute_result"
    }
   ],
   "source": [
    "tips['total_bill'].mean()"
   ]
  },
  {
   "cell_type": "code",
   "execution_count": 32,
   "id": "04c54c30-cd53-4fed-8795-a41bb2979295",
   "metadata": {},
   "outputs": [
    {
     "data": {
      "text/plain": [
       "<Axes: xlabel='total_bill'>"
      ]
     },
     "execution_count": 32,
     "metadata": {},
     "output_type": "execute_result"
    },
    {
     "data": {
      "image/png": "[encoded data removed]",
      "text/plain": [
       "<Figure size 640x480 with 1 Axes>"
      ]
     },
     "metadata": {},
     "output_type": "display_data"
    }
   ],
   "source": [
    "sns.boxplot(data=tips,x='total_bill')"
   ]
  },
  {
   "cell_type": "code",
   "execution_count": 33,
   "id": "85a30cf5-8d85-445b-8b04-02c05d4851f8",
   "metadata": {},
   "outputs": [
    {
     "data": {
      "text/plain": [
       "3.07"
      ]
     },
     "execution_count": 33,
     "metadata": {},
     "output_type": "execute_result"
    }
   ],
   "source": [
    "tips['total_bill'].min()"
   ]
  },
  {
   "cell_type": "code",
   "execution_count": 34,
   "id": "442dea0b-2145-40b4-8629-a86a6a9efa2d",
   "metadata": {},
   "outputs": [
    {
     "data": {
      "text/plain": [
       "50.81"
      ]
     },
     "execution_count": 34,
     "metadata": {},
     "output_type": "execute_result"
    }
   ],
   "source": [
    "tips['total_bill'].max()"
   ]
  },
  {
   "cell_type": "code",
   "execution_count": 36,
   "id": "d480edd7-18c4-45f7-98a4-95a59a788543",
   "metadata": {},
   "outputs": [
    {
     "data": {
      "text/plain": [
       "8.902411954856856"
      ]
     },
     "execution_count": 36,
     "metadata": {},
     "output_type": "execute_result"
    }
   ],
   "source": [
    "tips['total_bill'].std()"
   ]
  },
  {
   "cell_type": "code",
   "execution_count": 37,
   "id": "010451f5-3cc4-4dc2-b5eb-362a87dddc23",
   "metadata": {},
   "outputs": [
    {
     "data": {
      "text/plain": [
       "1.1332130376158205"
      ]
     },
     "execution_count": 37,
     "metadata": {},
     "output_type": "execute_result"
    }
   ],
   "source": [
    "tips['total_bill'].skew()"
   ]
  },
  {
   "cell_type": "code",
   "execution_count": 38,
   "id": "ceb9faef-a383-4deb-a880-3fac72adcd70",
   "metadata": {},
   "outputs": [
    {
     "name": "stderr",
     "output_type": "stream",
     "text": [
      "C:\\Users\\Anonymous\\anaconda3\\Lib\\site-packages\\seaborn\\_oldcore.py:1119: FutureWarning: use_inf_as_na option is deprecated and will be removed in a future version. Convert inf values to NaN before operating instead.\n",
      "  with pd.option_context('mode.use_inf_as_na', True):\n"
     ]
    },
    {
     "data": {
      "text/plain": [
       "<Axes: xlabel='total_bill', ylabel='Count'>"
      ]
     },
     "execution_count": 38,
     "metadata": {},
     "output_type": "execute_result"
    },
    {
     "data": {
      "image/png": "[encoded data removed]",
      "text/plain": [
       "<Figure size 640x480 with 1 Axes>"
      ]
     },
     "metadata": {},
     "output_type": "display_data"
    }
   ],
   "source": [
    "sns.histplot(data=tips,x='total_bill')"
   ]
  },
  {
   "cell_type": "code",
   "execution_count": null,
   "id": "16d4d741-5ae0-441d-916b-64fb124cc5a7",
   "metadata": {},
   "outputs": [],
   "source": []
  }
 ],
 "metadata": {
  "kernelspec": {
   "display_name": "Python 3 (ipykernel)",
   "language": "python",
   "name": "python3"
  },
  "language_info": {
   "codemirror_mode": {
    "name": "ipython",
    "version": 3
   },
   "file_extension": ".py",
   "mimetype": "text/x-python",
   "name": "python",
   "nbconvert_exporter": "python",
   "pygments_lexer": "ipython3",
   "version": "3.11.7"
  }
 },
 "nbformat": 4,
 "nbformat_minor": 5
}
