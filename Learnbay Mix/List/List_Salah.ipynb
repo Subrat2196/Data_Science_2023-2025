{
 "cells": [
  {
   "cell_type": "markdown",
   "id": "b585b97f-b803-408a-bfc5-30a54092a29c",
   "metadata": {},
   "source": [
    "### List"
   ]
  },
  {
   "cell_type": "code",
   "execution_count": 2,
   "id": "5c125884-6bb2-4a9c-96f8-aa853b07768e",
   "metadata": {},
   "outputs": [],
   "source": [
    " a = ['Hey',2,3,{1,2,3}]"
   ]
  },
  {
   "cell_type": "code",
   "execution_count": 3,
   "id": "aa3cd73d-b25c-4cf2-bec9-40bea982fa1b",
   "metadata": {},
   "outputs": [
    {
     "data": {
      "text/plain": [
       "['Hey', 2, 3, {1, 2, 3}]"
      ]
     },
     "execution_count": 3,
     "metadata": {},
     "output_type": "execute_result"
    }
   ],
   "source": [
    "a"
   ]
  },
  {
   "cell_type": "code",
   "execution_count": 4,
   "id": "a97cd090-e37a-47e0-a37f-d9a62e2354a7",
   "metadata": {},
   "outputs": [
    {
     "data": {
      "text/plain": [
       "{1, 2, 3}"
      ]
     },
     "execution_count": 4,
     "metadata": {},
     "output_type": "execute_result"
    }
   ],
   "source": [
    "a[3]"
   ]
  },
  {
   "cell_type": "code",
   "execution_count": 5,
   "id": "e6556aec-0b13-41b9-ba23-7d9d298bf52c",
   "metadata": {},
   "outputs": [
    {
     "data": {
      "text/plain": [
       "set"
      ]
     },
     "execution_count": 5,
     "metadata": {},
     "output_type": "execute_result"
    }
   ],
   "source": [
    "type(a[3])"
   ]
  },
  {
   "cell_type": "markdown",
   "id": "99d82ec9-7f9c-4249-95ca-1a184b70a0fe",
   "metadata": {},
   "source": [
    "## Different methods to create a list"
   ]
  },
  {
   "cell_type": "markdown",
   "id": "59f19217-0c2f-4959-b09d-432a223b5daa",
   "metadata": {},
   "source": [
    "##### 1. You know the elements "
   ]
  },
  {
   "cell_type": "code",
   "execution_count": 6,
   "id": "d178a2b4-3424-4204-b58d-553aab76a8d4",
   "metadata": {},
   "outputs": [],
   "source": [
    "a = ['Apple','Banana','Cherry']"
   ]
  },
  {
   "cell_type": "code",
   "execution_count": 7,
   "id": "afb2d22a-78da-4279-8ba6-fce29301c7a9",
   "metadata": {},
   "outputs": [
    {
     "data": {
      "text/plain": [
       "['Apple', 'Banana', 'Cherry']"
      ]
     },
     "execution_count": 7,
     "metadata": {},
     "output_type": "execute_result"
    }
   ],
   "source": [
    "a"
   ]
  },
  {
   "cell_type": "markdown",
   "id": "b65ba401-4e15-426e-9693-3ae621507d42",
   "metadata": {},
   "source": [
    "##### 2. Input from the user"
   ]
  },
  {
   "cell_type": "code",
   "execution_count": 8,
   "id": "647f0a4c-ee3d-4745-86e7-335a88bf6dc4",
   "metadata": {},
   "outputs": [],
   "source": [
    "# input by default will take the string as the input"
   ]
  },
  {
   "cell_type": "markdown",
   "id": "c68c54c8-a338-4d48-a94a-b757c07696a4",
   "metadata": {},
   "source": [
    "##### a. Using type casting"
   ]
  },
  {
   "cell_type": "code",
   "execution_count": 9,
   "id": "e40ef48d-be26-4e94-be4b-6825c15cf6d1",
   "metadata": {},
   "outputs": [
    {
     "name": "stdin",
     "output_type": "stream",
     "text": [
      "Enter a list 1,2,3,4,5\n"
     ]
    }
   ],
   "source": [
    "lst = list(input('Enter a list'))"
   ]
  },
  {
   "cell_type": "code",
   "execution_count": 10,
   "id": "775cc234-aaf1-44fd-a93e-8b3c1ea6a174",
   "metadata": {},
   "outputs": [
    {
     "data": {
      "text/plain": [
       "list"
      ]
     },
     "execution_count": 10,
     "metadata": {},
     "output_type": "execute_result"
    }
   ],
   "source": [
    "type(lst)"
   ]
  },
  {
   "cell_type": "code",
   "execution_count": 11,
   "id": "61fb8e4e-8b1f-4031-90b0-88efd1d8bbde",
   "metadata": {},
   "outputs": [
    {
     "data": {
      "text/plain": [
       "['1', ',', '2', ',', '3', ',', '4', ',', '5']"
      ]
     },
     "execution_count": 11,
     "metadata": {},
     "output_type": "execute_result"
    }
   ],
   "source": [
    "lst"
   ]
  },
  {
   "cell_type": "markdown",
   "id": "6f2f38d1-6a11-4607-9263-9740a7b2e447",
   "metadata": {},
   "source": [
    "##### b->  eval"
   ]
  },
  {
   "cell_type": "code",
   "execution_count": 12,
   "id": "03794559-bdbe-4574-beff-856b1016a011",
   "metadata": {},
   "outputs": [],
   "source": [
    "# in eval you need to pass the input in the form of list only"
   ]
  },
  {
   "cell_type": "code",
   "execution_count": 14,
   "id": "a4774c4c-8c8e-4111-a42f-8b2c244ed1a8",
   "metadata": {},
   "outputs": [
    {
     "name": "stdin",
     "output_type": "stream",
     "text": [
      "Enter the list :  [1,2,3,4,5]\n"
     ]
    }
   ],
   "source": [
    "lst = eval(input('Enter the list : '))"
   ]
  },
  {
   "cell_type": "code",
   "execution_count": 29,
   "id": "feb5e509-2254-4cf8-942c-91e759e2d872",
   "metadata": {},
   "outputs": [
    {
     "data": {
      "text/plain": [
       "tuple"
      ]
     },
     "execution_count": 29,
     "metadata": {},
     "output_type": "execute_result"
    }
   ],
   "source": [
    "type(lst)"
   ]
  },
  {
   "cell_type": "markdown",
   "id": "b31fdd71-1508-4117-bffc-f45c90f5c4ea",
   "metadata": {},
   "source": [
    "##### Here we can see it became a tuple as by default it will make it as tuple, therefore input we need to give in the form of list i.e [1,2,3,4,5] , if we make it as 1,2,3,4,5 it will take it as a tuple in case of eval"
   ]
  },
  {
   "cell_type": "code",
   "execution_count": 15,
   "id": "326b738e-b8b6-4d7b-9903-7de0c9e295b2",
   "metadata": {},
   "outputs": [],
   "source": [
    "str = 'a,b,c'"
   ]
  },
  {
   "cell_type": "code",
   "execution_count": 16,
   "id": "d0c7c13f-bd15-4512-8268-3acb977b7a49",
   "metadata": {},
   "outputs": [],
   "source": [
    "ls = list(str)"
   ]
  },
  {
   "cell_type": "code",
   "execution_count": 17,
   "id": "28f4a31e-7f98-4ce0-a6c4-85d3ab5146e6",
   "metadata": {},
   "outputs": [
    {
     "data": {
      "text/plain": [
       "['a', ',', 'b', ',', 'c']"
      ]
     },
     "execution_count": 17,
     "metadata": {},
     "output_type": "execute_result"
    }
   ],
   "source": [
    "ls"
   ]
  },
  {
   "cell_type": "markdown",
   "id": "4f6d5167-230c-4710-9b65-5ee7e6b1cd8b",
   "metadata": {},
   "source": [
    "#### 3. Using split function"
   ]
  },
  {
   "cell_type": "markdown",
   "id": "8e83105e-6c22-4613-96e2-cec0ae34a390",
   "metadata": {},
   "source": [
    "#### Whenever we are converting string to list, each character of the list will act as a seperate element of the list"
   ]
  },
  {
   "cell_type": "code",
   "execution_count": 18,
   "id": "bc7d7ba4-3db9-44a5-9238-2a193d2d552c",
   "metadata": {},
   "outputs": [],
   "source": [
    "str1 = 'Hello World is the new trend'"
   ]
  },
  {
   "cell_type": "code",
   "execution_count": 19,
   "id": "174a27c4-2c81-4e0e-8969-af9b5195343f",
   "metadata": {},
   "outputs": [
    {
     "data": {
      "text/plain": [
       "['Hello', 'World', 'is', 'the', 'new', 'trend']"
      ]
     },
     "execution_count": 19,
     "metadata": {},
     "output_type": "execute_result"
    }
   ],
   "source": [
    "str1.split()"
   ]
  },
  {
   "cell_type": "code",
   "execution_count": 20,
   "id": "a6dbe431-acf5-4892-9670-08eb261139e4",
   "metadata": {},
   "outputs": [],
   "source": [
    "# Split by default will make the string as the list"
   ]
  },
  {
   "cell_type": "code",
   "execution_count": 21,
   "id": "e49e981e-25b0-47ed-8842-66366cac5a4a",
   "metadata": {},
   "outputs": [
    {
     "name": "stdin",
     "output_type": "stream",
     "text": [
      " 1,2,3,4,5\n"
     ]
    },
    {
     "data": {
      "text/plain": [
       "['1', '2', '3', '4', '5']"
      ]
     },
     "execution_count": 21,
     "metadata": {},
     "output_type": "execute_result"
    }
   ],
   "source": [
    "a=input()\n",
    "a.split(',')"
   ]
  },
  {
   "cell_type": "markdown",
   "id": "9314606a-48de-4594-8fe7-a4fdaddd9423",
   "metadata": {},
   "source": [
    "#### eval by default will give tuple "
   ]
  },
  {
   "cell_type": "code",
   "execution_count": 23,
   "id": "e4e99431-a221-4d2d-a5e7-e2264f3fe30a",
   "metadata": {},
   "outputs": [
    {
     "name": "stdin",
     "output_type": "stream",
     "text": [
      " 1,2,3,4\n"
     ]
    },
    {
     "data": {
      "text/plain": [
       "tuple"
      ]
     },
     "execution_count": 23,
     "metadata": {},
     "output_type": "execute_result"
    }
   ],
   "source": [
    "tp = eval(input())\n",
    "type(tp)"
   ]
  },
  {
   "cell_type": "code",
   "execution_count": 24,
   "id": "cc47f165-dd68-49cb-ab45-8e3ed0b01f3c",
   "metadata": {},
   "outputs": [],
   "source": [
    "l = list(tp)"
   ]
  },
  {
   "cell_type": "code",
   "execution_count": 25,
   "id": "e0a06a91-450a-4cae-93d3-439e34cf8e96",
   "metadata": {},
   "outputs": [
    {
     "data": {
      "text/plain": [
       "[1, 2, 3, 4]"
      ]
     },
     "execution_count": 25,
     "metadata": {},
     "output_type": "execute_result"
    }
   ],
   "source": [
    "l"
   ]
  },
  {
   "cell_type": "code",
   "execution_count": null,
   "id": "c6a54059-49e3-4dd0-8184-2f21a2580ccd",
   "metadata": {},
   "outputs": [],
   "source": []
  },
  {
   "cell_type": "markdown",
   "id": "90a74ede-ad4b-4e35-9fa2-ae3b5cdf4b18",
   "metadata": {},
   "source": [
    "### Properties of list"
   ]
  },
  {
   "cell_type": "markdown",
   "id": "d1b0f2ac-1e46-44f0-ad81-6372ec695964",
   "metadata": {},
   "source": [
    "- Sequential data type since indexing , slicing , concatenation, repetition, membership, identity are all supported"
   ]
  },
  {
   "cell_type": "markdown",
   "id": "7084ed37-f5bf-42cf-9054-07dc2201c761",
   "metadata": {},
   "source": [
    "### List is a mutable data type"
   ]
  },
  {
   "cell_type": "code",
   "execution_count": 26,
   "id": "1908efd2-2192-48c7-8d6e-8a763d1ea4c0",
   "metadata": {},
   "outputs": [],
   "source": [
    "lst=[1,2,3,4,5,6]"
   ]
  },
  {
   "cell_type": "code",
   "execution_count": 27,
   "id": "4cbb2992-d951-4f35-86ad-6ee9aff14be4",
   "metadata": {},
   "outputs": [
    {
     "data": {
      "text/plain": [
       "4"
      ]
     },
     "execution_count": 27,
     "metadata": {},
     "output_type": "execute_result"
    }
   ],
   "source": [
    "lst[3]"
   ]
  },
  {
   "cell_type": "code",
   "execution_count": 28,
   "id": "1c5eae9d-3db7-46dc-88e3-57330e4c78a9",
   "metadata": {},
   "outputs": [],
   "source": [
    "lst[4]=10"
   ]
  },
  {
   "cell_type": "code",
   "execution_count": 29,
   "id": "56be8963-5e9e-48f5-94bf-e25041444d4c",
   "metadata": {},
   "outputs": [
    {
     "data": {
      "text/plain": [
       "[1, 2, 3, 4, 10, 6]"
      ]
     },
     "execution_count": 29,
     "metadata": {},
     "output_type": "execute_result"
    }
   ],
   "source": [
    "lst"
   ]
  },
  {
   "cell_type": "code",
   "execution_count": 30,
   "id": "3fbd96bc-4b19-4478-8c9d-015b917de4aa",
   "metadata": {},
   "outputs": [
    {
     "data": {
      "text/plain": [
       "10"
      ]
     },
     "execution_count": 30,
     "metadata": {},
     "output_type": "execute_result"
    }
   ],
   "source": [
    "lst[-2]"
   ]
  },
  {
   "cell_type": "code",
   "execution_count": 31,
   "id": "e2803847-864b-49cb-979b-6827f96644e2",
   "metadata": {},
   "outputs": [
    {
     "data": {
      "text/plain": [
       "1"
      ]
     },
     "execution_count": 31,
     "metadata": {},
     "output_type": "execute_result"
    }
   ],
   "source": [
    "lst[-len(lst)]"
   ]
  },
  {
   "cell_type": "code",
   "execution_count": 38,
   "id": "ef30ce31-d570-4f79-b62b-4a8189f56a47",
   "metadata": {},
   "outputs": [
    {
     "data": {
      "text/plain": [
       "[1, 2, 3, 4, 10, 6]"
      ]
     },
     "execution_count": 38,
     "metadata": {},
     "output_type": "execute_result"
    }
   ],
   "source": [
    "lst"
   ]
  },
  {
   "cell_type": "code",
   "execution_count": 43,
   "id": "feee4bb7-47ac-4f73-b4c4-28f8898a021e",
   "metadata": {},
   "outputs": [
    {
     "data": {
      "text/plain": [
       "[10, 4]"
      ]
     },
     "execution_count": 43,
     "metadata": {},
     "output_type": "execute_result"
    }
   ],
   "source": [
    "lst[-2:-4:-1]"
   ]
  },
  {
   "cell_type": "markdown",
   "id": "68ed3907-d2c6-4a7f-9be2-7ae2ba3abba4",
   "metadata": {},
   "source": [
    "#### For performing the concatenation both the data types should be of same type"
   ]
  },
  {
   "cell_type": "markdown",
   "id": "61e04f55-4553-4b0c-bea4-61c4c6e9ed94",
   "metadata": {},
   "source": [
    "#### Concatenation ( + )"
   ]
  },
  {
   "cell_type": "code",
   "execution_count": 44,
   "id": "72b9f881-fbcc-4f50-a77f-47fa9c654377",
   "metadata": {},
   "outputs": [
    {
     "name": "stdout",
     "output_type": "stream",
     "text": [
      "5\n"
     ]
    }
   ],
   "source": [
    "print(lst[1]+lst[2])"
   ]
  },
  {
   "cell_type": "code",
   "execution_count": 45,
   "id": "75bd338f-7237-4b07-962d-1fce8ddfb69d",
   "metadata": {},
   "outputs": [
    {
     "data": {
      "text/plain": [
       "[1, 2, 3, 'Hello', 'There']"
      ]
     },
     "execution_count": 45,
     "metadata": {},
     "output_type": "execute_result"
    }
   ],
   "source": [
    "a = [1,2,3]\n",
    "b= ['Hello','There']\n",
    "a+b"
   ]
  },
  {
   "cell_type": "markdown",
   "id": "0d3c8a2c-a2b6-4dc0-92f9-fd6685b7d14a",
   "metadata": {},
   "source": [
    "#### For performing repetion one should be a list and other should be an integer"
   ]
  },
  {
   "cell_type": "markdown",
   "id": "c77e759b-a64d-4b52-9a8e-d40559a6df4f",
   "metadata": {},
   "source": [
    "#### Repetition ( * )"
   ]
  },
  {
   "cell_type": "code",
   "execution_count": null,
   "id": "51bba848-046d-4c1c-ad2c-e1c12aeccfbf",
   "metadata": {},
   "outputs": [],
   "source": []
  },
  {
   "cell_type": "code",
   "execution_count": 46,
   "id": "f7056db6-bf18-4991-9cc8-0f2f9f3a0f48",
   "metadata": {},
   "outputs": [
    {
     "data": {
      "text/plain": [
       "[3, 4, 'Hello', 3, 4, 'Hello', 3, 4, 'Hello']"
      ]
     },
     "execution_count": 46,
     "metadata": {},
     "output_type": "execute_result"
    }
   ],
   "source": [
    "a=[3,4,'Hello']\n",
    "b= 3 \n",
    "a * b"
   ]
  },
  {
   "cell_type": "code",
   "execution_count": null,
   "id": "63faf451-a834-4f44-878a-88fb0dec3c79",
   "metadata": {},
   "outputs": [],
   "source": []
  },
  {
   "cell_type": "markdown",
   "id": "448ef7ef-6347-450f-af1e-bafcf0884f37",
   "metadata": {},
   "source": [
    "#### Don't think in case of lists that it will be multiplication, * denotes repetition in list"
   ]
  },
  {
   "cell_type": "code",
   "execution_count": 47,
   "id": "aeca8212-bb2b-4ea2-88ab-b9e92fd14296",
   "metadata": {},
   "outputs": [
    {
     "data": {
      "text/plain": [
       "[1, 2, 3, 1, 2, 3, 1, 2, 3]"
      ]
     },
     "execution_count": 47,
     "metadata": {},
     "output_type": "execute_result"
    }
   ],
   "source": [
    "a = [1,2,3] \n",
    "b=3\n",
    "a * b"
   ]
  },
  {
   "cell_type": "markdown",
   "id": "866b2f64-1c6f-42cf-b25b-cb54f335fb41",
   "metadata": {},
   "source": []
  },
  {
   "cell_type": "code",
   "execution_count": null,
   "id": "9cb4e2e7-b184-4a11-a1e1-c8da98d38e9e",
   "metadata": {},
   "outputs": [],
   "source": []
  },
  {
   "cell_type": "markdown",
   "id": "6eafad2a-0511-4eff-8e51-a8adeb53741c",
   "metadata": {},
   "source": [
    "### Membership Operators -> in and not in"
   ]
  },
  {
   "cell_type": "markdown",
   "id": "2987c42e-7939-46c3-b24f-81ed66ffaf6a",
   "metadata": {},
   "source": [
    "##### Return true is element in datatype, return false if not"
   ]
  },
  {
   "cell_type": "code",
   "execution_count": 51,
   "id": "9c8b846f-6980-4021-b275-9e36685e29d2",
   "metadata": {},
   "outputs": [],
   "source": [
    "a = ['a','b',3,4,5]"
   ]
  },
  {
   "cell_type": "code",
   "execution_count": 49,
   "id": "cb73e472-fa11-489e-9b54-8425e7ddd7e0",
   "metadata": {},
   "outputs": [
    {
     "data": {
      "text/plain": [
       "False"
      ]
     },
     "execution_count": 49,
     "metadata": {},
     "output_type": "execute_result"
    }
   ],
   "source": [
    "'c' in a"
   ]
  },
  {
   "cell_type": "code",
   "execution_count": 50,
   "id": "ebfdd40b-d586-48a8-acfe-d527806edccf",
   "metadata": {},
   "outputs": [
    {
     "data": {
      "text/plain": [
       "True"
      ]
     },
     "execution_count": 50,
     "metadata": {},
     "output_type": "execute_result"
    }
   ],
   "source": [
    "4 in a"
   ]
  },
  {
   "cell_type": "code",
   "execution_count": 52,
   "id": "906cfe4f-4740-45a0-b06c-001f94dd89ff",
   "metadata": {},
   "outputs": [
    {
     "data": {
      "text/plain": [
       "False"
      ]
     },
     "execution_count": 52,
     "metadata": {},
     "output_type": "execute_result"
    }
   ],
   "source": [
    "3 not in a"
   ]
  },
  {
   "cell_type": "code",
   "execution_count": 53,
   "id": "3b7a37d5-f3bc-4b2a-9f2c-7b038bbb544f",
   "metadata": {},
   "outputs": [
    {
     "data": {
      "text/plain": [
       "True"
      ]
     },
     "execution_count": 53,
     "metadata": {},
     "output_type": "execute_result"
    }
   ],
   "source": [
    "6 not in a"
   ]
  },
  {
   "cell_type": "markdown",
   "id": "6e317456-e85f-4647-a710-b48297dba59b",
   "metadata": {},
   "source": [
    "#### Identity Operators -> is and is not"
   ]
  },
  {
   "cell_type": "code",
   "execution_count": 55,
   "id": "9b11d5f1-e428-490e-9c79-9a1dd7e09fb5",
   "metadata": {},
   "outputs": [
    {
     "name": "stdout",
     "output_type": "stream",
     "text": [
      "1528112941056\n",
      "1528112209408\n"
     ]
    }
   ],
   "source": [
    "a = ['a','b','c']\n",
    "b = ['a','b','c']\n",
    "print(id(a))\n",
    "print(id(b))"
   ]
  },
  {
   "cell_type": "code",
   "execution_count": 56,
   "id": "b8b3d732-f762-4266-908f-dc8b5cbd0b32",
   "metadata": {},
   "outputs": [
    {
     "name": "stdout",
     "output_type": "stream",
     "text": [
      "False\n"
     ]
    }
   ],
   "source": [
    "print(a is b)"
   ]
  },
  {
   "cell_type": "code",
   "execution_count": 57,
   "id": "551b75b9-8edc-4631-b87c-d75428a2d8b0",
   "metadata": {},
   "outputs": [
    {
     "data": {
      "text/plain": [
       "True"
      ]
     },
     "execution_count": 57,
     "metadata": {},
     "output_type": "execute_result"
    }
   ],
   "source": [
    "a is not b"
   ]
  },
  {
   "cell_type": "markdown",
   "id": "9bfa54e0-6c2b-4817-8d4d-5d3ba8497892",
   "metadata": {},
   "source": [
    "#### Difference between identity operator and Assignment operator ***"
   ]
  },
  {
   "cell_type": "code",
   "execution_count": 59,
   "id": "c12e491d-ac35-499f-bb44-fb5abe6a8143",
   "metadata": {},
   "outputs": [
    {
     "data": {
      "text/plain": [
       "True"
      ]
     },
     "execution_count": 59,
     "metadata": {},
     "output_type": "execute_result"
    }
   ],
   "source": [
    "a == b"
   ]
  },
  {
   "cell_type": "code",
   "execution_count": 60,
   "id": "3e495f2d-f525-43cb-b974-cc0f69201ac8",
   "metadata": {},
   "outputs": [
    {
     "data": {
      "text/plain": [
       "False"
      ]
     },
     "execution_count": 60,
     "metadata": {},
     "output_type": "execute_result"
    }
   ],
   "source": [
    "a is b"
   ]
  },
  {
   "cell_type": "markdown",
   "id": "6e38942e-b504-4933-a93e-d6c684168566",
   "metadata": {},
   "source": [
    "##### Here the assignment deals with the value of variables to be same, whereas is deals with the id or the address of the data to be the same"
   ]
  },
  {
   "cell_type": "code",
   "execution_count": null,
   "id": "f9400ac4-6fcf-4bc0-a59f-860b2d8c639e",
   "metadata": {},
   "outputs": [],
   "source": []
  },
  {
   "cell_type": "code",
   "execution_count": null,
   "id": "255cbce2-6a24-4493-8185-8599b65444ec",
   "metadata": {},
   "outputs": [],
   "source": []
  },
  {
   "cell_type": "markdown",
   "id": "4b30f8ac-d2da-4cef-aada-8b09f2533955",
   "metadata": {},
   "source": [
    "### Nested Lists"
   ]
  },
  {
   "cell_type": "code",
   "execution_count": 61,
   "id": "917f128c-a6ea-46ea-a3ce-d88078fd229f",
   "metadata": {},
   "outputs": [],
   "source": [
    "a=[1,2,3,4,[5,6,7,8]]"
   ]
  },
  {
   "cell_type": "code",
   "execution_count": 64,
   "id": "b067cb11-4dbf-4453-ada7-1fc861965034",
   "metadata": {},
   "outputs": [
    {
     "data": {
      "text/plain": [
       "8"
      ]
     },
     "execution_count": 64,
     "metadata": {},
     "output_type": "execute_result"
    }
   ],
   "source": [
    "a[4][3]"
   ]
  },
  {
   "cell_type": "code",
   "execution_count": 65,
   "id": "efc28bdc-f74c-42ac-a5fd-6395576d95c7",
   "metadata": {},
   "outputs": [
    {
     "data": {
      "text/plain": [
       "[5, 6, 7, 8]"
      ]
     },
     "execution_count": 65,
     "metadata": {},
     "output_type": "execute_result"
    }
   ],
   "source": [
    "a[-1]"
   ]
  },
  {
   "cell_type": "code",
   "execution_count": 66,
   "id": "575953d3-c3c6-4b75-bc99-6d326e41dcfe",
   "metadata": {},
   "outputs": [
    {
     "data": {
      "text/plain": [
       "7"
      ]
     },
     "execution_count": 66,
     "metadata": {},
     "output_type": "execute_result"
    }
   ],
   "source": [
    "a[-1][-2]"
   ]
  },
  {
   "cell_type": "code",
   "execution_count": 67,
   "id": "75ca71b6-09e9-4563-8d05-e7e7db85e7c3",
   "metadata": {},
   "outputs": [],
   "source": [
    "import numpy as np"
   ]
  },
  {
   "cell_type": "code",
   "execution_count": 73,
   "id": "e9a1e6c3-7626-49e7-8eab-5f923d66e5b3",
   "metadata": {},
   "outputs": [
    {
     "data": {
      "text/plain": [
       "array([[ 0,  1,  2,  3,  4,  5,  6,  7,  8],\n",
       "       [ 9, 10, 11, 12, 13, 14, 15, 16, 17],\n",
       "       [18, 19, 20, 21, 22, 23, 24, 25, 26],\n",
       "       [27, 28, 29, 30, 31, 32, 33, 34, 35]])"
      ]
     },
     "execution_count": 73,
     "metadata": {},
     "output_type": "execute_result"
    }
   ],
   "source": [
    "np.arange(36).reshape((4,9))"
   ]
  },
  {
   "cell_type": "markdown",
   "id": "8d38a983-4124-4225-816e-8f740810453f",
   "metadata": {},
   "source": [
    "#### Reshape method in numpy requires a Tuple as an argument"
   ]
  },
  {
   "cell_type": "markdown",
   "id": "2815051b-d57f-4ccb-96ac-2b5cd4b7504b",
   "metadata": {},
   "source": []
  },
  {
   "cell_type": "code",
   "execution_count": null,
   "id": "349c9aba-4635-424d-b275-9cc9cb5a7ce3",
   "metadata": {},
   "outputs": [],
   "source": []
  },
  {
   "cell_type": "markdown",
   "id": "93956d92-bbfa-4fdc-9999-2cbfd3962cf6",
   "metadata": {},
   "source": [
    "## Important Point"
   ]
  },
  {
   "cell_type": "markdown",
   "id": "5a320dca-a27c-4f37-853c-5dfc48741f10",
   "metadata": {},
   "source": [
    "###  List vs String "
   ]
  },
  {
   "cell_type": "markdown",
   "id": "d197dede-4674-4967-8543-9b7ecf2ffe91",
   "metadata": {},
   "source": [
    "#### 1 . List is a mutable data type whereas string is an immutable data type  "
   ]
  },
  {
   "cell_type": "markdown",
   "id": "b8a47fcf-075f-40c8-81c2-38038cfc212d",
   "metadata": {},
   "source": [
    "#### 2. List will not create a new object for each method , whereas string creates a new object for each method "
   ]
  },
  {
   "cell_type": "markdown",
   "id": "3acf408c-a4c3-44e2-adc7-3bf8e4485bf7",
   "metadata": {},
   "source": [
    "e.g"
   ]
  },
  {
   "cell_type": "code",
   "execution_count": 32,
   "id": "50fc5ddb-d3e0-4ef3-a5f3-a430ce9c15ba",
   "metadata": {},
   "outputs": [
    {
     "name": "stdout",
     "output_type": "stream",
     "text": [
      "None\n"
     ]
    }
   ],
   "source": [
    "l = [1,2,3,4,5]\n",
    "print(l.append(100))  # the output is None because it is not creating any new object , it is using the existing object"
   ]
  },
  {
   "cell_type": "code",
   "execution_count": 30,
   "id": "be3bebbd-19a1-4396-b4bc-57e7a205bd20",
   "metadata": {},
   "outputs": [
    {
     "data": {
      "text/plain": [
       "[1, 2, 3, 4, 5, 100]"
      ]
     },
     "execution_count": 30,
     "metadata": {},
     "output_type": "execute_result"
    }
   ],
   "source": [
    "l      # Here list is a mutable data type, also function makes changes in the original data"
   ]
  },
  {
   "cell_type": "code",
   "execution_count": 28,
   "id": "d298c99f-f24b-459c-8387-796aba8a6730",
   "metadata": {},
   "outputs": [
    {
     "data": {
      "text/plain": [
       "'Hey where what are you doing'"
      ]
     },
     "execution_count": 28,
     "metadata": {},
     "output_type": "execute_result"
    }
   ],
   "source": [
    "s = 'Hey There what are you doing'\n",
    "s.replace('T','w')"
   ]
  },
  {
   "cell_type": "code",
   "execution_count": 31,
   "id": "9de71fe1-f161-4079-acef-0089654c20aa",
   "metadata": {},
   "outputs": [
    {
     "data": {
      "text/plain": [
       "'Hey There what are you doing'"
      ]
     },
     "execution_count": 31,
     "metadata": {},
     "output_type": "execute_result"
    }
   ],
   "source": [
    "s   # Here string is an immutable data type ,function didn't made any changes in the existing data "
   ]
  },
  {
   "cell_type": "code",
   "execution_count": null,
   "id": "a252da97-7a8b-4189-9417-b88c3b2a0cda",
   "metadata": {},
   "outputs": [],
   "source": []
  },
  {
   "cell_type": "markdown",
   "id": "a107fa02-c576-4a51-a9c5-8cca5f3cd647",
   "metadata": {},
   "source": [
    "# Methods of List"
   ]
  },
  {
   "cell_type": "code",
   "execution_count": 1,
   "id": "2a9cd7c2-49c9-4dfb-97e8-d2f3201805b2",
   "metadata": {},
   "outputs": [
    {
     "name": "stdout",
     "output_type": "stream",
     "text": [
      "['__add__', '__class__', '__class_getitem__', '__contains__', '__delattr__', '__delitem__', '__dir__', '__doc__', '__eq__', '__format__', '__ge__', '__getattribute__', '__getitem__', '__getstate__', '__gt__', '__hash__', '__iadd__', '__imul__', '__init__', '__init_subclass__', '__iter__', '__le__', '__len__', '__lt__', '__mul__', '__ne__', '__new__', '__reduce__', '__reduce_ex__', '__repr__', '__reversed__', '__rmul__', '__setattr__', '__setitem__', '__sizeof__', '__str__', '__subclasshook__', 'append', 'clear', 'copy', 'count', 'extend', 'index', 'insert', 'pop', 'remove', 'reverse', 'sort']\n"
     ]
    }
   ],
   "source": [
    "print(dir(list))"
   ]
  },
  {
   "cell_type": "markdown",
   "id": "f5f607a5-d537-4679-805d-55e61625ba6b",
   "metadata": {},
   "source": [
    "#### Methods to insert/add an element in the list"
   ]
  },
  {
   "cell_type": "markdown",
   "id": "caf5ffde-4ea0-4c34-a051-2254c3f87a3b",
   "metadata": {},
   "source": [
    "there are 3 methods for this :-\n",
    "1. append\n",
    "2. extend\n",
    "3. insert"
   ]
  },
  {
   "cell_type": "markdown",
   "id": "60df1a1e-912d-40d7-92f0-10721780c3d9",
   "metadata": {},
   "source": [
    "##### 1. Append"
   ]
  },
  {
   "cell_type": "markdown",
   "id": "caa9eb41-929e-4583-81c2-8c11215f0be4",
   "metadata": {},
   "source": [
    "1. Appends an element at the end of the list\n",
    "2. You can only insert 1 element at a time"
   ]
  },
  {
   "cell_type": "code",
   "execution_count": 13,
   "id": "7a0e6741-6055-4858-a46b-cb27a779a02f",
   "metadata": {},
   "outputs": [],
   "source": [
    "lst = 'Hello There How are you i am fine'.split()"
   ]
  },
  {
   "cell_type": "code",
   "execution_count": 14,
   "id": "c8de03b7-faf2-4924-a9be-5be09cd05e44",
   "metadata": {},
   "outputs": [
    {
     "data": {
      "text/plain": [
       "['Hello', 'There', 'How', 'are', 'you', 'i', 'am', 'fine']"
      ]
     },
     "execution_count": 14,
     "metadata": {},
     "output_type": "execute_result"
    }
   ],
   "source": [
    "lst"
   ]
  },
  {
   "cell_type": "code",
   "execution_count": 15,
   "id": "21072550-ea63-4870-aa94-d9e7f3f957f9",
   "metadata": {},
   "outputs": [],
   "source": [
    "lst.append('Hey There')"
   ]
  },
  {
   "cell_type": "code",
   "execution_count": 34,
   "id": "76425bc1-b743-4bf6-939d-5624bcae0d38",
   "metadata": {},
   "outputs": [
    {
     "data": {
      "text/plain": [
       "['Hello',\n",
       " 'There',\n",
       " 'How',\n",
       " 'are',\n",
       " 'you',\n",
       " 'i',\n",
       " 'am',\n",
       " 'fine',\n",
       " 'Hey There',\n",
       " 'I also',\n",
       " 'Just',\n",
       " 'wanted',\n",
       " 'to',\n",
       " 'say',\n",
       " 'you',\n",
       " 'look',\n",
       " 'beautiful',\n",
       " 1,\n",
       " 2,\n",
       " 3,\n",
       " 4,\n",
       " 5]"
      ]
     },
     "execution_count": 34,
     "metadata": {},
     "output_type": "execute_result"
    }
   ],
   "source": [
    "lst"
   ]
  },
  {
   "cell_type": "code",
   "execution_count": 35,
   "id": "a22a7b05-405a-43a8-9c16-f055bab7dfa3",
   "metadata": {},
   "outputs": [
    {
     "ename": "TypeError",
     "evalue": "list.append() takes exactly one argument (2 given)",
     "output_type": "error",
     "traceback": [
      "\u001b[1;31m---------------------------------------------------------------------------\u001b[0m",
      "\u001b[1;31mTypeError\u001b[0m                                 Traceback (most recent call last)",
      "Cell \u001b[1;32mIn[35], line 1\u001b[0m\n\u001b[1;32m----> 1\u001b[0m lst\u001b[38;5;241m.\u001b[39mappend(\u001b[38;5;241m6\u001b[39m,\u001b[38;5;241m7\u001b[39m)\n",
      "\u001b[1;31mTypeError\u001b[0m: list.append() takes exactly one argument (2 given)"
     ]
    }
   ],
   "source": [
    "lst.append(6,7)"
   ]
  },
  {
   "cell_type": "markdown",
   "id": "f5971c01-6507-4deb-be3d-413fd1d8ddad",
   "metadata": {},
   "source": [
    "###### Here append can only insert one element at a time"
   ]
  },
  {
   "cell_type": "code",
   "execution_count": 36,
   "id": "bc7f9d0b-68eb-4e95-8049-c36925db0706",
   "metadata": {},
   "outputs": [],
   "source": [
    "lst.append([3,5])"
   ]
  },
  {
   "cell_type": "markdown",
   "id": "5cd29b45-3543-4471-9453-66b66bf30429",
   "metadata": {},
   "source": [
    "###### Here this is working since list is considered as a single object"
   ]
  },
  {
   "cell_type": "code",
   "execution_count": 37,
   "id": "c52711a7-d224-4376-8ac5-bd3c3c1441e3",
   "metadata": {},
   "outputs": [
    {
     "data": {
      "text/plain": [
       "['Hello',\n",
       " 'There',\n",
       " 'How',\n",
       " 'are',\n",
       " 'you',\n",
       " 'i',\n",
       " 'am',\n",
       " 'fine',\n",
       " 'Hey There',\n",
       " 'I also',\n",
       " 'Just',\n",
       " 'wanted',\n",
       " 'to',\n",
       " 'say',\n",
       " 'you',\n",
       " 'look',\n",
       " 'beautiful',\n",
       " 1,\n",
       " 2,\n",
       " 3,\n",
       " 4,\n",
       " 5,\n",
       " [3, 5]]"
      ]
     },
     "execution_count": 37,
     "metadata": {},
     "output_type": "execute_result"
    }
   ],
   "source": [
    "lst"
   ]
  },
  {
   "cell_type": "code",
   "execution_count": 38,
   "id": "8e7c5fe4-a3db-4282-bb96-7ff8fc4ea610",
   "metadata": {},
   "outputs": [],
   "source": [
    "lst.append(tp)"
   ]
  },
  {
   "cell_type": "code",
   "execution_count": 39,
   "id": "52a07d3c-f8ab-4b0c-8997-76d4310ad190",
   "metadata": {},
   "outputs": [
    {
     "data": {
      "text/plain": [
       "['Hello',\n",
       " 'There',\n",
       " 'How',\n",
       " 'are',\n",
       " 'you',\n",
       " 'i',\n",
       " 'am',\n",
       " 'fine',\n",
       " 'Hey There',\n",
       " 'I also',\n",
       " 'Just',\n",
       " 'wanted',\n",
       " 'to',\n",
       " 'say',\n",
       " 'you',\n",
       " 'look',\n",
       " 'beautiful',\n",
       " 1,\n",
       " 2,\n",
       " 3,\n",
       " 4,\n",
       " 5,\n",
       " [3, 5],\n",
       " (1, 2, 3, 4, 5)]"
      ]
     },
     "execution_count": 39,
     "metadata": {},
     "output_type": "execute_result"
    }
   ],
   "source": [
    "lst"
   ]
  },
  {
   "cell_type": "code",
   "execution_count": null,
   "id": "3e5eb019-ff1e-4fe9-b71e-949163041694",
   "metadata": {},
   "outputs": [],
   "source": []
  },
  {
   "cell_type": "markdown",
   "id": "415639d2-79c7-44c6-9fbe-fc67186c2b8a",
   "metadata": {},
   "source": [
    "##### 2. Extend"
   ]
  },
  {
   "cell_type": "markdown",
   "id": "baa033df-33ed-4738-91a7-0d998e444bdb",
   "metadata": {},
   "source": [
    "1. Extend can insert multiple records at a time "
   ]
  },
  {
   "cell_type": "code",
   "execution_count": 17,
   "id": "75bfd8c3-90dd-469f-a703-dc5da33a5b75",
   "metadata": {},
   "outputs": [],
   "source": [
    "lst2 = 'Just wanted to say you look beautiful'.split()"
   ]
  },
  {
   "cell_type": "code",
   "execution_count": 18,
   "id": "1070052d-b697-4f47-b060-4b3ba04061ce",
   "metadata": {},
   "outputs": [],
   "source": [
    "lst.extend(lst2)"
   ]
  },
  {
   "cell_type": "code",
   "execution_count": 19,
   "id": "d9bfd5c8-d53c-464c-94a9-061d1a63797c",
   "metadata": {},
   "outputs": [
    {
     "data": {
      "text/plain": [
       "['Hello',\n",
       " 'There',\n",
       " 'How',\n",
       " 'are',\n",
       " 'you',\n",
       " 'i',\n",
       " 'am',\n",
       " 'fine',\n",
       " 'Hey There',\n",
       " 'Just',\n",
       " 'wanted',\n",
       " 'to',\n",
       " 'say',\n",
       " 'you',\n",
       " 'look',\n",
       " 'beautiful']"
      ]
     },
     "execution_count": 19,
     "metadata": {},
     "output_type": "execute_result"
    }
   ],
   "source": [
    "lst"
   ]
  },
  {
   "cell_type": "code",
   "execution_count": 20,
   "id": "bfeefdf7-d3f1-4a8c-861e-66d8fedd270a",
   "metadata": {},
   "outputs": [],
   "source": [
    "tp = (1,2,3,4,5)"
   ]
  },
  {
   "cell_type": "code",
   "execution_count": 21,
   "id": "b71c4fe0-adde-403d-9f9c-8c6362a17b42",
   "metadata": {},
   "outputs": [
    {
     "data": {
      "text/plain": [
       "tuple"
      ]
     },
     "execution_count": 21,
     "metadata": {},
     "output_type": "execute_result"
    }
   ],
   "source": [
    "type(tp)"
   ]
  },
  {
   "cell_type": "code",
   "execution_count": 22,
   "id": "2aea60fb-87e3-4ac2-ba25-c47a0c910783",
   "metadata": {},
   "outputs": [],
   "source": [
    "lst.extend(tp)"
   ]
  },
  {
   "cell_type": "code",
   "execution_count": 23,
   "id": "f298a590-7288-48fe-87f2-3f4444a54dd8",
   "metadata": {},
   "outputs": [
    {
     "data": {
      "text/plain": [
       "['Hello',\n",
       " 'There',\n",
       " 'How',\n",
       " 'are',\n",
       " 'you',\n",
       " 'i',\n",
       " 'am',\n",
       " 'fine',\n",
       " 'Hey There',\n",
       " 'Just',\n",
       " 'wanted',\n",
       " 'to',\n",
       " 'say',\n",
       " 'you',\n",
       " 'look',\n",
       " 'beautiful',\n",
       " 1,\n",
       " 2,\n",
       " 3,\n",
       " 4,\n",
       " 5]"
      ]
     },
     "execution_count": 23,
     "metadata": {},
     "output_type": "execute_result"
    }
   ],
   "source": [
    "lst"
   ]
  },
  {
   "cell_type": "markdown",
   "id": "2626c0fa-f094-4865-906e-a8ec2c247a60",
   "metadata": {},
   "source": [
    "## Important :- When we have extend why even use append in the first place ? "
   ]
  },
  {
   "cell_type": "markdown",
   "id": "bd131192-2d4c-4025-92d2-1e12d17e8c6b",
   "metadata": {},
   "source": [
    "Ans -> This is because if we want to insert a tuple or dict or any iterable as a single object we use append , but if we want each element as a seperate object we use extend"
   ]
  },
  {
   "cell_type": "code",
   "execution_count": 46,
   "id": "3f391895-486f-4757-9dcf-f74e24868742",
   "metadata": {},
   "outputs": [
    {
     "data": {
      "text/plain": [
       "['Today', 'is', 'Monday', 'you', 'know', 'that']"
      ]
     },
     "execution_count": 46,
     "metadata": {},
     "output_type": "execute_result"
    }
   ],
   "source": [
    "lst = 'Today is Monday you know that'.split()\n",
    "lst"
   ]
  },
  {
   "cell_type": "code",
   "execution_count": 47,
   "id": "112407b5-010c-4cbf-a831-185cbb1daf60",
   "metadata": {},
   "outputs": [
    {
     "data": {
      "text/plain": [
       "(1, 2, 4)"
      ]
     },
     "execution_count": 47,
     "metadata": {},
     "output_type": "execute_result"
    }
   ],
   "source": [
    "tp = (1,2,4)\n",
    "tp"
   ]
  },
  {
   "cell_type": "code",
   "execution_count": 48,
   "id": "e3b19246-2733-4bc7-95f3-6c4953091ffe",
   "metadata": {},
   "outputs": [
    {
     "data": {
      "text/plain": [
       "['Today', 'is', 'Monday', 'you', 'know', 'that', (1, 2, 4)]"
      ]
     },
     "execution_count": 48,
     "metadata": {},
     "output_type": "execute_result"
    }
   ],
   "source": [
    "lst.append(tp)\n",
    "lst"
   ]
  },
  {
   "cell_type": "code",
   "execution_count": 49,
   "id": "ca1a8f58-a439-4747-8074-fc5100ad5638",
   "metadata": {},
   "outputs": [
    {
     "data": {
      "text/plain": [
       "['Today', 'is', 'Monday', 'you', 'know', 'that', (1, 2, 4), 1, 2, 4]"
      ]
     },
     "execution_count": 49,
     "metadata": {},
     "output_type": "execute_result"
    }
   ],
   "source": [
    "lst.extend(tp)\n",
    "lst"
   ]
  },
  {
   "cell_type": "markdown",
   "id": "7ae2abf5-cedc-4223-adde-09af4b019115",
   "metadata": {},
   "source": [
    "###### Here we can see that in case of append we have a single tuple object inserted but in case of extend with have object for each element of tuple"
   ]
  },
  {
   "cell_type": "code",
   "execution_count": null,
   "id": "fd478cd7-f063-4c4d-b4f5-68b503a3fcd8",
   "metadata": {},
   "outputs": [],
   "source": []
  },
  {
   "cell_type": "markdown",
   "id": "1bcab55f-1731-4729-bf19-7072342db276",
   "metadata": {},
   "source": [
    "##### 3. Insert "
   ]
  },
  {
   "cell_type": "markdown",
   "id": "8a24187e-fd99-4d8e-8ce7-5d968c972a70",
   "metadata": {},
   "source": [
    "1. You can insert any element at any particular index location\n",
    "2. You can only insert one element at a time"
   ]
  },
  {
   "cell_type": "code",
   "execution_count": null,
   "id": "834d832d-1dcf-4dd2-9a7a-57ffc30a4330",
   "metadata": {},
   "outputs": [],
   "source": []
  },
  {
   "cell_type": "code",
   "execution_count": 24,
   "id": "54ac586e-e1a5-46b0-a6dd-ecaa85cc6436",
   "metadata": {},
   "outputs": [],
   "source": [
    "lst.insert(9,'I also')"
   ]
  },
  {
   "cell_type": "code",
   "execution_count": 25,
   "id": "4ea33897-ee10-4ccf-922f-545e42512f95",
   "metadata": {},
   "outputs": [
    {
     "data": {
      "text/plain": [
       "['Hello',\n",
       " 'There',\n",
       " 'How',\n",
       " 'are',\n",
       " 'you',\n",
       " 'i',\n",
       " 'am',\n",
       " 'fine',\n",
       " 'Hey There',\n",
       " 'I also',\n",
       " 'Just',\n",
       " 'wanted',\n",
       " 'to',\n",
       " 'say',\n",
       " 'you',\n",
       " 'look',\n",
       " 'beautiful',\n",
       " 1,\n",
       " 2,\n",
       " 3,\n",
       " 4,\n",
       " 5]"
      ]
     },
     "execution_count": 25,
     "metadata": {},
     "output_type": "execute_result"
    }
   ],
   "source": [
    "lst"
   ]
  },
  {
   "cell_type": "markdown",
   "id": "dbff6fd8-145b-459a-b9b1-89af88513a90",
   "metadata": {},
   "source": [
    "### Important :- What is the difference between append, extend and insert ?"
   ]
  },
  {
   "cell_type": "markdown",
   "id": "7231324f-2a82-4e1c-b534-add82585ffd2",
   "metadata": {},
   "source": [
    "You can differentiate between them using the 2 points :-\n",
    "1. Can you insert one element at a time or more than one element at a time\n",
    "2. At which position can you insert the element, only at last or at any point "
   ]
  },
  {
   "cell_type": "markdown",
   "id": "2db8bbe1-bd04-42ce-a8cb-cf8c4f1d2590",
   "metadata": {},
   "source": [
    "### Important - Difference between extend and concatenation ?"
   ]
  },
  {
   "cell_type": "markdown",
   "id": "77717a01-cc7a-492b-b0d6-b48534366d54",
   "metadata": {},
   "source": [
    "Ans - What you can see below is that concat will create a new object whereas extend will use the same object"
   ]
  },
  {
   "cell_type": "code",
   "execution_count": 94,
   "id": "936488f7-042f-4aa0-a49c-79f796d22805",
   "metadata": {},
   "outputs": [
    {
     "data": {
      "text/plain": [
       "[9, 6, 5, 4, 2, 1, 1]"
      ]
     },
     "execution_count": 94,
     "metadata": {},
     "output_type": "execute_result"
    }
   ],
   "source": [
    "lst"
   ]
  },
  {
   "cell_type": "code",
   "execution_count": 95,
   "id": "988395c1-575e-4a93-bf22-4c22d18911d5",
   "metadata": {},
   "outputs": [
    {
     "data": {
      "text/plain": [
       "(1, 2, 4)"
      ]
     },
     "execution_count": 95,
     "metadata": {},
     "output_type": "execute_result"
    }
   ],
   "source": [
    "tp"
   ]
  },
  {
   "cell_type": "code",
   "execution_count": 97,
   "id": "9bf34a43-c75b-45bc-84d9-227322ceaa30",
   "metadata": {},
   "outputs": [
    {
     "data": {
      "text/plain": [
       "[9, 6, 5, 4, 2, 1, 1, 1, 2, 4]"
      ]
     },
     "execution_count": 97,
     "metadata": {},
     "output_type": "execute_result"
    }
   ],
   "source": [
    "lst + list(tp)"
   ]
  },
  {
   "cell_type": "code",
   "execution_count": 98,
   "id": "92097be0-06d4-433f-a8ae-48b79ae616ee",
   "metadata": {},
   "outputs": [
    {
     "data": {
      "text/plain": [
       "[9, 6, 5, 4, 2, 1, 1]"
      ]
     },
     "execution_count": 98,
     "metadata": {},
     "output_type": "execute_result"
    }
   ],
   "source": [
    "lst"
   ]
  },
  {
   "cell_type": "code",
   "execution_count": 99,
   "id": "cecc3f00-0bcc-4bd8-b9c5-746d73f016e1",
   "metadata": {},
   "outputs": [],
   "source": [
    "lst.extend(tp)"
   ]
  },
  {
   "cell_type": "code",
   "execution_count": 100,
   "id": "a718cc60-0530-4b66-87d5-ee9383d9fc98",
   "metadata": {},
   "outputs": [
    {
     "data": {
      "text/plain": [
       "[9, 6, 5, 4, 2, 1, 1, 1, 2, 4]"
      ]
     },
     "execution_count": 100,
     "metadata": {},
     "output_type": "execute_result"
    }
   ],
   "source": [
    "lst"
   ]
  },
  {
   "cell_type": "code",
   "execution_count": null,
   "id": "5dcfbb7c-a718-4055-a4a5-c69f3cfd179d",
   "metadata": {},
   "outputs": [],
   "source": []
  },
  {
   "cell_type": "markdown",
   "id": "e512b11b-0e61-4f2b-b451-48b2bcd88da6",
   "metadata": {},
   "source": [
    "## Methods to delete the elements"
   ]
  },
  {
   "cell_type": "markdown",
   "id": "f36bc9f1-845f-48e8-94b7-d23f989d39c8",
   "metadata": {},
   "source": [
    "#### 1. pop() method"
   ]
  },
  {
   "cell_type": "markdown",
   "id": "7907514e-7b41-4262-bc05-422510ed6d55",
   "metadata": {},
   "source": [
    "- The pop method deletes and returns the element according to the index value\n",
    "- the by default index value of pop is -1, it deletes the last element by default"
   ]
  },
  {
   "cell_type": "code",
   "execution_count": null,
   "id": "4c9b8aaa-c07b-48c3-9865-9383ebc5a85f",
   "metadata": {},
   "outputs": [],
   "source": []
  },
  {
   "cell_type": "code",
   "execution_count": 52,
   "id": "3f03ef1f-b974-4e18-b9f7-e8745bbc6be6",
   "metadata": {},
   "outputs": [
    {
     "data": {
      "text/plain": [
       "['Today', 'is', 'Monday', 'you', 'know', 'that', (1, 2, 4), 1, 2, 4]"
      ]
     },
     "execution_count": 52,
     "metadata": {},
     "output_type": "execute_result"
    }
   ],
   "source": [
    "lst"
   ]
  },
  {
   "cell_type": "code",
   "execution_count": 53,
   "id": "380ba1d9-17dc-4506-8cbd-32306d0a6baa",
   "metadata": {},
   "outputs": [
    {
     "data": {
      "text/plain": [
       "4"
      ]
     },
     "execution_count": 53,
     "metadata": {},
     "output_type": "execute_result"
    }
   ],
   "source": [
    "lst.pop()"
   ]
  },
  {
   "cell_type": "code",
   "execution_count": 54,
   "id": "1465f969-1b20-4ac0-a003-7eec7aef35d2",
   "metadata": {},
   "outputs": [
    {
     "data": {
      "text/plain": [
       "['Today', 'is', 'Monday', 'you', 'know', 'that', (1, 2, 4), 1, 2]"
      ]
     },
     "execution_count": 54,
     "metadata": {},
     "output_type": "execute_result"
    }
   ],
   "source": [
    "lst"
   ]
  },
  {
   "cell_type": "code",
   "execution_count": 55,
   "id": "3626e917-4b94-4085-88b7-c66934243b38",
   "metadata": {},
   "outputs": [
    {
     "data": {
      "text/plain": [
       "'know'"
      ]
     },
     "execution_count": 55,
     "metadata": {},
     "output_type": "execute_result"
    }
   ],
   "source": [
    "lst.pop(4)"
   ]
  },
  {
   "cell_type": "code",
   "execution_count": 56,
   "id": "cba0c54d-0bce-4309-8d5c-32673d8db4ac",
   "metadata": {},
   "outputs": [
    {
     "data": {
      "text/plain": [
       "['Today', 'is', 'Monday', 'you', 'that', (1, 2, 4), 1, 2]"
      ]
     },
     "execution_count": 56,
     "metadata": {},
     "output_type": "execute_result"
    }
   ],
   "source": [
    "lst"
   ]
  },
  {
   "cell_type": "code",
   "execution_count": 57,
   "id": "94d0e106-35dc-47ac-a689-edd601a8b0e9",
   "metadata": {},
   "outputs": [
    {
     "data": {
      "text/plain": [
       "1"
      ]
     },
     "execution_count": 57,
     "metadata": {},
     "output_type": "execute_result"
    }
   ],
   "source": [
    "lst.pop(-2)"
   ]
  },
  {
   "cell_type": "code",
   "execution_count": null,
   "id": "2a81ec3b-51a9-49a9-9402-56d08052b5cf",
   "metadata": {},
   "outputs": [],
   "source": []
  },
  {
   "cell_type": "markdown",
   "id": "1fafe354-aae2-40b6-9cd9-730a1d14b14d",
   "metadata": {},
   "source": [
    "#### 2. remove() method "
   ]
  },
  {
   "cell_type": "markdown",
   "id": "5d5c36a7-bf72-4966-acb1-d74e32dd59eb",
   "metadata": {},
   "source": [
    "1.  removes according to the value\n",
    "2.  removes the first occurence of the value you give"
   ]
  },
  {
   "cell_type": "code",
   "execution_count": 58,
   "id": "9bb24565-6d20-457c-9047-5515fa504c3e",
   "metadata": {},
   "outputs": [
    {
     "data": {
      "text/plain": [
       "['Today', 'is', 'Monday', 'you', 'that', (1, 2, 4), 2]"
      ]
     },
     "execution_count": 58,
     "metadata": {},
     "output_type": "execute_result"
    }
   ],
   "source": [
    "lst"
   ]
  },
  {
   "cell_type": "code",
   "execution_count": 60,
   "id": "cc04729e-f63e-4c94-8405-c94f11911c37",
   "metadata": {},
   "outputs": [
    {
     "data": {
      "text/plain": [
       "['Today', 'is', 'Monday', 'you', 'that', (1, 2, 4), 2, 2, 2]"
      ]
     },
     "execution_count": 60,
     "metadata": {},
     "output_type": "execute_result"
    }
   ],
   "source": [
    "lst.append(2)\n",
    "lst"
   ]
  },
  {
   "cell_type": "code",
   "execution_count": 61,
   "id": "fa734d2f-ddcd-4d03-b862-31cc497df730",
   "metadata": {},
   "outputs": [],
   "source": [
    "lst.remove(2)"
   ]
  },
  {
   "cell_type": "code",
   "execution_count": 62,
   "id": "61644a73-05ab-4d0f-966d-44ba4f54ffaf",
   "metadata": {},
   "outputs": [
    {
     "data": {
      "text/plain": [
       "['Today', 'is', 'Monday', 'you', 'that', (1, 2, 4), 2, 2]"
      ]
     },
     "execution_count": 62,
     "metadata": {},
     "output_type": "execute_result"
    }
   ],
   "source": [
    "lst"
   ]
  },
  {
   "cell_type": "code",
   "execution_count": 63,
   "id": "60025024-355b-45f6-b999-855ae99f510e",
   "metadata": {},
   "outputs": [],
   "source": [
    "lst.append(4)"
   ]
  },
  {
   "cell_type": "code",
   "execution_count": 64,
   "id": "c5b5e24f-8bb1-4283-ad1a-eb6783faec57",
   "metadata": {},
   "outputs": [
    {
     "data": {
      "text/plain": [
       "['Today', 'is', 'Monday', 'you', 'that', (1, 2, 4), 2, 2, 4]"
      ]
     },
     "execution_count": 64,
     "metadata": {},
     "output_type": "execute_result"
    }
   ],
   "source": [
    "lst"
   ]
  },
  {
   "cell_type": "code",
   "execution_count": 67,
   "id": "9bbdae41-fc6c-4d56-a15c-eeaa77b0744b",
   "metadata": {},
   "outputs": [],
   "source": [
    "lst.insert(-2,3)"
   ]
  },
  {
   "cell_type": "code",
   "execution_count": 68,
   "id": "729118f4-60a6-4ac5-b8d4-24c2e7024af3",
   "metadata": {},
   "outputs": [
    {
     "data": {
      "text/plain": [
       "['Today', 'is', 'Monday', -2, 'you', 'that', (1, 2, 4), 2, 3, 2, 4]"
      ]
     },
     "execution_count": 68,
     "metadata": {},
     "output_type": "execute_result"
    }
   ],
   "source": [
    "lst"
   ]
  },
  {
   "cell_type": "code",
   "execution_count": 69,
   "id": "d16f8680-f2f2-424e-a731-6153ea143efc",
   "metadata": {},
   "outputs": [],
   "source": [
    "lst.remove(2)"
   ]
  },
  {
   "cell_type": "code",
   "execution_count": 70,
   "id": "66a165cb-3a2f-4b7b-b7e9-43143d8c6d05",
   "metadata": {},
   "outputs": [
    {
     "data": {
      "text/plain": [
       "['Today', 'is', 'Monday', -2, 'you', 'that', (1, 2, 4), 3, 2, 4]"
      ]
     },
     "execution_count": 70,
     "metadata": {},
     "output_type": "execute_result"
    }
   ],
   "source": [
    "lst"
   ]
  },
  {
   "cell_type": "markdown",
   "id": "bef53fc5-0731-4d6f-99c5-8a5fe463767b",
   "metadata": {},
   "source": [
    "##### as you can see it removed the first occurence of 2 from the positive index "
   ]
  },
  {
   "cell_type": "code",
   "execution_count": null,
   "id": "c55fe138-93fa-4616-a53e-888a3e3add07",
   "metadata": {},
   "outputs": [],
   "source": []
  },
  {
   "cell_type": "code",
   "execution_count": null,
   "id": "8084c99c-b9c5-4165-82ff-70ae9eb23ddb",
   "metadata": {},
   "outputs": [],
   "source": []
  },
  {
   "cell_type": "code",
   "execution_count": null,
   "id": "da8262f7-ca30-4a9d-b889-6598c71fe4ad",
   "metadata": {},
   "outputs": [],
   "source": []
  },
  {
   "cell_type": "markdown",
   "id": "f21a920d-ebda-46d3-b3aa-e8d747830bc2",
   "metadata": {},
   "source": [
    "### reverse "
   ]
  },
  {
   "cell_type": "markdown",
   "id": "f785f621-71e5-4fec-ad1b-db7c5d0bf570",
   "metadata": {},
   "source": [
    "1. reverse() method will reverse the list \n",
    "2. It does not take any parameters"
   ]
  },
  {
   "cell_type": "code",
   "execution_count": 71,
   "id": "7e315c3b-a728-4b34-91bf-04ecf778af3f",
   "metadata": {},
   "outputs": [
    {
     "data": {
      "text/plain": [
       "['Today', 'is', 'Monday', -2, 'you', 'that', (1, 2, 4), 3, 2, 4]"
      ]
     },
     "execution_count": 71,
     "metadata": {},
     "output_type": "execute_result"
    }
   ],
   "source": [
    "lst"
   ]
  },
  {
   "cell_type": "code",
   "execution_count": 72,
   "id": "c1771254-33af-43c6-970f-196e4218969e",
   "metadata": {},
   "outputs": [],
   "source": [
    "lst.reverse()"
   ]
  },
  {
   "cell_type": "code",
   "execution_count": 73,
   "id": "a6b1a42d-9f23-47ce-8cbf-063270601b81",
   "metadata": {},
   "outputs": [
    {
     "data": {
      "text/plain": [
       "[4, 2, 3, (1, 2, 4), 'that', 'you', -2, 'Monday', 'is', 'Today']"
      ]
     },
     "execution_count": 73,
     "metadata": {},
     "output_type": "execute_result"
    }
   ],
   "source": [
    "lst"
   ]
  },
  {
   "cell_type": "code",
   "execution_count": 74,
   "id": "e885c6c9-063e-4845-a982-a15cff0bf018",
   "metadata": {},
   "outputs": [
    {
     "name": "stdout",
     "output_type": "stream",
     "text": [
      "['__add__', '__class__', '__class_getitem__', '__contains__', '__delattr__', '__delitem__', '__dir__', '__doc__', '__eq__', '__format__', '__ge__', '__getattribute__', '__getitem__', '__getstate__', '__gt__', '__hash__', '__iadd__', '__imul__', '__init__', '__init_subclass__', '__iter__', '__le__', '__len__', '__lt__', '__mul__', '__ne__', '__new__', '__reduce__', '__reduce_ex__', '__repr__', '__reversed__', '__rmul__', '__setattr__', '__setitem__', '__sizeof__', '__str__', '__subclasshook__', 'append', 'clear', 'copy', 'count', 'extend', 'index', 'insert', 'pop', 'remove', 'reverse', 'sort']\n"
     ]
    }
   ],
   "source": [
    "print(dir(list))"
   ]
  },
  {
   "cell_type": "code",
   "execution_count": null,
   "id": "652dccab-f6d8-41d0-bff2-9d1c592889a4",
   "metadata": {},
   "outputs": [],
   "source": []
  },
  {
   "cell_type": "markdown",
   "id": "64024325-de00-4998-b47a-24fc17416e03",
   "metadata": {},
   "source": [
    "### sort"
   ]
  },
  {
   "cell_type": "markdown",
   "id": "4b83ea2a-cc5b-4786-a066-a01398c5f484",
   "metadata": {},
   "source": [
    "1. sort function will sort the list in ascending order by default and will maintain the order of elements if same elements\n",
    "2. if we need to sort in descending order we need to give reverse = true"
   ]
  },
  {
   "cell_type": "code",
   "execution_count": null,
   "id": "183077b4-61b4-41cd-8c07-aa80cdf51edf",
   "metadata": {},
   "outputs": [],
   "source": []
  },
  {
   "cell_type": "code",
   "execution_count": 75,
   "id": "ead710ff-6fbf-471c-83f3-ce2bb549544a",
   "metadata": {},
   "outputs": [],
   "source": [
    "lst = [1,4,6,3,2]"
   ]
  },
  {
   "cell_type": "code",
   "execution_count": 76,
   "id": "a4c6671b-ee25-4e4f-a09f-97454b5ba7ea",
   "metadata": {},
   "outputs": [
    {
     "data": {
      "text/plain": [
       "[1, 4, 6, 3, 2]"
      ]
     },
     "execution_count": 76,
     "metadata": {},
     "output_type": "execute_result"
    }
   ],
   "source": [
    "lst"
   ]
  },
  {
   "cell_type": "code",
   "execution_count": 77,
   "id": "991d0e7b-1329-4105-9a49-7c5cea76db93",
   "metadata": {},
   "outputs": [],
   "source": [
    "lst.sort()"
   ]
  },
  {
   "cell_type": "code",
   "execution_count": 78,
   "id": "5555b4bb-1c8b-443c-903a-941d84f753aa",
   "metadata": {},
   "outputs": [
    {
     "data": {
      "text/plain": [
       "[1, 2, 3, 4, 6]"
      ]
     },
     "execution_count": 78,
     "metadata": {},
     "output_type": "execute_result"
    }
   ],
   "source": [
    "lst"
   ]
  },
  {
   "cell_type": "code",
   "execution_count": 80,
   "id": "0877579a-3b42-4387-9892-ad03286aa5f4",
   "metadata": {},
   "outputs": [],
   "source": [
    "lst = [1,5,6,2,1,4,9]"
   ]
  },
  {
   "cell_type": "markdown",
   "id": "36a39cf4-9248-4bd7-a400-e0e90b2b2ec6",
   "metadata": {},
   "source": [
    "#### Important :- How to sort the list in descending order ?"
   ]
  },
  {
   "cell_type": "markdown",
   "id": "25e90e6b-67ed-4782-87e1-606924bdc6a7",
   "metadata": {},
   "source": [
    "Ans - We need to give the reverse parameter inside the sort function as True"
   ]
  },
  {
   "cell_type": "code",
   "execution_count": null,
   "id": "a68a84e3-64eb-4a11-81e1-525d154e7dc7",
   "metadata": {},
   "outputs": [],
   "source": []
  },
  {
   "cell_type": "code",
   "execution_count": 81,
   "id": "1debdb6d-f63e-47bf-865b-576eea5b3de8",
   "metadata": {},
   "outputs": [],
   "source": [
    "lst.sort(reverse=True)"
   ]
  },
  {
   "cell_type": "code",
   "execution_count": 82,
   "id": "ba07d6c5-c03c-4495-be00-aff9640c10e3",
   "metadata": {},
   "outputs": [
    {
     "data": {
      "text/plain": [
       "[9, 6, 5, 4, 2, 1, 1]"
      ]
     },
     "execution_count": 82,
     "metadata": {},
     "output_type": "execute_result"
    }
   ],
   "source": [
    "lst"
   ]
  },
  {
   "cell_type": "markdown",
   "id": "a5019d35-43b8-4ef1-b2a1-338f464ee917",
   "metadata": {},
   "source": [
    "#### Important :- Can sort the elements which contain both string and integers"
   ]
  },
  {
   "cell_type": "code",
   "execution_count": 83,
   "id": "b0930129-840b-48f7-9b6b-73c323227baf",
   "metadata": {},
   "outputs": [
    {
     "data": {
      "text/plain": [
       "True"
      ]
     },
     "execution_count": 83,
     "metadata": {},
     "output_type": "execute_result"
    }
   ],
   "source": [
    "34 > 24.45"
   ]
  },
  {
   "cell_type": "code",
   "execution_count": 84,
   "id": "cfcdbcb2-2132-4cdd-a0ad-0a20932406c7",
   "metadata": {},
   "outputs": [
    {
     "ename": "TypeError",
     "evalue": "'>' not supported between instances of 'int' and 'str'",
     "output_type": "error",
     "traceback": [
      "\u001b[1;31m---------------------------------------------------------------------------\u001b[0m",
      "\u001b[1;31mTypeError\u001b[0m                                 Traceback (most recent call last)",
      "Cell \u001b[1;32mIn[84], line 1\u001b[0m\n\u001b[1;32m----> 1\u001b[0m \u001b[38;5;241m34\u001b[39m \u001b[38;5;241m>\u001b[39m \u001b[38;5;124m'\u001b[39m\u001b[38;5;124m24.45\u001b[39m\u001b[38;5;124m'\u001b[39m\n",
      "\u001b[1;31mTypeError\u001b[0m: '>' not supported between instances of 'int' and 'str'"
     ]
    }
   ],
   "source": [
    "34 > '24.45'"
   ]
  },
  {
   "cell_type": "markdown",
   "id": "84672c58-22f7-4d12-8a7a-78f029efdadd",
   "metadata": {},
   "source": [
    "#### Therefore we need to clean the data before we sort it "
   ]
  },
  {
   "cell_type": "code",
   "execution_count": 86,
   "id": "0af8e928-e271-48e7-a05a-da9c77af270b",
   "metadata": {},
   "outputs": [
    {
     "data": {
      "text/plain": [
       "True"
      ]
     },
     "execution_count": 86,
     "metadata": {},
     "output_type": "execute_result"
    }
   ],
   "source": [
    "'Hello' < 'Holla'"
   ]
  },
  {
   "cell_type": "code",
   "execution_count": 89,
   "id": "ad86e59a-7403-485a-ae53-7026dc2ca378",
   "metadata": {},
   "outputs": [
    {
     "data": {
      "text/plain": [
       "True"
      ]
     },
     "execution_count": 89,
     "metadata": {},
     "output_type": "execute_result"
    }
   ],
   "source": [
    "'Jello' < 'jello'"
   ]
  },
  {
   "cell_type": "markdown",
   "id": "25cb0326-6f2e-408e-b8bd-a4febf49f2ab",
   "metadata": {},
   "source": [
    "##### In strings we have character wise comparison according to ascii values"
   ]
  },
  {
   "cell_type": "code",
   "execution_count": 90,
   "id": "431f347d-30cf-4902-a917-0445193a87fb",
   "metadata": {},
   "outputs": [],
   "source": [
    "a = 'Hello There What Is This Doing'.split()"
   ]
  },
  {
   "cell_type": "code",
   "execution_count": 91,
   "id": "609aec2b-e333-4cdd-be04-e32fd514a447",
   "metadata": {},
   "outputs": [
    {
     "data": {
      "text/plain": [
       "['Hello', 'There', 'What', 'Is', 'This', 'Doing']"
      ]
     },
     "execution_count": 91,
     "metadata": {},
     "output_type": "execute_result"
    }
   ],
   "source": [
    "a"
   ]
  },
  {
   "cell_type": "code",
   "execution_count": 92,
   "id": "97c13706-cc83-42be-8246-ca32eb47eb69",
   "metadata": {},
   "outputs": [],
   "source": [
    "a.sort()"
   ]
  },
  {
   "cell_type": "code",
   "execution_count": 93,
   "id": "3094ed49-bd89-4510-9f78-b51809422bb1",
   "metadata": {},
   "outputs": [
    {
     "data": {
      "text/plain": [
       "['Doing', 'Hello', 'Is', 'There', 'This', 'What']"
      ]
     },
     "execution_count": 93,
     "metadata": {},
     "output_type": "execute_result"
    }
   ],
   "source": [
    "a"
   ]
  },
  {
   "cell_type": "markdown",
   "id": "029795cb-4c4c-49a4-8cc6-bcf3257a2262",
   "metadata": {},
   "source": [
    " "
   ]
  },
  {
   "cell_type": "markdown",
   "id": "772387a8-3908-408f-90c2-5a220bd397f9",
   "metadata": {},
   "source": [
    "### What is the use of 'key' parameter in sort function"
   ]
  },
  {
   "cell_type": "markdown",
   "id": "c3379626-09cd-4874-a92f-4f4301d757e0",
   "metadata": {},
   "source": [
    "Ans -> using key we can pass a custom function which can be applied to each element"
   ]
  },
  {
   "cell_type": "code",
   "execution_count": 125,
   "id": "dcdc3685-5090-4e56-aa5a-8d9b15356f5a",
   "metadata": {},
   "outputs": [],
   "source": [
    "a = 'employee_34 empployee_53 employee_123 employee_4 employee_155'.split()"
   ]
  },
  {
   "cell_type": "code",
   "execution_count": 126,
   "id": "821dde72-c5c0-49c5-ab27-529914855151",
   "metadata": {},
   "outputs": [
    {
     "data": {
      "text/plain": [
       "['employee_34', 'empployee_53', 'employee_123', 'employee_4', 'employee_155']"
      ]
     },
     "execution_count": 126,
     "metadata": {},
     "output_type": "execute_result"
    }
   ],
   "source": [
    "a"
   ]
  },
  {
   "cell_type": "code",
   "execution_count": 127,
   "id": "fd896d34-64e1-4142-b30e-0731e8298950",
   "metadata": {},
   "outputs": [
    {
     "data": {
      "text/plain": [
       "['employee_123', 'employee_155', 'employee_34', 'employee_4', 'empployee_53']"
      ]
     },
     "execution_count": 127,
     "metadata": {},
     "output_type": "execute_result"
    }
   ],
   "source": [
    "a.sort()\n",
    "a"
   ]
  },
  {
   "cell_type": "markdown",
   "id": "70e76758-95c2-46ff-8a3c-a01125193cb0",
   "metadata": {},
   "source": [
    "#### now what if we want to sort the values according to the employee numbers i.e here we are sorting according to the ascii values , what if we want to sort according to employee id number"
   ]
  },
  {
   "cell_type": "code",
   "execution_count": 129,
   "id": "b5d3532e-ec44-4087-b094-463b0d9944cb",
   "metadata": {},
   "outputs": [
    {
     "data": {
      "text/plain": [
       "'15'"
      ]
     },
     "execution_count": 129,
     "metadata": {},
     "output_type": "execute_result"
    }
   ],
   "source": [
    "'employee_15'.split('_')[1]"
   ]
  },
  {
   "cell_type": "code",
   "execution_count": null,
   "id": "d0f5ca28-48e5-4ee2-88c8-5ab68acdda59",
   "metadata": {},
   "outputs": [],
   "source": []
  },
  {
   "cell_type": "code",
   "execution_count": 130,
   "id": "4d0e7aa3-7b66-4a49-9b58-f1d66e55c303",
   "metadata": {},
   "outputs": [],
   "source": [
    "a.sort(key=lambda x : int(x.split('_')[1]))"
   ]
  },
  {
   "cell_type": "code",
   "execution_count": 131,
   "id": "d2afe2fd-b4c6-4847-80eb-0a6055cb1a8a",
   "metadata": {},
   "outputs": [
    {
     "data": {
      "text/plain": [
       "['employee_4', 'employee_34', 'empployee_53', 'employee_123', 'employee_155']"
      ]
     },
     "execution_count": 131,
     "metadata": {},
     "output_type": "execute_result"
    }
   ],
   "source": [
    "a"
   ]
  },
  {
   "cell_type": "code",
   "execution_count": null,
   "id": "13dad019-15ab-4da2-922a-109f32c0c502",
   "metadata": {},
   "outputs": [],
   "source": []
  },
  {
   "cell_type": "code",
   "execution_count": 132,
   "id": "12e46c0e-3841-4782-8d23-b1bd7012c4e8",
   "metadata": {},
   "outputs": [],
   "source": [
    "lst = 'Abhi Niyu Sam Subrat Khushboo Shubh Shaa S OG'.split()"
   ]
  },
  {
   "cell_type": "code",
   "execution_count": 133,
   "id": "3fc44938-bdf0-4f8d-b7bd-bb85db1e78a4",
   "metadata": {},
   "outputs": [
    {
     "data": {
      "text/plain": [
       "['Abhi', 'Niyu', 'Sam', 'Subrat', 'Khushboo', 'Shubh', 'Shaa', 'S', 'OG']"
      ]
     },
     "execution_count": 133,
     "metadata": {},
     "output_type": "execute_result"
    }
   ],
   "source": [
    "lst"
   ]
  },
  {
   "cell_type": "code",
   "execution_count": 134,
   "id": "a7bd1c4c-26f4-4e3f-94d1-01b166f6cb95",
   "metadata": {},
   "outputs": [],
   "source": [
    "lst.sort(key= lambda x:len(x))"
   ]
  },
  {
   "cell_type": "code",
   "execution_count": 135,
   "id": "ab727d3e-dcf8-4295-8958-5d3053054bc4",
   "metadata": {},
   "outputs": [
    {
     "data": {
      "text/plain": [
       "['S', 'OG', 'Sam', 'Abhi', 'Niyu', 'Shaa', 'Shubh', 'Subrat', 'Khushboo']"
      ]
     },
     "execution_count": 135,
     "metadata": {},
     "output_type": "execute_result"
    }
   ],
   "source": [
    "lst"
   ]
  },
  {
   "cell_type": "code",
   "execution_count": 136,
   "id": "a8c2b00e-7918-44fc-9e17-9a08410e567c",
   "metadata": {},
   "outputs": [],
   "source": [
    "lst = 'Abhi Niyu Sam Subrat Khushboo Shubh Shaa S OG'.split()"
   ]
  },
  {
   "cell_type": "code",
   "execution_count": 137,
   "id": "649721ea-8a1c-4b4a-af93-26ba646c5762",
   "metadata": {},
   "outputs": [
    {
     "data": {
      "text/plain": [
       "['Abhi', 'Niyu', 'Sam', 'Subrat', 'Khushboo', 'Shubh', 'Shaa', 'S', 'OG']"
      ]
     },
     "execution_count": 137,
     "metadata": {},
     "output_type": "execute_result"
    }
   ],
   "source": [
    "lst"
   ]
  },
  {
   "cell_type": "code",
   "execution_count": 138,
   "id": "50bfb974-bb33-4c87-8120-e4439cf43181",
   "metadata": {},
   "outputs": [],
   "source": [
    "lst.sort(key=len,reverse=True)"
   ]
  },
  {
   "cell_type": "code",
   "execution_count": 139,
   "id": "c28308a7-118b-41ad-9e13-2d8f3b6940a8",
   "metadata": {},
   "outputs": [
    {
     "data": {
      "text/plain": [
       "['Khushboo', 'Subrat', 'Shubh', 'Abhi', 'Niyu', 'Shaa', 'Sam', 'OG', 'S']"
      ]
     },
     "execution_count": 139,
     "metadata": {},
     "output_type": "execute_result"
    }
   ],
   "source": [
    "lst"
   ]
  },
  {
   "cell_type": "markdown",
   "id": "92a401e7-b7c3-4b97-8d34-41f94003177c",
   "metadata": {},
   "source": [
    "##### Directly also we can give the function values to key "
   ]
  },
  {
   "cell_type": "code",
   "execution_count": null,
   "id": "8e9b8083-8037-4d00-b9f6-016e95bc1120",
   "metadata": {},
   "outputs": [],
   "source": []
  },
  {
   "cell_type": "markdown",
   "id": "aa961f00-dcbf-4788-9562-900a69ba3039",
   "metadata": {},
   "source": [
    "## clear()"
   ]
  },
  {
   "cell_type": "markdown",
   "id": "41ffbbd7-f310-4fec-a62a-e47dcb3223d7",
   "metadata": {},
   "source": [
    "1. Deletes all the items in the list to make the list as empty list"
   ]
  },
  {
   "cell_type": "code",
   "execution_count": 101,
   "id": "1969f5cd-eab6-4124-aeb3-19b8553b7917",
   "metadata": {},
   "outputs": [
    {
     "data": {
      "text/plain": [
       "[9, 6, 5, 4, 2, 1, 1, 1, 2, 4]"
      ]
     },
     "execution_count": 101,
     "metadata": {},
     "output_type": "execute_result"
    }
   ],
   "source": [
    "lst"
   ]
  },
  {
   "cell_type": "code",
   "execution_count": 102,
   "id": "dd9219b0-821f-4f9f-8f8b-6b62495ae827",
   "metadata": {},
   "outputs": [],
   "source": [
    "lst.clear()"
   ]
  },
  {
   "cell_type": "code",
   "execution_count": 103,
   "id": "e1fe3c58-344f-4f63-957a-1f5ad75a0091",
   "metadata": {},
   "outputs": [
    {
     "data": {
      "text/plain": [
       "[]"
      ]
     },
     "execution_count": 103,
     "metadata": {},
     "output_type": "execute_result"
    }
   ],
   "source": [
    "lst"
   ]
  },
  {
   "cell_type": "code",
   "execution_count": 104,
   "id": "c9bd9678-8ddf-4d80-a2b6-629384031d88",
   "metadata": {},
   "outputs": [],
   "source": [
    "lst = 'Hello Guys what is up now'.split()"
   ]
  },
  {
   "cell_type": "code",
   "execution_count": 105,
   "id": "e4ce2df4-1ef0-43ac-a4fd-247fdfd25d6e",
   "metadata": {},
   "outputs": [
    {
     "data": {
      "text/plain": [
       "['Hello', 'Guys', 'what', 'is', 'up', 'now']"
      ]
     },
     "execution_count": 105,
     "metadata": {},
     "output_type": "execute_result"
    }
   ],
   "source": [
    "lst"
   ]
  },
  {
   "cell_type": "code",
   "execution_count": null,
   "id": "4b6cd915-1ac0-4736-b3be-c6795e5c27d2",
   "metadata": {},
   "outputs": [],
   "source": []
  },
  {
   "cell_type": "markdown",
   "id": "4d2eaf43-837b-484d-baf0-b0e2a753536f",
   "metadata": {},
   "source": [
    "## del"
   ]
  },
  {
   "cell_type": "markdown",
   "id": "e2db513d-587a-40b0-88ef-77981c8de7d4",
   "metadata": {},
   "source": [
    "1. Deletes all the items in the list as well the list variable"
   ]
  },
  {
   "cell_type": "code",
   "execution_count": 106,
   "id": "972358d7-f21b-46be-9ec0-803353580c2f",
   "metadata": {},
   "outputs": [
    {
     "data": {
      "text/plain": [
       "['Hello', 'Guys', 'what', 'is', 'up', 'now']"
      ]
     },
     "execution_count": 106,
     "metadata": {},
     "output_type": "execute_result"
    }
   ],
   "source": [
    "lst"
   ]
  },
  {
   "cell_type": "code",
   "execution_count": 108,
   "id": "581543dc-2081-42e2-8408-7929a1bd8f15",
   "metadata": {},
   "outputs": [],
   "source": [
    "del lst"
   ]
  },
  {
   "cell_type": "code",
   "execution_count": 109,
   "id": "23856950-dc2c-4044-beba-5f0d7da87bbc",
   "metadata": {},
   "outputs": [
    {
     "ename": "NameError",
     "evalue": "name 'lst' is not defined",
     "output_type": "error",
     "traceback": [
      "\u001b[1;31m---------------------------------------------------------------------------\u001b[0m",
      "\u001b[1;31mNameError\u001b[0m                                 Traceback (most recent call last)",
      "Cell \u001b[1;32mIn[109], line 1\u001b[0m\n\u001b[1;32m----> 1\u001b[0m lst\n",
      "\u001b[1;31mNameError\u001b[0m: name 'lst' is not defined"
     ]
    }
   ],
   "source": [
    "lst"
   ]
  },
  {
   "cell_type": "code",
   "execution_count": null,
   "id": "08abb0ec-0a83-4c69-94d3-b44d252e948c",
   "metadata": {},
   "outputs": [],
   "source": []
  },
  {
   "cell_type": "markdown",
   "id": "d1aa5388-305a-43a4-a3fa-743d3b9df9f7",
   "metadata": {},
   "source": [
    "## Important -> What is the difference between del and clear()"
   ]
  },
  {
   "cell_type": "markdown",
   "id": "ecf8c866-593c-4734-b9cc-b7b38dc7c8b2",
   "metadata": {},
   "source": [
    "del is a buit in function to delete the variable whereas clear is a list method to deletes all the items in the list , whereas the list remains intact as an empty list"
   ]
  },
  {
   "cell_type": "code",
   "execution_count": null,
   "id": "7d1d7e65-30d7-40e5-b23d-a42bd00a8c81",
   "metadata": {},
   "outputs": [],
   "source": []
  },
  {
   "cell_type": "code",
   "execution_count": null,
   "id": "59464e22-4818-44cd-89e2-ac696ebfddb4",
   "metadata": {},
   "outputs": [],
   "source": []
  },
  {
   "cell_type": "code",
   "execution_count": null,
   "id": "b0fda579-809b-4193-9902-f3340dd67212",
   "metadata": {},
   "outputs": [],
   "source": []
  },
  {
   "cell_type": "markdown",
   "id": "e47e3038-1cb7-4c45-9a07-aff6fe7225bd",
   "metadata": {},
   "source": [
    "## count()"
   ]
  },
  {
   "cell_type": "markdown",
   "id": "3c3d73c8-8ffc-4c22-ac18-8fa0c7b770bb",
   "metadata": {},
   "source": [
    "Count gives the number of times a particular value exist in the list"
   ]
  },
  {
   "cell_type": "code",
   "execution_count": 111,
   "id": "cefe2b1d-589b-40f2-ba4c-5e734847266f",
   "metadata": {},
   "outputs": [],
   "source": [
    "lst = 'Ram Ram Hare Hare hi kehna hai'.split()"
   ]
  },
  {
   "cell_type": "code",
   "execution_count": 113,
   "id": "da42a606-935d-47cc-a1ac-809be767668b",
   "metadata": {},
   "outputs": [
    {
     "data": {
      "text/plain": [
       "2"
      ]
     },
     "execution_count": 113,
     "metadata": {},
     "output_type": "execute_result"
    }
   ],
   "source": [
    "lst.count('Ram')"
   ]
  },
  {
   "cell_type": "code",
   "execution_count": null,
   "id": "b07917b1-e38e-4f37-bfdd-5a45efa59353",
   "metadata": {},
   "outputs": [],
   "source": []
  },
  {
   "cell_type": "markdown",
   "id": "f0c8d874-5f38-4413-ad61-c97a47f68695",
   "metadata": {},
   "source": [
    "### Important -> How the address of characters in string/list works, is there any difference? For each character is it a seperate address or same character has same address?"
   ]
  },
  {
   "cell_type": "markdown",
   "id": "7019d804-2715-4de2-9715-e15bde2deb0c",
   "metadata": {},
   "source": [
    "#### Strings"
   ]
  },
  {
   "cell_type": "code",
   "execution_count": 140,
   "id": "fc0cc02b-f2b6-4000-85fd-9660078f0009",
   "metadata": {},
   "outputs": [],
   "source": [
    "a = 'Python'\n",
    "b = 'Hellothere'"
   ]
  },
  {
   "cell_type": "code",
   "execution_count": 142,
   "id": "8641ace2-c2d8-4c26-a01a-512ec6cc9ca6",
   "metadata": {},
   "outputs": [
    {
     "name": "stdout",
     "output_type": "stream",
     "text": [
      "140732543236232\n",
      "140732543236904\n"
     ]
    }
   ],
   "source": [
    "print(id(a[3]))\n",
    "print(id(a[2]))"
   ]
  },
  {
   "cell_type": "markdown",
   "id": "d9cac9fd-d14b-4acf-b03c-12b0ad1baa8f",
   "metadata": {},
   "source": [
    "##### We can see that both the addresses are different , therefore we have a seperate address for each character of a string"
   ]
  },
  {
   "cell_type": "code",
   "execution_count": 144,
   "id": "bbf298bf-62bd-4ee6-b9d6-de5c859b1cfb",
   "metadata": {},
   "outputs": [
    {
     "name": "stdout",
     "output_type": "stream",
     "text": [
      "140732543236232\n",
      "140732543236232\n"
     ]
    }
   ],
   "source": [
    "print(id(a[3]))\n",
    "print(id(b[6]))"
   ]
  },
  {
   "cell_type": "markdown",
   "id": "786f0e91-3d55-42ff-8643-535115f8af15",
   "metadata": {},
   "source": [
    "##### Here the concept is that each character only has one address and python will point to it even though that character is in different strings"
   ]
  },
  {
   "cell_type": "code",
   "execution_count": null,
   "id": "81617577-71a4-4995-918d-c298cdc46297",
   "metadata": {},
   "outputs": [],
   "source": []
  },
  {
   "cell_type": "markdown",
   "id": "dca80841-d024-4316-97bd-739ab3c20466",
   "metadata": {},
   "source": [
    "#### Lists"
   ]
  },
  {
   "cell_type": "code",
   "execution_count": 145,
   "id": "c1dbd8bc-7ab3-4ac8-97bc-b31338cf9525",
   "metadata": {},
   "outputs": [],
   "source": [
    "lst1 = [2,3,4,5,6]\n",
    "lst2 = [9,8,7,6,5,4,3]"
   ]
  },
  {
   "cell_type": "code",
   "execution_count": 146,
   "id": "13e91201-4008-4ee1-a326-94776cc5a4e9",
   "metadata": {},
   "outputs": [
    {
     "name": "stdout",
     "output_type": "stream",
     "text": [
      "140732543189928\n",
      "140732543189928\n"
     ]
    }
   ],
   "source": [
    "print(id(lst1[3]))\n",
    "print(id(lst2[-3]))"
   ]
  },
  {
   "cell_type": "code",
   "execution_count": 149,
   "id": "5911f9cb-82a1-4930-a705-a46a1839f6a2",
   "metadata": {},
   "outputs": [
    {
     "name": "stdout",
     "output_type": "stream",
     "text": [
      "2783058849136\n",
      "2783055205552\n"
     ]
    }
   ],
   "source": [
    "print(id(lst[0]))\n",
    "print(id(lst[1]))"
   ]
  },
  {
   "cell_type": "markdown",
   "id": "d29f5234-b7be-4dd1-98fe-77fb0a5db3d1",
   "metadata": {},
   "source": [
    "#### Concept of Aliasing (identifying two different things with the same name)"
   ]
  },
  {
   "cell_type": "markdown",
   "id": "bd583fe2-c499-4e96-86dd-a28fb5a15c73",
   "metadata": {},
   "source": [
    "##### Strings "
   ]
  },
  {
   "cell_type": "code",
   "execution_count": 164,
   "id": "193d0481-ba3f-4afa-a944-bd2197dfb8cb",
   "metadata": {},
   "outputs": [],
   "source": [
    "c = 'hello'\n",
    "d = c "
   ]
  },
  {
   "cell_type": "code",
   "execution_count": 166,
   "id": "cbdad574-f842-4276-b172-b7de9ec8dfbc",
   "metadata": {},
   "outputs": [
    {
     "data": {
      "text/plain": [
       "'hello'"
      ]
     },
     "execution_count": 166,
     "metadata": {},
     "output_type": "execute_result"
    }
   ],
   "source": [
    "d"
   ]
  },
  {
   "cell_type": "code",
   "execution_count": 168,
   "id": "00f7a4f4-60b9-46d8-8ed1-77949ef984d2",
   "metadata": {},
   "outputs": [
    {
     "data": {
      "text/plain": [
       "'hello'"
      ]
     },
     "execution_count": 168,
     "metadata": {},
     "output_type": "execute_result"
    }
   ],
   "source": [
    "c"
   ]
  },
  {
   "cell_type": "code",
   "execution_count": 169,
   "id": "4304d336-3937-4be4-96f9-10526b943bda",
   "metadata": {},
   "outputs": [
    {
     "data": {
      "text/plain": [
       "2783046883632"
      ]
     },
     "execution_count": 169,
     "metadata": {},
     "output_type": "execute_result"
    }
   ],
   "source": [
    "id(d)"
   ]
  },
  {
   "cell_type": "code",
   "execution_count": 170,
   "id": "5c537ed3-0b5e-44e6-a8ac-cacfd4e20af6",
   "metadata": {},
   "outputs": [
    {
     "data": {
      "text/plain": [
       "2783046883632"
      ]
     },
     "execution_count": 170,
     "metadata": {},
     "output_type": "execute_result"
    }
   ],
   "source": [
    "id(c)"
   ]
  },
  {
   "cell_type": "code",
   "execution_count": null,
   "id": "d49a154e-79ee-4c00-b1f5-b29469c1d9ba",
   "metadata": {},
   "outputs": [],
   "source": []
  },
  {
   "cell_type": "markdown",
   "id": "cf2049e5-6e32-4092-bd79-ee2fb18c3a8d",
   "metadata": {},
   "source": [
    "##### List"
   ]
  },
  {
   "cell_type": "code",
   "execution_count": 150,
   "id": "5890a5f4-0d95-453a-86bb-1512f729d6e3",
   "metadata": {},
   "outputs": [],
   "source": [
    "lst2 = lst1"
   ]
  },
  {
   "cell_type": "code",
   "execution_count": 151,
   "id": "44e6f270-7b26-4526-af35-e391a56d669e",
   "metadata": {},
   "outputs": [
    {
     "data": {
      "text/plain": [
       "[2, 3, 4, 5, 6]"
      ]
     },
     "execution_count": 151,
     "metadata": {},
     "output_type": "execute_result"
    }
   ],
   "source": [
    "lst2"
   ]
  },
  {
   "cell_type": "code",
   "execution_count": 152,
   "id": "2d9e0307-4f62-494a-97eb-4c85e21abe1c",
   "metadata": {},
   "outputs": [
    {
     "data": {
      "text/plain": [
       "[2, 3, 4, 5, 6]"
      ]
     },
     "execution_count": 152,
     "metadata": {},
     "output_type": "execute_result"
    }
   ],
   "source": [
    "lst1"
   ]
  },
  {
   "cell_type": "code",
   "execution_count": 153,
   "id": "b38ed21c-1705-4456-9ee1-524dbe0c6483",
   "metadata": {},
   "outputs": [],
   "source": [
    "lst2[2]=10"
   ]
  },
  {
   "cell_type": "code",
   "execution_count": 154,
   "id": "13f983f5-adf6-4525-9cd0-a5e695c9eaec",
   "metadata": {},
   "outputs": [
    {
     "data": {
      "text/plain": [
       "[2, 3, 10, 5, 6]"
      ]
     },
     "execution_count": 154,
     "metadata": {},
     "output_type": "execute_result"
    }
   ],
   "source": [
    "lst2"
   ]
  },
  {
   "cell_type": "code",
   "execution_count": 155,
   "id": "277fdcee-3b0d-48c4-be80-cf7cf7bc1e07",
   "metadata": {},
   "outputs": [
    {
     "data": {
      "text/plain": [
       "[2, 3, 10, 5, 6]"
      ]
     },
     "execution_count": 155,
     "metadata": {},
     "output_type": "execute_result"
    }
   ],
   "source": [
    "lst1"
   ]
  },
  {
   "cell_type": "code",
   "execution_count": 171,
   "id": "458f781b-ab49-4c07-abbc-c5eb35ca5e0d",
   "metadata": {},
   "outputs": [
    {
     "name": "stdout",
     "output_type": "stream",
     "text": [
      "2783072131968\n",
      "2783072131968\n"
     ]
    }
   ],
   "source": [
    "print(id(lst1))\n",
    "print(id(lst2))"
   ]
  },
  {
   "cell_type": "markdown",
   "id": "f63a332f-a814-48b1-966f-39aec24e0244",
   "metadata": {},
   "source": [
    "##### Here we can see that both the lists are changing , to avoid this we have concept of shallow copy"
   ]
  },
  {
   "cell_type": "markdown",
   "id": "1b11e4c8-d72f-4cb3-b6fb-d11711c5ccbb",
   "metadata": {},
   "source": [
    "### Shallow Copy and copy() method "
   ]
  },
  {
   "cell_type": "code",
   "execution_count": 156,
   "id": "fda0783e-1787-4013-8d71-fb0cf958eeda",
   "metadata": {},
   "outputs": [],
   "source": [
    "lst3 = [1,2,3,4]\n",
    "lst4 = lst3.copy()"
   ]
  },
  {
   "cell_type": "code",
   "execution_count": 157,
   "id": "10cafb82-9c8d-4656-a121-a32896955c34",
   "metadata": {},
   "outputs": [
    {
     "name": "stdout",
     "output_type": "stream",
     "text": [
      "[1, 2, 3, 4]\n",
      "[1, 2, 3, 4]\n"
     ]
    }
   ],
   "source": [
    "print(lst3)\n",
    "print(lst4)"
   ]
  },
  {
   "cell_type": "code",
   "execution_count": 159,
   "id": "7441c3ac-b593-49af-be56-e2f76343136e",
   "metadata": {},
   "outputs": [
    {
     "data": {
      "text/plain": [
       "[20, 2, 3, 4]"
      ]
     },
     "execution_count": 159,
     "metadata": {},
     "output_type": "execute_result"
    }
   ],
   "source": [
    "lst4[0]=20\n",
    "lst4"
   ]
  },
  {
   "cell_type": "code",
   "execution_count": 160,
   "id": "feb216d0-6676-4094-b974-f3a5b40a45d8",
   "metadata": {},
   "outputs": [
    {
     "data": {
      "text/plain": [
       "[1, 2, 3, 4]"
      ]
     },
     "execution_count": 160,
     "metadata": {},
     "output_type": "execute_result"
    }
   ],
   "source": [
    "lst3"
   ]
  },
  {
   "cell_type": "markdown",
   "id": "41a89c25-cd9a-492a-8732-adae3f284d0b",
   "metadata": {},
   "source": [
    "##### Here we can see by creating a shallow copy using the copy() method we avaided the change in the original list"
   ]
  },
  {
   "cell_type": "code",
   "execution_count": 161,
   "id": "dcaac67c-f38f-4e0c-b78b-261bb9989586",
   "metadata": {},
   "outputs": [
    {
     "name": "stdout",
     "output_type": "stream",
     "text": [
      "2783072517760\n"
     ]
    }
   ],
   "source": [
    "print(id(lst3))"
   ]
  },
  {
   "cell_type": "code",
   "execution_count": 162,
   "id": "1755a27f-0f68-4d7b-a575-547fd3cee988",
   "metadata": {},
   "outputs": [
    {
     "name": "stdout",
     "output_type": "stream",
     "text": [
      "2783055111872\n"
     ]
    }
   ],
   "source": [
    "print(id(lst4))"
   ]
  },
  {
   "cell_type": "markdown",
   "id": "fb8e2869-3edd-4a3a-9c6f-7ce9fdd6f6c7",
   "metadata": {},
   "source": [
    "##### Here we can see since a different object is created when using a shallow copy , but the addresses of values will remain the same"
   ]
  },
  {
   "cell_type": "code",
   "execution_count": null,
   "id": "d4c898d0-dd01-45a0-b0b7-fd5febef09a8",
   "metadata": {},
   "outputs": [],
   "source": []
  },
  {
   "cell_type": "code",
   "execution_count": null,
   "id": "3942c14e-4624-4abe-8ed9-c191e72c47fd",
   "metadata": {},
   "outputs": [],
   "source": []
  },
  {
   "cell_type": "markdown",
   "id": "150da385-ac8c-4849-86bd-df0930140eed",
   "metadata": {},
   "source": [
    "### Important -> Failing Point in shallow copy"
   ]
  },
  {
   "cell_type": "markdown",
   "id": "177832d1-2fcd-4c75-bf98-c1d952e5b991",
   "metadata": {},
   "source": [
    "##### If you have nested data , problem arises "
   ]
  },
  {
   "cell_type": "code",
   "execution_count": 176,
   "id": "9970c16a-5c5c-46fc-9d74-76a2c4282cee",
   "metadata": {},
   "outputs": [],
   "source": [
    "a = [1,2,[3,4]]\n",
    "b = a.copy()"
   ]
  },
  {
   "cell_type": "code",
   "execution_count": 177,
   "id": "34a5c483-e1b8-4667-9b5c-11d32cf08e79",
   "metadata": {},
   "outputs": [
    {
     "name": "stdout",
     "output_type": "stream",
     "text": [
      "2783073224064\n",
      "2783072046528\n"
     ]
    }
   ],
   "source": [
    "print(id(a))\n",
    "print(id(b))"
   ]
  },
  {
   "cell_type": "code",
   "execution_count": 178,
   "id": "7d76432b-10a9-4389-9d37-03e0b4a34790",
   "metadata": {},
   "outputs": [
    {
     "name": "stdout",
     "output_type": "stream",
     "text": [
      "2783073087616\n",
      "2783073087616\n"
     ]
    }
   ],
   "source": [
    "print(id(a[2]))\n",
    "print(id(b[2]))"
   ]
  },
  {
   "cell_type": "markdown",
   "id": "9add4320-99cf-4244-8322-3b6b53bcbf83",
   "metadata": {},
   "source": [
    "Even though the lists now has a different addresses, but the nested list still have the same address"
   ]
  },
  {
   "cell_type": "code",
   "execution_count": 180,
   "id": "6c05dcb8-9e92-45d6-a6de-e16b920e1e1d",
   "metadata": {},
   "outputs": [],
   "source": [
    "b[-1][-1] = 10000"
   ]
  },
  {
   "cell_type": "code",
   "execution_count": 181,
   "id": "4676fcff-7399-4f1d-b689-7007067d1a13",
   "metadata": {},
   "outputs": [
    {
     "data": {
      "text/plain": [
       "[1, 2, [3, 10000]]"
      ]
     },
     "execution_count": 181,
     "metadata": {},
     "output_type": "execute_result"
    }
   ],
   "source": [
    "b"
   ]
  },
  {
   "cell_type": "code",
   "execution_count": 182,
   "id": "88d67159-2d9d-4caa-98ed-c26d5efaa59a",
   "metadata": {},
   "outputs": [
    {
     "data": {
      "text/plain": [
       "[1, 2, [3, 10000]]"
      ]
     },
     "execution_count": 182,
     "metadata": {},
     "output_type": "execute_result"
    }
   ],
   "source": [
    "a"
   ]
  },
  {
   "cell_type": "markdown",
   "id": "a618905a-99b5-4ab1-83a7-7055d0f00037",
   "metadata": {},
   "source": [
    "##### therefore again the changes are being reflected in both the list "
   ]
  },
  {
   "cell_type": "code",
   "execution_count": null,
   "id": "32a16526-b128-4429-a97f-41913f4bbaf2",
   "metadata": {},
   "outputs": [],
   "source": []
  },
  {
   "cell_type": "markdown",
   "id": "edb88088-5e96-4cc2-8e15-8f06738ab08c",
   "metadata": {},
   "source": [
    "#### Important -> Concept of deepcopy \n",
    "##### Avoiding failing of deep copy"
   ]
  },
  {
   "cell_type": "code",
   "execution_count": 183,
   "id": "b383cadd-4dde-4a9d-bd1d-b1823930cc3a",
   "metadata": {},
   "outputs": [],
   "source": [
    "from copy import deepcopy"
   ]
  },
  {
   "cell_type": "code",
   "execution_count": 184,
   "id": "c88d64ec-475c-4e15-ab76-95541fd58fa6",
   "metadata": {},
   "outputs": [
    {
     "data": {
      "text/plain": [
       "[1, 2, [3, 10000]]"
      ]
     },
     "execution_count": 184,
     "metadata": {},
     "output_type": "execute_result"
    }
   ],
   "source": [
    "a"
   ]
  },
  {
   "cell_type": "code",
   "execution_count": 185,
   "id": "cdd33fab-3cdd-40a0-aca9-73605bf529a7",
   "metadata": {},
   "outputs": [],
   "source": [
    "b = deepcopy(a)"
   ]
  },
  {
   "cell_type": "code",
   "execution_count": 186,
   "id": "80940a8f-26e6-451b-9075-eec152939193",
   "metadata": {},
   "outputs": [],
   "source": [
    "b[-1][-1] = 100"
   ]
  },
  {
   "cell_type": "code",
   "execution_count": 187,
   "id": "3228381f-fc6e-46a9-95e8-737d6a6cbfb5",
   "metadata": {},
   "outputs": [
    {
     "data": {
      "text/plain": [
       "[1, 2, [3, 100]]"
      ]
     },
     "execution_count": 187,
     "metadata": {},
     "output_type": "execute_result"
    }
   ],
   "source": [
    "b"
   ]
  },
  {
   "cell_type": "code",
   "execution_count": 188,
   "id": "49c1c95e-8f01-4fce-a768-7ade272329c2",
   "metadata": {},
   "outputs": [
    {
     "data": {
      "text/plain": [
       "[1, 2, [3, 10000]]"
      ]
     },
     "execution_count": 188,
     "metadata": {},
     "output_type": "execute_result"
    }
   ],
   "source": [
    "a"
   ]
  },
  {
   "cell_type": "markdown",
   "id": "44489e63-c31b-4167-91fd-34f513525271",
   "metadata": {},
   "source": [
    "###### therefore we can see using  deepcopy we can avoid the failing of shallow copy in case of nested list"
   ]
  },
  {
   "cell_type": "code",
   "execution_count": 189,
   "id": "594eb649-729b-4809-b578-077c5d1a6a52",
   "metadata": {},
   "outputs": [
    {
     "name": "stdout",
     "output_type": "stream",
     "text": [
      "2783073087616\n",
      "2783073072192\n"
     ]
    }
   ],
   "source": [
    "print(id(a[-1]))\n",
    "print(id(b[-1]))"
   ]
  },
  {
   "cell_type": "code",
   "execution_count": null,
   "id": "5e37588d-9068-4b8d-8fd4-2389f4657667",
   "metadata": {},
   "outputs": [],
   "source": []
  },
  {
   "cell_type": "code",
   "execution_count": null,
   "id": "806e073a-2cb3-4fa4-936b-ab1f029e3fc7",
   "metadata": {},
   "outputs": [],
   "source": []
  },
  {
   "cell_type": "markdown",
   "id": "b8f7fa42-f035-4d70-b068-583a7513af9e",
   "metadata": {},
   "source": [
    "## List Comprehension"
   ]
  },
  {
   "cell_type": "code",
   "execution_count": null,
   "id": "0048e797-ca01-4121-ae91-dec134a56b20",
   "metadata": {},
   "outputs": [],
   "source": []
  }
 ],
 "metadata": {
  "kernelspec": {
   "display_name": "Python 3 (ipykernel)",
   "language": "python",
   "name": "python3"
  },
  "language_info": {
   "codemirror_mode": {
    "name": "ipython",
    "version": 3
   },
   "file_extension": ".py",
   "mimetype": "text/x-python",
   "name": "python",
   "nbconvert_exporter": "python",
   "pygments_lexer": "ipython3",
   "version": "3.11.7"
  }
 },
 "nbformat": 4,
 "nbformat_minor": 5
}
