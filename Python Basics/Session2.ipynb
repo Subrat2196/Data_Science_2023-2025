{
 "cells": [
  {
   "cell_type": "markdown",
   "id": "5cf9b3ae-327c-466c-b254-1a796e3557b4",
   "metadata": {},
   "source": [
    "#### String"
   ]
  },
  {
   "cell_type": "markdown",
   "id": "a0d49a79-9d58-453c-b87d-bd71ba96098b",
   "metadata": {},
   "source": [
    "We can use either '...' or \"...\" or '''...'''"
   ]
  },
  {
   "cell_type": "markdown",
   "id": "1f624cf8-813e-4bfc-a5fc-2751581f0f41",
   "metadata": {},
   "source": [
    "Why is there so many notations for String"
   ]
  },
  {
   "cell_type": "code",
   "execution_count": 2,
   "id": "9278875e-ae1b-4f80-a4ec-0d4dbac28481",
   "metadata": {},
   "outputs": [
    {
     "ename": "SyntaxError",
     "evalue": "invalid syntax. Perhaps you forgot a comma? (2129220641.py, line 1)",
     "output_type": "error",
     "traceback": [
      "\u001b[1;36m  Cell \u001b[1;32mIn[2], line 1\u001b[1;36m\u001b[0m\n\u001b[1;33m    print('It's something else')  -> # therefore in case we need ' as a comment then we use \"..\"\u001b[0m\n\u001b[1;37m          ^\u001b[0m\n\u001b[1;31mSyntaxError\u001b[0m\u001b[1;31m:\u001b[0m invalid syntax. Perhaps you forgot a comma?\n"
     ]
    }
   ],
   "source": [
    "print('It's something else')  -> # therefore in case we need ' as a comment then we use \"..\""
   ]
  },
  {
   "cell_type": "code",
   "execution_count": 3,
   "id": "dee3510a-3d48-49fe-88fd-fae186992490",
   "metadata": {},
   "outputs": [
    {
     "name": "stdout",
     "output_type": "stream",
     "text": [
      "It's something else\n"
     ]
    }
   ],
   "source": [
    "print(\"It's something else\")"
   ]
  },
  {
   "cell_type": "code",
   "execution_count": 35,
   "id": "84b24acb-9934-4dad-a821-e4ca928d74a7",
   "metadata": {},
   "outputs": [
    {
     "ename": "SyntaxError",
     "evalue": "unterminated string literal (detected at line 2) (3683248267.py, line 2)",
     "output_type": "error",
     "traceback": [
      "\u001b[1;36m  Cell \u001b[1;32mIn[35], line 2\u001b[1;36m\u001b[0m\n\u001b[1;33m    \" Hey\u001b[0m\n\u001b[1;37m    ^\u001b[0m\n\u001b[1;31mSyntaxError\u001b[0m\u001b[1;31m:\u001b[0m unterminated string literal (detected at line 2)\n"
     ]
    }
   ],
   "source": [
    "print(\n",
    "    \" Hey\n",
    "    There\n",
    "    I am\n",
    "    person\n",
    "    \"\n",
    ")"
   ]
  },
  {
   "cell_type": "markdown",
   "id": "e2158e7a-668b-4ecf-883c-cad93d6f603e",
   "metadata": {},
   "source": [
    " ##### '''...''' This is a docstring"
   ]
  },
  {
   "cell_type": "code",
   "execution_count": null,
   "id": "cce2365b-ba69-4aaa-ad4c-3c74e98b80da",
   "metadata": {},
   "outputs": [],
   "source": []
  },
  {
   "cell_type": "markdown",
   "id": "20ffb355-008a-4739-8e94-36d9e07046e6",
   "metadata": {},
   "source": [
    "#### '...' and \"...\" won't work for multiple line string"
   ]
  },
  {
   "cell_type": "code",
   "execution_count": 6,
   "id": "d46d7e45-5591-4e8e-8846-ea2490ee8fd5",
   "metadata": {},
   "outputs": [
    {
     "name": "stdout",
     "output_type": "stream",
     "text": [
      " hey\n",
      "    there\n",
      "    it \n",
      "    is \n",
      "    a \n",
      "    multiline string \n"
     ]
    }
   ],
   "source": [
    "print(\n",
    "    ''' hey\n",
    "    there\n",
    "    it \n",
    "    is \n",
    "    a \n",
    "    multiline string '''\n",
    ")"
   ]
  },
  {
   "cell_type": "code",
   "execution_count": 12,
   "id": "e8c35610-1d7b-4989-a0a4-e64793fee4b7",
   "metadata": {},
   "outputs": [],
   "source": [
    "d={'a':5,'b':6,'c':7}"
   ]
  },
  {
   "cell_type": "code",
   "execution_count": 14,
   "id": "3dc1aaf7-c956-4ffd-9236-0f8f4a58fdf0",
   "metadata": {},
   "outputs": [
    {
     "data": {
      "text/plain": [
       "{'a': 5, 'b': 6, 'c': 7}"
      ]
     },
     "execution_count": 14,
     "metadata": {},
     "output_type": "execute_result"
    }
   ],
   "source": [
    "d"
   ]
  },
  {
   "cell_type": "code",
   "execution_count": 15,
   "id": "55cd3ec2-435d-41ab-ae23-2e453be28aa0",
   "metadata": {},
   "outputs": [
    {
     "data": {
      "text/plain": [
       "<function dict.keys>"
      ]
     },
     "execution_count": 15,
     "metadata": {},
     "output_type": "execute_result"
    }
   ],
   "source": [
    "d.keys"
   ]
  },
  {
   "cell_type": "code",
   "execution_count": 16,
   "id": "3e204ca1-3055-468b-a345-580cd2994d5e",
   "metadata": {},
   "outputs": [
    {
     "data": {
      "text/plain": [
       "dict_keys(['a', 'b', 'c'])"
      ]
     },
     "execution_count": 16,
     "metadata": {},
     "output_type": "execute_result"
    }
   ],
   "source": [
    "d.keys()"
   ]
  },
  {
   "cell_type": "code",
   "execution_count": 17,
   "id": "e16f9887-4bca-4f08-961b-8a0037d077a0",
   "metadata": {},
   "outputs": [
    {
     "data": {
      "text/plain": [
       "dict_values([5, 6, 7])"
      ]
     },
     "execution_count": 17,
     "metadata": {},
     "output_type": "execute_result"
    }
   ],
   "source": [
    "d.values()"
   ]
  },
  {
   "cell_type": "code",
   "execution_count": 18,
   "id": "311f98aa-077b-46aa-85bd-52e9c7d3e2ef",
   "metadata": {},
   "outputs": [
    {
     "data": {
      "text/plain": [
       "5"
      ]
     },
     "execution_count": 18,
     "metadata": {},
     "output_type": "execute_result"
    }
   ],
   "source": [
    "d['a']"
   ]
  },
  {
   "cell_type": "code",
   "execution_count": 19,
   "id": "b22f0469-2ff2-485b-80c1-189da634232e",
   "metadata": {},
   "outputs": [
    {
     "data": {
      "text/plain": [
       "{'a': 5, 'b': 6, 'c': 7}"
      ]
     },
     "execution_count": 19,
     "metadata": {},
     "output_type": "execute_result"
    }
   ],
   "source": [
    "d"
   ]
  },
  {
   "cell_type": "code",
   "execution_count": 20,
   "id": "ceeb04f3-524e-4a57-8258-091bd2e89422",
   "metadata": {},
   "outputs": [
    {
     "name": "stdout",
     "output_type": "stream",
     "text": [
      "{'a': 5, 'b': 6, 'c': 7}\n"
     ]
    }
   ],
   "source": [
    "print(d)"
   ]
  },
  {
   "cell_type": "code",
   "execution_count": 21,
   "id": "96785b14-605b-4b07-b056-737db9ef81ac",
   "metadata": {},
   "outputs": [],
   "source": [
    "tu = (1,2,3)"
   ]
  },
  {
   "cell_type": "code",
   "execution_count": 22,
   "id": "49f777d6-3cbb-4aa0-94cc-20bdaedf5804",
   "metadata": {},
   "outputs": [
    {
     "data": {
      "text/plain": [
       "(1, 2, 3)"
      ]
     },
     "execution_count": 22,
     "metadata": {},
     "output_type": "execute_result"
    }
   ],
   "source": [
    "tu"
   ]
  },
  {
   "cell_type": "code",
   "execution_count": 23,
   "id": "3fbfcc32-24bc-4320-89cf-67d1763060c6",
   "metadata": {},
   "outputs": [
    {
     "data": {
      "text/plain": [
       "tuple"
      ]
     },
     "execution_count": 23,
     "metadata": {},
     "output_type": "execute_result"
    }
   ],
   "source": [
    "type(tu)"
   ]
  },
  {
   "cell_type": "code",
   "execution_count": 24,
   "id": "620a991e-47c7-4bfa-ae96-0977375d9fb3",
   "metadata": {},
   "outputs": [
    {
     "data": {
      "text/plain": [
       "[1, 2, 3]"
      ]
     },
     "execution_count": 24,
     "metadata": {},
     "output_type": "execute_result"
    }
   ],
   "source": [
    "ls = list(tu)\n",
    "ls"
   ]
  },
  {
   "cell_type": "code",
   "execution_count": 27,
   "id": "29b7d6cc-b758-4201-90fb-3a5378e16fb1",
   "metadata": {},
   "outputs": [],
   "source": [
    "ls.append(4)"
   ]
  },
  {
   "cell_type": "code",
   "execution_count": 26,
   "id": "08a190cb-9b8e-4f55-add7-3fc58a7464f1",
   "metadata": {},
   "outputs": [
    {
     "data": {
      "text/plain": [
       "[1, 2, 3]"
      ]
     },
     "execution_count": 26,
     "metadata": {},
     "output_type": "execute_result"
    }
   ],
   "source": [
    "ls"
   ]
  },
  {
   "cell_type": "code",
   "execution_count": 28,
   "id": "d970649b-32a1-4ca3-8937-cd71c6c67c2a",
   "metadata": {},
   "outputs": [
    {
     "data": {
      "text/plain": [
       "[1, 2, 3, 4]"
      ]
     },
     "execution_count": 28,
     "metadata": {},
     "output_type": "execute_result"
    }
   ],
   "source": [
    "ls"
   ]
  },
  {
   "cell_type": "code",
   "execution_count": 29,
   "id": "ab1906a6-e37a-4305-8e6f-e97a042eca2e",
   "metadata": {},
   "outputs": [],
   "source": [
    "tu=tuple(ls)"
   ]
  },
  {
   "cell_type": "code",
   "execution_count": 30,
   "id": "db280216-979a-41e6-a1a5-02b0b188af85",
   "metadata": {},
   "outputs": [
    {
     "data": {
      "text/plain": [
       "(1, 2, 3, 4)"
      ]
     },
     "execution_count": 30,
     "metadata": {},
     "output_type": "execute_result"
    }
   ],
   "source": [
    "tu"
   ]
  },
  {
   "cell_type": "code",
   "execution_count": 31,
   "id": "ed80adaa-8e9b-4b17-b945-15b361800b7b",
   "metadata": {},
   "outputs": [],
   "source": [
    "s={1,2,3,4}"
   ]
  },
  {
   "cell_type": "code",
   "execution_count": 32,
   "id": "e7a94aff-7b8e-4d4d-9e05-0b88ec61f42c",
   "metadata": {},
   "outputs": [
    {
     "data": {
      "text/plain": [
       "{1, 2, 3, 4}"
      ]
     },
     "execution_count": 32,
     "metadata": {},
     "output_type": "execute_result"
    }
   ],
   "source": [
    "s"
   ]
  },
  {
   "cell_type": "code",
   "execution_count": 33,
   "id": "d2c29ccb-11c2-4c94-ac61-1005da770d14",
   "metadata": {},
   "outputs": [
    {
     "data": {
      "text/plain": [
       "set"
      ]
     },
     "execution_count": 33,
     "metadata": {},
     "output_type": "execute_result"
    }
   ],
   "source": [
    "type(s)"
   ]
  },
  {
   "cell_type": "code",
   "execution_count": 34,
   "id": "a0a2453c-44df-4bc0-9212-6c6663172004",
   "metadata": {},
   "outputs": [
    {
     "ename": "TypeError",
     "evalue": "'set' object does not support item assignment",
     "output_type": "error",
     "traceback": [
      "\u001b[1;31m---------------------------------------------------------------------------\u001b[0m",
      "\u001b[1;31mTypeError\u001b[0m                                 Traceback (most recent call last)",
      "Cell \u001b[1;32mIn[34], line 1\u001b[0m\n\u001b[1;32m----> 1\u001b[0m s[\u001b[38;5;241m0\u001b[39m]\u001b[38;5;241m=\u001b[39m\u001b[38;5;241m5\u001b[39m\n",
      "\u001b[1;31mTypeError\u001b[0m: 'set' object does not support item assignment"
     ]
    }
   ],
   "source": [
    "s[0]=5"
   ]
  },
  {
   "cell_type": "markdown",
   "id": "131d912e-abf5-4c9d-ba0d-3fa7ff77681c",
   "metadata": {},
   "source": [
    "#### \"\"\" ... \"\"\" -> It's a multiline comment"
   ]
  },
  {
   "cell_type": "markdown",
   "id": "06ecdc2f-8859-4442-a6c3-a8272f67267f",
   "metadata": {},
   "source": [
    "### use   ctrl + ?   to comment a line"
   ]
  },
  {
   "cell_type": "code",
   "execution_count": null,
   "id": "c45d6649-67d4-4588-ac44-a1d872c89ea0",
   "metadata": {},
   "outputs": [],
   "source": []
  }
 ],
 "metadata": {
  "kernelspec": {
   "display_name": "Python 3 (ipykernel)",
   "language": "python",
   "name": "python3"
  },
  "language_info": {
   "codemirror_mode": {
    "name": "ipython",
    "version": 3
   },
   "file_extension": ".py",
   "mimetype": "text/x-python",
   "name": "python",
   "nbconvert_exporter": "python",
   "pygments_lexer": "ipython3",
   "version": "3.11.7"
  }
 },
 "nbformat": 4,
 "nbformat_minor": 5
}
