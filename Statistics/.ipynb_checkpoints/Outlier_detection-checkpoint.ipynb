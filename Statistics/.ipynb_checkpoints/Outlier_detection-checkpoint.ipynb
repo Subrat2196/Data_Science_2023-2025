{
 "cells": [
  {
   "cell_type": "code",
   "execution_count": 1,
   "id": "37ccdd67-6f56-4553-897f-4b47155a3d34",
   "metadata": {},
   "outputs": [],
   "source": [
    "import numpy as np"
   ]
  },
  {
   "cell_type": "code",
   "execution_count": 2,
   "id": "b21a0ae5-3de2-4bf0-be20-7158ebff6faf",
   "metadata": {},
   "outputs": [],
   "source": [
    "lst = []\n",
    "for i in range(20):\n",
    "    lst.append(np.random.randint(0,20))"
   ]
  },
  {
   "cell_type": "code",
   "execution_count": 3,
   "id": "3617ed76-6838-4490-81e2-9950d6927197",
   "metadata": {},
   "outputs": [
    {
     "data": {
      "text/plain": [
       "[16, 0, 7, 5, 8, 14, 2, 19, 1, 14, 6, 11, 13, 7, 2, 11, 16, 14, 17, 17]"
      ]
     },
     "execution_count": 3,
     "metadata": {},
     "output_type": "execute_result"
    }
   ],
   "source": [
    "lst"
   ]
  },
  {
   "cell_type": "markdown",
   "id": "6ff57280-669b-41fe-9d9b-40b0b8e9dbc2",
   "metadata": {},
   "source": [
    "# Different methods to find outliers"
   ]
  },
  {
   "cell_type": "markdown",
   "id": "d262043d-067b-47cc-ab56-51cd430472eb",
   "metadata": {},
   "source": [
    "## 1. Z-Score Method"
   ]
  },
  {
   "cell_type": "code",
   "execution_count": 4,
   "id": "f6733e18-f3b4-4dbd-9c50-39993c1c1225",
   "metadata": {},
   "outputs": [
    {
     "data": {
      "text/plain": [
       "[16, 0, 7, 5, 8, 14, 2, 19, 1, 14, 6, 11, 13, 7, 2, 11, 16, 14, 17, 17]"
      ]
     },
     "execution_count": 4,
     "metadata": {},
     "output_type": "execute_result"
    }
   ],
   "source": [
    "lst"
   ]
  },
  {
   "cell_type": "code",
   "execution_count": 5,
   "id": "07e0b616-9f68-4087-acae-257be6adcbda",
   "metadata": {},
   "outputs": [],
   "source": [
    "lst.append(99)"
   ]
  },
  {
   "cell_type": "code",
   "execution_count": 6,
   "id": "20acd303-ae36-4e59-a93b-94af513c2604",
   "metadata": {},
   "outputs": [
    {
     "data": {
      "text/plain": [
       "[16, 0, 7, 5, 8, 14, 2, 19, 1, 14, 6, 11, 13, 7, 2, 11, 16, 14, 17, 17, 99]"
      ]
     },
     "execution_count": 6,
     "metadata": {},
     "output_type": "execute_result"
    }
   ],
   "source": [
    "lst"
   ]
  },
  {
   "cell_type": "markdown",
   "id": "edb2ac34-73b3-45ba-b408-7076bab63e6f",
   "metadata": {},
   "source": [
    "### z_score = (x - mean) / std "
   ]
  },
  {
   "cell_type": "code",
   "execution_count": 7,
   "id": "bfb122b4-d30d-4c95-84ef-80e624f6cf2a",
   "metadata": {},
   "outputs": [],
   "source": [
    "mean_lst = np.mean(lst)"
   ]
  },
  {
   "cell_type": "code",
   "execution_count": 12,
   "id": "da1435ad-4f56-4515-9959-1397cd96b757",
   "metadata": {},
   "outputs": [
    {
     "data": {
      "text/plain": [
       "14.238095238095237"
      ]
     },
     "execution_count": 12,
     "metadata": {},
     "output_type": "execute_result"
    }
   ],
   "source": [
    "mean_lst"
   ]
  },
  {
   "cell_type": "code",
   "execution_count": 8,
   "id": "e655ce83-28f2-4942-a757-b2c588fd7ad2",
   "metadata": {},
   "outputs": [],
   "source": [
    "from scipy import stats"
   ]
  },
  {
   "cell_type": "code",
   "execution_count": 10,
   "id": "ca98312f-4aa2-4a97-99b0-a3d067305092",
   "metadata": {},
   "outputs": [],
   "source": [
    "sd = np.std(lst)"
   ]
  },
  {
   "cell_type": "code",
   "execution_count": 11,
   "id": "9245f569-3145-4d11-af95-02deb82ef5e9",
   "metadata": {},
   "outputs": [
    {
     "data": {
      "text/plain": [
       "19.791544038288198"
      ]
     },
     "execution_count": 11,
     "metadata": {},
     "output_type": "execute_result"
    }
   ],
   "source": [
    "sd"
   ]
  },
  {
   "cell_type": "code",
   "execution_count": 24,
   "id": "b210fa8d-2016-4107-92d2-697692ab803a",
   "metadata": {},
   "outputs": [
    {
     "name": "stdout",
     "output_type": "stream",
     "text": [
      "99\n"
     ]
    }
   ],
   "source": [
    "for item in lst:\n",
    "    z_score = (item - mean_lst)/sd\n",
    "    if z_score>3 or z_score<-3:\n",
    "        print(item)"
   ]
  },
  {
   "cell_type": "markdown",
   "id": "debd9c4e-4123-4454-9f71-c8be77ba65ed",
   "metadata": {},
   "source": [
    "#### therefore 99 is our outleir"
   ]
  },
  {
   "cell_type": "code",
   "execution_count": null,
   "id": "37b2705a-2834-415a-84a3-ff5ca688ef36",
   "metadata": {},
   "outputs": [],
   "source": []
  },
  {
   "cell_type": "code",
   "execution_count": null,
   "id": "2cbcc4dd-8bf9-45fb-9096-d06fb6711569",
   "metadata": {},
   "outputs": [],
   "source": []
  },
  {
   "cell_type": "markdown",
   "id": "1d4704d3-5cd8-46ab-843a-6018c64e997c",
   "metadata": {},
   "source": [
    "## 2. IQR"
   ]
  },
  {
   "cell_type": "code",
   "execution_count": 25,
   "id": "e2b75e73-d047-4191-b475-77434079977e",
   "metadata": {},
   "outputs": [],
   "source": [
    "from scipy import stats"
   ]
  },
  {
   "cell_type": "code",
   "execution_count": 37,
   "id": "e7d66f15-360d-4552-9d27-6d5eadff307f",
   "metadata": {},
   "outputs": [
    {
     "data": {
      "text/plain": [
       "10.0"
      ]
     },
     "execution_count": 37,
     "metadata": {},
     "output_type": "execute_result"
    }
   ],
   "source": [
    "IQR = stats.iqr(lst)\n",
    "IQR"
   ]
  },
  {
   "cell_type": "code",
   "execution_count": 38,
   "id": "2395041b-464d-4492-a734-5e52d944bae3",
   "metadata": {},
   "outputs": [
    {
     "data": {
      "text/plain": [
       "6.0"
      ]
     },
     "execution_count": 38,
     "metadata": {},
     "output_type": "execute_result"
    }
   ],
   "source": [
    "Q1 = np.percentile(lst,25)\n",
    "Q1"
   ]
  },
  {
   "cell_type": "code",
   "execution_count": 39,
   "id": "0a5e8de9-a994-438b-93cc-dc82a0ece10e",
   "metadata": {},
   "outputs": [],
   "source": [
    "Q3 = np.percentile(lst,75)"
   ]
  },
  {
   "cell_type": "code",
   "execution_count": 35,
   "id": "8d775553-0abd-4465-a9d9-a5be73eab482",
   "metadata": {},
   "outputs": [
    {
     "data": {
      "text/plain": [
       "16.0"
      ]
     },
     "execution_count": 35,
     "metadata": {},
     "output_type": "execute_result"
    }
   ],
   "source": [
    "Q3"
   ]
  },
  {
   "cell_type": "code",
   "execution_count": 40,
   "id": "c9f9d008-a24b-4625-8115-004291c4013f",
   "metadata": {},
   "outputs": [
    {
     "name": "stdout",
     "output_type": "stream",
     "text": [
      "99\n"
     ]
    }
   ],
   "source": [
    "for item in lst:\n",
    "    if item < (Q1 - 1.5*IQR) or item > (Q3 + 1.5*IQR):\n",
    "        print(item)"
   ]
  },
  {
   "cell_type": "markdown",
   "id": "7d2bab82-b023-4b22-a013-d22d74222f55",
   "metadata": {},
   "source": [
    "## 3. Box Plot"
   ]
  },
  {
   "cell_type": "code",
   "execution_count": 41,
   "id": "c964bc4e-148d-4c23-891d-590e5e118d16",
   "metadata": {},
   "outputs": [],
   "source": [
    "import matplotlib.pyplot as plt\n",
    "%matplotlib inline"
   ]
  },
  {
   "cell_type": "code",
   "execution_count": 43,
   "id": "33b06090-f3d6-413f-9da6-25e35f1a01ec",
   "metadata": {},
   "outputs": [],
   "source": [
    "import seaborn as sns"
   ]
  },
  {
   "cell_type": "code",
   "execution_count": 44,
   "id": "c52e5de3-404e-42c8-a790-67a670f20b75",
   "metadata": {},
   "outputs": [
    {
     "data": {
      "text/plain": [
       "<Axes: >"
      ]
     },
     "execution_count": 44,
     "metadata": {},
     "output_type": "execute_result"
    },
    {
     "data": {
      "image/png": "[encoded data removed]",
      "text/plain": [
       "<Figure size 640x480 with 1 Axes>"
      ]
     },
     "metadata": {},
     "output_type": "display_data"
    }
   ],
   "source": [
    "sns.boxplot(lst)"
   ]
  },
  {
   "cell_type": "markdown",
   "id": "03653d50-771e-4167-9b54-6a7296f3802d",
   "metadata": {},
   "source": [
    "## 4. Scatter Plot "
   ]
  },
  {
   "cell_type": "code",
   "execution_count": 49,
   "id": "d6a38f91-1dae-45f7-82b5-393cff85765a",
   "metadata": {},
   "outputs": [
    {
     "data": {
      "text/plain": [
       "<Axes: >"
      ]
     },
     "execution_count": 49,
     "metadata": {},
     "output_type": "execute_result"
    },
    {
     "data": {
      "image/png": "[encoded data removed]",
      "text/plain": [
       "<Figure size 640x480 with 1 Axes>"
      ]
     },
     "metadata": {},
     "output_type": "display_data"
    }
   ],
   "source": [
    "sns.scatterplot(lst)"
   ]
  },
  {
   "cell_type": "code",
   "execution_count": null,
   "id": "d8548645-cf39-45e6-bb9d-c5422eecb842",
   "metadata": {},
   "outputs": [],
   "source": []
  },
  {
   "cell_type": "code",
   "execution_count": null,
   "id": "b4985981-aa55-4cc7-9a69-dc8d5cd1dcda",
   "metadata": {},
   "outputs": [],
   "source": []
  },
  {
   "cell_type": "code",
   "execution_count": 50,
   "id": "e322b458-4337-4c07-b9d9-2647b285cc50",
   "metadata": {},
   "outputs": [],
   "source": [
    "import sklearn"
   ]
  },
  {
   "cell_type": "code",
   "execution_count": 55,
   "id": "c03f3aa7-e7d4-4b02-9c55-772771588145",
   "metadata": {},
   "outputs": [],
   "source": [
    "from sklearn.datasets import fetch_california_housing"
   ]
  },
  {
   "cell_type": "code",
   "execution_count": 56,
   "id": "948a8dac-cf0d-4171-a734-dfff544e955b",
   "metadata": {},
   "outputs": [],
   "source": [
    "import pandas as pd"
   ]
  },
  {
   "cell_type": "code",
   "execution_count": 58,
   "id": "2c654788-878d-4ed8-bef4-17c0be3d6135",
   "metadata": {},
   "outputs": [],
   "source": [
    "df = fetch_california_housing(as_frame=True)"
   ]
  },
  {
   "cell_type": "code",
   "execution_count": 59,
   "id": "bdd58f68-5915-40bf-8a14-21e0c8ebfcf2",
   "metadata": {},
   "outputs": [
    {
     "data": {
      "text/plain": [
       "sklearn.utils._bunch.Bunch"
      ]
     },
     "execution_count": 59,
     "metadata": {},
     "output_type": "execute_result"
    }
   ],
   "source": [
    "type(df)"
   ]
  },
  {
   "cell_type": "code",
   "execution_count": 62,
   "id": "ccc23ae5-23d7-44f1-8042-14b1fb9fafa6",
   "metadata": {},
   "outputs": [],
   "source": [
    "df = df.data"
   ]
  },
  {
   "cell_type": "code",
   "execution_count": 64,
   "id": "abe3926b-05b9-413b-9e5a-0c9b7f30e73b",
   "metadata": {},
   "outputs": [
    {
     "data": {
      "text/plain": [
       "pandas.core.frame.DataFrame"
      ]
     },
     "execution_count": 64,
     "metadata": {},
     "output_type": "execute_result"
    }
   ],
   "source": [
    "type(df)"
   ]
  },
  {
   "cell_type": "code",
   "execution_count": 65,
   "id": "cfb23521-82e2-431b-806b-3b27603c84b1",
   "metadata": {},
   "outputs": [
    {
     "data": {
      "text/html": [
       "<div>\n",
       "<style scoped>\n",
       "    .dataframe tbody tr th:only-of-type {\n",
       "        vertical-align: middle;\n",
       "    }\n",
       "\n",
       "    .dataframe tbody tr th {\n",
       "        vertical-align: top;\n",
       "    }\n",
       "\n",
       "    .dataframe thead th {\n",
       "        text-align: right;\n",
       "    }\n",
       "</style>\n",
       "<table border=\"1\" class=\"dataframe\">\n",
       "  <thead>\n",
       "    <tr style=\"text-align: right;\">\n",
       "      <th></th>\n",
       "      <th>MedInc</th>\n",
       "      <th>HouseAge</th>\n",
       "      <th>AveRooms</th>\n",
       "      <th>AveBedrms</th>\n",
       "      <th>Population</th>\n",
       "      <th>AveOccup</th>\n",
       "      <th>Latitude</th>\n",
       "      <th>Longitude</th>\n",
       "    </tr>\n",
       "  </thead>\n",
       "  <tbody>\n",
       "    <tr>\n",
       "      <th>0</th>\n",
       "      <td>8.3252</td>\n",
       "      <td>41.0</td>\n",
       "      <td>6.984127</td>\n",
       "      <td>1.023810</td>\n",
       "      <td>322.0</td>\n",
       "      <td>2.555556</td>\n",
       "      <td>37.88</td>\n",
       "      <td>-122.23</td>\n",
       "    </tr>\n",
       "    <tr>\n",
       "      <th>1</th>\n",
       "      <td>8.3014</td>\n",
       "      <td>21.0</td>\n",
       "      <td>6.238137</td>\n",
       "      <td>0.971880</td>\n",
       "      <td>2401.0</td>\n",
       "      <td>2.109842</td>\n",
       "      <td>37.86</td>\n",
       "      <td>-122.22</td>\n",
       "    </tr>\n",
       "    <tr>\n",
       "      <th>2</th>\n",
       "      <td>7.2574</td>\n",
       "      <td>52.0</td>\n",
       "      <td>8.288136</td>\n",
       "      <td>1.073446</td>\n",
       "      <td>496.0</td>\n",
       "      <td>2.802260</td>\n",
       "      <td>37.85</td>\n",
       "      <td>-122.24</td>\n",
       "    </tr>\n",
       "    <tr>\n",
       "      <th>3</th>\n",
       "      <td>5.6431</td>\n",
       "      <td>52.0</td>\n",
       "      <td>5.817352</td>\n",
       "      <td>1.073059</td>\n",
       "      <td>558.0</td>\n",
       "      <td>2.547945</td>\n",
       "      <td>37.85</td>\n",
       "      <td>-122.25</td>\n",
       "    </tr>\n",
       "    <tr>\n",
       "      <th>4</th>\n",
       "      <td>3.8462</td>\n",
       "      <td>52.0</td>\n",
       "      <td>6.281853</td>\n",
       "      <td>1.081081</td>\n",
       "      <td>565.0</td>\n",
       "      <td>2.181467</td>\n",
       "      <td>37.85</td>\n",
       "      <td>-122.25</td>\n",
       "    </tr>\n",
       "  </tbody>\n",
       "</table>\n",
       "</div>"
      ],
      "text/plain": [
       "   MedInc  HouseAge  AveRooms  AveBedrms  Population  AveOccup  Latitude  \\\n",
       "0  8.3252      41.0  6.984127   1.023810       322.0  2.555556     37.88   \n",
       "1  8.3014      21.0  6.238137   0.971880      2401.0  2.109842     37.86   \n",
       "2  7.2574      52.0  8.288136   1.073446       496.0  2.802260     37.85   \n",
       "3  5.6431      52.0  5.817352   1.073059       558.0  2.547945     37.85   \n",
       "4  3.8462      52.0  6.281853   1.081081       565.0  2.181467     37.85   \n",
       "\n",
       "   Longitude  \n",
       "0    -122.23  \n",
       "1    -122.22  \n",
       "2    -122.24  \n",
       "3    -122.25  \n",
       "4    -122.25  "
      ]
     },
     "execution_count": 65,
     "metadata": {},
     "output_type": "execute_result"
    }
   ],
   "source": [
    "df.head()"
   ]
  },
  {
   "cell_type": "code",
   "execution_count": 66,
   "id": "731927e8-1e72-48e5-a577-b0e76806431d",
   "metadata": {},
   "outputs": [
    {
     "data": {
      "text/plain": [
       "(20640, 8)"
      ]
     },
     "execution_count": 66,
     "metadata": {},
     "output_type": "execute_result"
    }
   ],
   "source": [
    "df.shape"
   ]
  },
  {
   "cell_type": "code",
   "execution_count": 68,
   "id": "4a4cba0d-696d-4881-92f7-449cfc5a9b39",
   "metadata": {},
   "outputs": [
    {
     "data": {
      "text/plain": [
       "MedInc           Axes(0.125,0.653529;0.227941x0.226471)\n",
       "HouseAge      Axes(0.398529,0.653529;0.227941x0.226471)\n",
       "AveRooms      Axes(0.672059,0.653529;0.227941x0.226471)\n",
       "AveBedrms        Axes(0.125,0.381765;0.227941x0.226471)\n",
       "Population    Axes(0.398529,0.381765;0.227941x0.226471)\n",
       "AveOccup      Axes(0.672059,0.381765;0.227941x0.226471)\n",
       "Latitude             Axes(0.125,0.11;0.227941x0.226471)\n",
       "Longitude         Axes(0.398529,0.11;0.227941x0.226471)\n",
       "dtype: object"
      ]
     },
     "execution_count": 68,
     "metadata": {},
     "output_type": "execute_result"
    },
    {
     "data": {
      "image/png": "[encoded data removed]",
      "text/plain": [
       "<Figure size 2000x2000 with 9 Axes>"
      ]
     },
     "metadata": {},
     "output_type": "display_data"
    }
   ],
   "source": [
    "df.plot(kind='box',subplots=True,layout=(3,3),figsize=(20,20))"
   ]
  },
  {
   "cell_type": "code",
   "execution_count": 70,
   "id": "3d48d533-ac2c-4ad0-93e1-af3c1081dbb1",
   "metadata": {},
   "outputs": [
    {
     "data": {
      "text/plain": [
       "<Axes: xlabel='AveBedrms', ylabel='Population'>"
      ]
     },
     "execution_count": 70,
     "metadata": {},
     "output_type": "execute_result"
    },
    {
     "data": {
      "image/png": "[encoded data removed]",
      "text/plain": [
       "<Figure size 640x480 with 1 Axes>"
      ]
     },
     "metadata": {},
     "output_type": "display_data"
    }
   ],
   "source": [
    "sns.scatterplot(data=df,x='AveBedrms',y='Population')"
   ]
  },
  {
   "cell_type": "markdown",
   "id": "b5e933b4-f66d-4959-b0ac-9ee7ada5dda3",
   "metadata": {},
   "source": [
    "## In dataframes we have quantiles like in numpy we have percentiles"
   ]
  },
  {
   "cell_type": "code",
   "execution_count": 76,
   "id": "887c91a9-6e94-4d40-9367-8dcf8b88eb45",
   "metadata": {},
   "outputs": [
    {
     "data": {
      "text/plain": [
       "MedInc          2.563400\n",
       "HouseAge       18.000000\n",
       "AveRooms        4.440716\n",
       "AveBedrms       1.006079\n",
       "Population    787.000000\n",
       "AveOccup        2.429741\n",
       "Latitude       33.930000\n",
       "Longitude    -121.800000\n",
       "Name: 0.25, dtype: float64"
      ]
     },
     "execution_count": 76,
     "metadata": {},
     "output_type": "execute_result"
    }
   ],
   "source": [
    "Q1 = df.quantile(0.25)\n",
    "Q1"
   ]
  },
  {
   "cell_type": "code",
   "execution_count": 78,
   "id": "b69d9ab8-c48b-47f6-a63c-1e9bfd34bddc",
   "metadata": {},
   "outputs": [
    {
     "data": {
      "text/plain": [
       "MedInc           4.743250\n",
       "HouseAge        37.000000\n",
       "AveRooms         6.052381\n",
       "AveBedrms        1.099526\n",
       "Population    1725.000000\n",
       "AveOccup         3.282261\n",
       "Latitude        37.710000\n",
       "Longitude     -118.010000\n",
       "Name: 0.75, dtype: float64"
      ]
     },
     "execution_count": 78,
     "metadata": {},
     "output_type": "execute_result"
    }
   ],
   "source": [
    "Q3 = df.quantile(0.75)\n",
    "Q3"
   ]
  },
  {
   "cell_type": "code",
   "execution_count": 79,
   "id": "4181889a-246a-4dad-8cf8-62ab0f2290b5",
   "metadata": {},
   "outputs": [],
   "source": [
    "IQR = Q3 - Q1"
   ]
  },
  {
   "cell_type": "code",
   "execution_count": 81,
   "id": "23f5910f-81e8-41f8-809b-019838df1711",
   "metadata": {},
   "outputs": [
    {
     "data": {
      "text/plain": [
       "MedInc          2.179850\n",
       "HouseAge       19.000000\n",
       "AveRooms        1.611665\n",
       "AveBedrms       0.093447\n",
       "Population    938.000000\n",
       "AveOccup        0.852520\n",
       "Latitude        3.780000\n",
       "Longitude       3.790000\n",
       "dtype: float64"
      ]
     },
     "execution_count": 81,
     "metadata": {},
     "output_type": "execute_result"
    }
   ],
   "source": [
    "IQR"
   ]
  },
  {
   "cell_type": "code",
   "execution_count": 83,
   "id": "c5012bb3-0953-4ad5-a4fc-10597eaf9667",
   "metadata": {},
   "outputs": [
    {
     "data": {
      "text/plain": [
       "pandas.core.series.Series"
      ]
     },
     "execution_count": 83,
     "metadata": {},
     "output_type": "execute_result"
    }
   ],
   "source": [
    "type(IQR)"
   ]
  },
  {
   "cell_type": "code",
   "execution_count": 84,
   "id": "6c9a08ce-b5bd-49e7-9951-81fa76f7a97f",
   "metadata": {},
   "outputs": [],
   "source": [
    "lower_range = Q1 - 1.5*IQR\n",
    "upper_range = Q3 + 1.5*IQR"
   ]
  },
  {
   "cell_type": "code",
   "execution_count": null,
   "id": "7ff51254-6505-4a83-a1d4-c023bdc32811",
   "metadata": {},
   "outputs": [],
   "source": []
  },
  {
   "cell_type": "code",
   "execution_count": 104,
   "id": "78c000a4-149c-464e-8894-e74b5ae3f5a3",
   "metadata": {},
   "outputs": [],
   "source": [
    "Outliers = df[((df<lower_range) | (df>upper_range)).any(axis=1)]"
   ]
  },
  {
   "cell_type": "code",
   "execution_count": 105,
   "id": "4efe91fc-3582-4244-ae89-70d043b6f3db",
   "metadata": {},
   "outputs": [
    {
     "data": {
      "text/html": [
       "<div>\n",
       "<style scoped>\n",
       "    .dataframe tbody tr th:only-of-type {\n",
       "        vertical-align: middle;\n",
       "    }\n",
       "\n",
       "    .dataframe tbody tr th {\n",
       "        vertical-align: top;\n",
       "    }\n",
       "\n",
       "    .dataframe thead th {\n",
       "        text-align: right;\n",
       "    }\n",
       "</style>\n",
       "<table border=\"1\" class=\"dataframe\">\n",
       "  <thead>\n",
       "    <tr style=\"text-align: right;\">\n",
       "      <th></th>\n",
       "      <th>MedInc</th>\n",
       "      <th>HouseAge</th>\n",
       "      <th>AveRooms</th>\n",
       "      <th>AveBedrms</th>\n",
       "      <th>Population</th>\n",
       "      <th>AveOccup</th>\n",
       "      <th>Latitude</th>\n",
       "      <th>Longitude</th>\n",
       "    </tr>\n",
       "  </thead>\n",
       "  <tbody>\n",
       "    <tr>\n",
       "      <th>0</th>\n",
       "      <td>8.3252</td>\n",
       "      <td>41.0</td>\n",
       "      <td>6.984127</td>\n",
       "      <td>1.023810</td>\n",
       "      <td>322.0</td>\n",
       "      <td>2.555556</td>\n",
       "      <td>37.88</td>\n",
       "      <td>-122.23</td>\n",
       "    </tr>\n",
       "    <tr>\n",
       "      <th>1</th>\n",
       "      <td>8.3014</td>\n",
       "      <td>21.0</td>\n",
       "      <td>6.238137</td>\n",
       "      <td>0.971880</td>\n",
       "      <td>2401.0</td>\n",
       "      <td>2.109842</td>\n",
       "      <td>37.86</td>\n",
       "      <td>-122.22</td>\n",
       "    </tr>\n",
       "    <tr>\n",
       "      <th>41</th>\n",
       "      <td>1.2852</td>\n",
       "      <td>51.0</td>\n",
       "      <td>3.759036</td>\n",
       "      <td>1.248996</td>\n",
       "      <td>517.0</td>\n",
       "      <td>2.076305</td>\n",
       "      <td>37.83</td>\n",
       "      <td>-122.26</td>\n",
       "    </tr>\n",
       "    <tr>\n",
       "      <th>57</th>\n",
       "      <td>0.8172</td>\n",
       "      <td>52.0</td>\n",
       "      <td>6.102459</td>\n",
       "      <td>1.372951</td>\n",
       "      <td>728.0</td>\n",
       "      <td>2.983607</td>\n",
       "      <td>37.82</td>\n",
       "      <td>-122.28</td>\n",
       "    </tr>\n",
       "    <tr>\n",
       "      <th>59</th>\n",
       "      <td>2.5625</td>\n",
       "      <td>2.0</td>\n",
       "      <td>2.771930</td>\n",
       "      <td>0.754386</td>\n",
       "      <td>94.0</td>\n",
       "      <td>1.649123</td>\n",
       "      <td>37.82</td>\n",
       "      <td>-122.29</td>\n",
       "    </tr>\n",
       "    <tr>\n",
       "      <th>...</th>\n",
       "      <td>...</td>\n",
       "      <td>...</td>\n",
       "      <td>...</td>\n",
       "      <td>...</td>\n",
       "      <td>...</td>\n",
       "      <td>...</td>\n",
       "      <td>...</td>\n",
       "      <td>...</td>\n",
       "    </tr>\n",
       "    <tr>\n",
       "      <th>20608</th>\n",
       "      <td>1.7167</td>\n",
       "      <td>24.0</td>\n",
       "      <td>5.400000</td>\n",
       "      <td>1.273171</td>\n",
       "      <td>768.0</td>\n",
       "      <td>3.746341</td>\n",
       "      <td>39.10</td>\n",
       "      <td>-121.59</td>\n",
       "    </tr>\n",
       "    <tr>\n",
       "      <th>20620</th>\n",
       "      <td>4.5625</td>\n",
       "      <td>40.0</td>\n",
       "      <td>4.125000</td>\n",
       "      <td>0.854167</td>\n",
       "      <td>151.0</td>\n",
       "      <td>3.145833</td>\n",
       "      <td>39.05</td>\n",
       "      <td>-121.48</td>\n",
       "    </tr>\n",
       "    <tr>\n",
       "      <th>20621</th>\n",
       "      <td>2.3661</td>\n",
       "      <td>37.0</td>\n",
       "      <td>7.923567</td>\n",
       "      <td>1.573248</td>\n",
       "      <td>484.0</td>\n",
       "      <td>3.082803</td>\n",
       "      <td>39.01</td>\n",
       "      <td>-121.47</td>\n",
       "    </tr>\n",
       "    <tr>\n",
       "      <th>20629</th>\n",
       "      <td>2.0943</td>\n",
       "      <td>28.0</td>\n",
       "      <td>5.519802</td>\n",
       "      <td>1.020902</td>\n",
       "      <td>6912.0</td>\n",
       "      <td>3.801980</td>\n",
       "      <td>39.12</td>\n",
       "      <td>-121.39</td>\n",
       "    </tr>\n",
       "    <tr>\n",
       "      <th>20636</th>\n",
       "      <td>2.5568</td>\n",
       "      <td>18.0</td>\n",
       "      <td>6.114035</td>\n",
       "      <td>1.315789</td>\n",
       "      <td>356.0</td>\n",
       "      <td>3.122807</td>\n",
       "      <td>39.49</td>\n",
       "      <td>-121.21</td>\n",
       "    </tr>\n",
       "  </tbody>\n",
       "</table>\n",
       "<p>3798 rows × 8 columns</p>\n",
       "</div>"
      ],
      "text/plain": [
       "       MedInc  HouseAge  AveRooms  AveBedrms  Population  AveOccup  Latitude  \\\n",
       "0      8.3252      41.0  6.984127   1.023810       322.0  2.555556     37.88   \n",
       "1      8.3014      21.0  6.238137   0.971880      2401.0  2.109842     37.86   \n",
       "41     1.2852      51.0  3.759036   1.248996       517.0  2.076305     37.83   \n",
       "57     0.8172      52.0  6.102459   1.372951       728.0  2.983607     37.82   \n",
       "59     2.5625       2.0  2.771930   0.754386        94.0  1.649123     37.82   \n",
       "...       ...       ...       ...        ...         ...       ...       ...   \n",
       "20608  1.7167      24.0  5.400000   1.273171       768.0  3.746341     39.10   \n",
       "20620  4.5625      40.0  4.125000   0.854167       151.0  3.145833     39.05   \n",
       "20621  2.3661      37.0  7.923567   1.573248       484.0  3.082803     39.01   \n",
       "20629  2.0943      28.0  5.519802   1.020902      6912.0  3.801980     39.12   \n",
       "20636  2.5568      18.0  6.114035   1.315789       356.0  3.122807     39.49   \n",
       "\n",
       "       Longitude  \n",
       "0        -122.23  \n",
       "1        -122.22  \n",
       "41       -122.26  \n",
       "57       -122.28  \n",
       "59       -122.29  \n",
       "...          ...  \n",
       "20608    -121.59  \n",
       "20620    -121.48  \n",
       "20621    -121.47  \n",
       "20629    -121.39  \n",
       "20636    -121.21  \n",
       "\n",
       "[3798 rows x 8 columns]"
      ]
     },
     "execution_count": 105,
     "metadata": {},
     "output_type": "execute_result"
    }
   ],
   "source": [
    "Outliers"
   ]
  },
  {
   "cell_type": "code",
   "execution_count": null,
   "id": "9f8b47cd-4149-4c53-93e1-86b1091d38f4",
   "metadata": {},
   "outputs": [],
   "source": []
  }
 ],
 "metadata": {
  "kernelspec": {
   "display_name": "Python 3 (ipykernel)",
   "language": "python",
   "name": "python3"
  },
  "language_info": {
   "codemirror_mode": {
    "name": "ipython",
    "version": 3
   },
   "file_extension": ".py",
   "mimetype": "text/x-python",
   "name": "python",
   "nbconvert_exporter": "python",
   "pygments_lexer": "ipython3",
   "version": "3.11.7"
  }
 },
 "nbformat": 4,
 "nbformat_minor": 5
}
