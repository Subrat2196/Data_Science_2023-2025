{
 "cells": [
  {
   "cell_type": "markdown",
   "id": "310d6e95-d5d1-4bc2-a408-5f068e3e38c4",
   "metadata": {},
   "source": [
    "# Mean , Median and Mode"
   ]
  },
  {
   "cell_type": "code",
   "execution_count": 1,
   "id": "ebbd1dd2-aa61-457e-9157-0afdb6fc6d27",
   "metadata": {},
   "outputs": [],
   "source": [
    "import numpy as np"
   ]
  },
  {
   "cell_type": "code",
   "execution_count": 2,
   "id": "73fc0029-b37e-4452-99de-4d6527a6cd6e",
   "metadata": {},
   "outputs": [],
   "source": [
    "import numpy.random as nr"
   ]
  },
  {
   "cell_type": "code",
   "execution_count": 3,
   "id": "21b853bc-edc8-4340-bfbe-d7cfd15dd899",
   "metadata": {},
   "outputs": [],
   "source": [
    "lst = []\n",
    "n=10\n",
    "for i in range(n):\n",
    "    lst.append(nr.randint(0,10))"
   ]
  },
  {
   "cell_type": "code",
   "execution_count": 4,
   "id": "25f86091-f081-4c62-8a3e-bb0139171b09",
   "metadata": {},
   "outputs": [
    {
     "data": {
      "text/plain": [
       "[2, 9, 1, 6, 9, 5, 5, 7, 1, 1]"
      ]
     },
     "execution_count": 4,
     "metadata": {},
     "output_type": "execute_result"
    }
   ],
   "source": [
    "lst"
   ]
  },
  {
   "cell_type": "code",
   "execution_count": 5,
   "id": "78075bb0-1c1c-4e8f-a569-ec23dbfe39ae",
   "metadata": {},
   "outputs": [
    {
     "data": {
      "text/plain": [
       "4.6"
      ]
     },
     "execution_count": 5,
     "metadata": {},
     "output_type": "execute_result"
    }
   ],
   "source": [
    "np.mean(lst)"
   ]
  },
  {
   "cell_type": "code",
   "execution_count": 6,
   "id": "33f6325e-ea4c-4163-bdc9-ae266bce1808",
   "metadata": {},
   "outputs": [
    {
     "data": {
      "text/plain": [
       "5.0"
      ]
     },
     "execution_count": 6,
     "metadata": {},
     "output_type": "execute_result"
    }
   ],
   "source": [
    "np.median(lst)"
   ]
  },
  {
   "cell_type": "code",
   "execution_count": 7,
   "id": "2dca8ac6-44bb-4f3c-ab9a-6090c7a106f6",
   "metadata": {},
   "outputs": [
    {
     "data": {
      "text/plain": [
       "array([1, 1, 1, 2, 5, 5, 6, 7, 9, 9])"
      ]
     },
     "execution_count": 7,
     "metadata": {},
     "output_type": "execute_result"
    }
   ],
   "source": [
    "np.sort(lst)"
   ]
  },
  {
   "cell_type": "markdown",
   "id": "4e77f506-538a-4ef9-9d61-7267061dfeb2",
   "metadata": {},
   "source": [
    "### Scipy library -> Scipy for scientific python"
   ]
  },
  {
   "cell_type": "code",
   "execution_count": 8,
   "id": "b505462b-4eae-43a1-8ff7-68c3e37ae726",
   "metadata": {},
   "outputs": [],
   "source": [
    "from scipy import stats"
   ]
  },
  {
   "cell_type": "code",
   "execution_count": 9,
   "id": "9b897c42-9e1e-4af2-b00a-4e830e744abd",
   "metadata": {},
   "outputs": [
    {
     "data": {
      "text/plain": [
       "DescribeResult(nobs=10, minmax=(1, 9), mean=4.6, variance=10.266666666666666, skewness=0.10510137464941809, kurtosis=-1.434868162140889)"
      ]
     },
     "execution_count": 9,
     "metadata": {},
     "output_type": "execute_result"
    }
   ],
   "source": [
    "stats.describe(lst)"
   ]
  },
  {
   "cell_type": "code",
   "execution_count": 10,
   "id": "b546653b-548d-46d4-87b2-fbd92149a0f7",
   "metadata": {},
   "outputs": [
    {
     "name": "stderr",
     "output_type": "stream",
     "text": [
      "C:\\Users\\Anonymous\\AppData\\Local\\Temp\\ipykernel_14696\\3572933456.py:1: FutureWarning: Unlike other reduction functions (e.g. `skew`, `kurtosis`), the default behavior of `mode` typically preserves the axis it acts along. In SciPy 1.11.0, this behavior will change: the default value of `keepdims` will become False, the `axis` over which the statistic is taken will be eliminated, and the value None will no longer be accepted. Set `keepdims` to True or False to avoid this warning.\n",
      "  stats.mode(lst)\n"
     ]
    },
    {
     "data": {
      "text/plain": [
       "ModeResult(mode=array([1]), count=array([3]))"
      ]
     },
     "execution_count": 10,
     "metadata": {},
     "output_type": "execute_result"
    }
   ],
   "source": [
    "stats.mode(lst)"
   ]
  },
  {
   "cell_type": "code",
   "execution_count": 11,
   "id": "2e87ad6c-de3b-4e1e-9e7e-7ef7a7f68fe0",
   "metadata": {},
   "outputs": [
    {
     "name": "stderr",
     "output_type": "stream",
     "text": [
      "C:\\Users\\Anonymous\\AppData\\Local\\Temp\\ipykernel_14696\\2382317789.py:2: FutureWarning: Unlike other reduction functions (e.g. `skew`, `kurtosis`), the default behavior of `mode` typically preserves the axis it acts along. In SciPy 1.11.0, this behavior will change: the default value of `keepdims` will become False, the `axis` over which the statistic is taken will be eliminated, and the value None will no longer be accepted. Set `keepdims` to True or False to avoid this warning.\n",
      "  stats.mode(lst1)\n"
     ]
    },
    {
     "data": {
      "text/plain": [
       "ModeResult(mode=array([4]), count=array([2]))"
      ]
     },
     "execution_count": 11,
     "metadata": {},
     "output_type": "execute_result"
    }
   ],
   "source": [
    "lst1 = [1,2,3,4,4,5,5,6,8,9]\n",
    "stats.mode(lst1)"
   ]
  },
  {
   "cell_type": "code",
   "execution_count": null,
   "id": "e4f44e6d-a48f-49fb-b959-0466f5d21e8e",
   "metadata": {},
   "outputs": [],
   "source": []
  },
  {
   "cell_type": "markdown",
   "id": "dfcd2288-d885-44b3-a07c-8df131154352",
   "metadata": {},
   "source": [
    "### Getting the 5 point Summary"
   ]
  },
  {
   "cell_type": "code",
   "execution_count": 12,
   "id": "06a8adf8-2e03-42aa-abc4-237bffacba54",
   "metadata": {},
   "outputs": [
    {
     "data": {
      "text/plain": [
       "[1, 2, 3, 4, 4, 5, 5, 6, 8, 9]"
      ]
     },
     "execution_count": 12,
     "metadata": {},
     "output_type": "execute_result"
    }
   ],
   "source": [
    "lst1"
   ]
  },
  {
   "cell_type": "code",
   "execution_count": 13,
   "id": "38e002ae-7c3b-456d-bc4b-d5320af68b06",
   "metadata": {},
   "outputs": [
    {
     "data": {
      "text/plain": [
       "3.25"
      ]
     },
     "execution_count": 13,
     "metadata": {},
     "output_type": "execute_result"
    }
   ],
   "source": [
    "np.percentile(lst1,25)"
   ]
  },
  {
   "cell_type": "code",
   "execution_count": 14,
   "id": "90110121-4cd5-477f-8567-54b1a6956741",
   "metadata": {},
   "outputs": [
    {
     "data": {
      "text/plain": [
       "4.5"
      ]
     },
     "execution_count": 14,
     "metadata": {},
     "output_type": "execute_result"
    }
   ],
   "source": [
    "np.median(lst1)"
   ]
  },
  {
   "cell_type": "code",
   "execution_count": 15,
   "id": "84085195-796d-48ea-9ff0-5f64054253cc",
   "metadata": {},
   "outputs": [
    {
     "data": {
      "text/plain": [
       "1"
      ]
     },
     "execution_count": 15,
     "metadata": {},
     "output_type": "execute_result"
    }
   ],
   "source": [
    "np.min(lst1)"
   ]
  },
  {
   "cell_type": "code",
   "execution_count": 16,
   "id": "623265ac-90f1-4c4a-b1eb-6d44f0cac9d8",
   "metadata": {},
   "outputs": [
    {
     "data": {
      "text/plain": [
       "9"
      ]
     },
     "execution_count": 16,
     "metadata": {},
     "output_type": "execute_result"
    }
   ],
   "source": [
    "np.max(lst1)"
   ]
  },
  {
   "cell_type": "code",
   "execution_count": 17,
   "id": "e8e4adde-6fef-4781-add0-80ab7086fdf9",
   "metadata": {},
   "outputs": [
    {
     "data": {
      "text/plain": [
       "5.75"
      ]
     },
     "execution_count": 17,
     "metadata": {},
     "output_type": "execute_result"
    }
   ],
   "source": [
    "np.percentile(lst1,75)"
   ]
  },
  {
   "cell_type": "code",
   "execution_count": 18,
   "id": "46e50eb1-1908-472e-bdde-bcc548498e77",
   "metadata": {},
   "outputs": [
    {
     "data": {
      "text/plain": [
       "2.3685438564654024"
      ]
     },
     "execution_count": 18,
     "metadata": {},
     "output_type": "execute_result"
    }
   ],
   "source": [
    "np.std(lst1)"
   ]
  },
  {
   "cell_type": "code",
   "execution_count": 19,
   "id": "61e66a3d-5ccb-48f1-a966-2f031e6e6193",
   "metadata": {},
   "outputs": [
    {
     "data": {
      "text/plain": [
       "5.610000000000001"
      ]
     },
     "execution_count": 19,
     "metadata": {},
     "output_type": "execute_result"
    }
   ],
   "source": [
    "np.var(lst1)"
   ]
  },
  {
   "cell_type": "markdown",
   "id": "24656ecd-56e9-474c-a328-e15baf5cdfbb",
   "metadata": {},
   "source": [
    "### Mean , Standard Deviation and Variance"
   ]
  },
  {
   "cell_type": "code",
   "execution_count": 20,
   "id": "09352879-5330-4b63-a35b-66efb08f7a60",
   "metadata": {},
   "outputs": [
    {
     "data": {
      "text/plain": [
       "[2, 9, 1, 6, 9, 5, 5, 7, 1, 1]"
      ]
     },
     "execution_count": 20,
     "metadata": {},
     "output_type": "execute_result"
    }
   ],
   "source": [
    "lst"
   ]
  },
  {
   "cell_type": "code",
   "execution_count": 28,
   "id": "440998e4-1888-4452-ac65-2c6519799cd6",
   "metadata": {},
   "outputs": [],
   "source": [
    "men = np.mean(lst)"
   ]
  },
  {
   "cell_type": "code",
   "execution_count": 23,
   "id": "ce033e5e-1ae2-4538-8d62-d3ae3ed230b1",
   "metadata": {},
   "outputs": [
    {
     "data": {
      "text/plain": [
       "3.0397368307141326"
      ]
     },
     "execution_count": 23,
     "metadata": {},
     "output_type": "execute_result"
    }
   ],
   "source": [
    "np.std(lst)"
   ]
  },
  {
   "cell_type": "code",
   "execution_count": 35,
   "id": "a750576e-2b56-4b2c-96fa-b85b73584ea5",
   "metadata": {},
   "outputs": [
    {
     "data": {
      "text/plain": [
       "9.239999999999998"
      ]
     },
     "execution_count": 35,
     "metadata": {},
     "output_type": "execute_result"
    }
   ],
   "source": [
    "np.var(lst)"
   ]
  },
  {
   "cell_type": "code",
   "execution_count": 25,
   "id": "af3664aa-eb59-44db-83c2-b06de88a54c2",
   "metadata": {},
   "outputs": [],
   "source": [
    "import statistics"
   ]
  },
  {
   "cell_type": "code",
   "execution_count": 31,
   "id": "fecf412b-2be9-4633-8735-d2674258c369",
   "metadata": {},
   "outputs": [],
   "source": [
    "var = statistics.variance(lst)"
   ]
  },
  {
   "cell_type": "code",
   "execution_count": 32,
   "id": "4a328e7c-58b7-44c8-a05c-b5fcf8e3417f",
   "metadata": {},
   "outputs": [
    {
     "data": {
      "text/plain": [
       "10.266666666666667"
      ]
     },
     "execution_count": 32,
     "metadata": {},
     "output_type": "execute_result"
    }
   ],
   "source": [
    "var"
   ]
  },
  {
   "cell_type": "markdown",
   "id": "651de5e5-9403-42ef-aa0f-1420b21092bc",
   "metadata": {},
   "source": [
    "#### here the value of np.std() and statistics.variance is different due to different degrees of freedom , i.e (n-1) or n or anything else it is dividing from"
   ]
  },
  {
   "cell_type": "code",
   "execution_count": 38,
   "id": "5349195d-0ba3-4186-b7ae-cfd5b4862ff9",
   "metadata": {},
   "outputs": [
    {
     "data": {
      "text/plain": [
       "3.204163957519444"
      ]
     },
     "execution_count": 38,
     "metadata": {},
     "output_type": "execute_result"
    }
   ],
   "source": [
    "np.std(lst,ddof=1)"
   ]
  },
  {
   "cell_type": "code",
   "execution_count": 40,
   "id": "dc72cdfb-11c2-466a-80de-c9fddf2f231d",
   "metadata": {},
   "outputs": [],
   "source": [
    "var = np.var(lst,ddof=1)"
   ]
  },
  {
   "cell_type": "markdown",
   "id": "5f98a938-18c1-4e31-a60c-a562b92bbcd9",
   "metadata": {},
   "source": [
    "#### you can see now it is the same , ddof(define degree of freedom :- degree of freedom 1 means we are dividing by n-1)"
   ]
  },
  {
   "cell_type": "code",
   "execution_count": null,
   "id": "7f4570b9-7a14-46cf-a872-99f98f5d524e",
   "metadata": {},
   "outputs": [],
   "source": []
  },
  {
   "cell_type": "code",
   "execution_count": null,
   "id": "c3fda3fe-eca8-4b95-af3e-b7c0c9f022c4",
   "metadata": {},
   "outputs": [],
   "source": []
  },
  {
   "cell_type": "markdown",
   "id": "f8a735da-a53a-456f-8ac5-c7af39f8c431",
   "metadata": {},
   "source": [
    "#### easy way to find out sqrt"
   ]
  },
  {
   "cell_type": "code",
   "execution_count": 41,
   "id": "c3d74ba9-1158-4d87-b33a-5c6047c34af0",
   "metadata": {},
   "outputs": [
    {
     "data": {
      "text/plain": [
       "3.204163957519444"
      ]
     },
     "execution_count": 41,
     "metadata": {},
     "output_type": "execute_result"
    }
   ],
   "source": [
    "var ** 0.5"
   ]
  },
  {
   "cell_type": "code",
   "execution_count": null,
   "id": "00d9ad35-3d56-4229-92a8-ad2895a28075",
   "metadata": {},
   "outputs": [],
   "source": []
  }
 ],
 "metadata": {
  "kernelspec": {
   "display_name": "Python 3 (ipykernel)",
   "language": "python",
   "name": "python3"
  },
  "language_info": {
   "codemirror_mode": {
    "name": "ipython",
    "version": 3
   },
   "file_extension": ".py",
   "mimetype": "text/x-python",
   "name": "python",
   "nbconvert_exporter": "python",
   "pygments_lexer": "ipython3",
   "version": "3.11.7"
  }
 },
 "nbformat": 4,
 "nbformat_minor": 5
}
