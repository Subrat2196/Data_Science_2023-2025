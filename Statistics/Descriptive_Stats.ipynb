{
 "cells": [
  {
   "cell_type": "markdown",
   "id": "310d6e95-d5d1-4bc2-a408-5f068e3e38c4",
   "metadata": {},
   "source": [
    "# Mean , Median and Mode"
   ]
  },
  {
   "cell_type": "code",
   "execution_count": 3,
   "id": "ebbd1dd2-aa61-457e-9157-0afdb6fc6d27",
   "metadata": {},
   "outputs": [],
   "source": [
    "import numpy as np"
   ]
  },
  {
   "cell_type": "code",
   "execution_count": 4,
   "id": "73fc0029-b37e-4452-99de-4d6527a6cd6e",
   "metadata": {},
   "outputs": [],
   "source": [
    "import numpy.random as nr"
   ]
  },
  {
   "cell_type": "code",
   "execution_count": 12,
   "id": "21b853bc-edc8-4340-bfbe-d7cfd15dd899",
   "metadata": {},
   "outputs": [],
   "source": [
    "lst = []\n",
    "n=10\n",
    "for i in range(n):\n",
    "    lst.append(nr.randint(0,10))"
   ]
  },
  {
   "cell_type": "code",
   "execution_count": 13,
   "id": "25f86091-f081-4c62-8a3e-bb0139171b09",
   "metadata": {},
   "outputs": [
    {
     "data": {
      "text/plain": [
       "[9, 4, 9, 0, 6, 3, 1, 5, 8, 7]"
      ]
     },
     "execution_count": 13,
     "metadata": {},
     "output_type": "execute_result"
    }
   ],
   "source": [
    "lst"
   ]
  },
  {
   "cell_type": "code",
   "execution_count": 14,
   "id": "78075bb0-1c1c-4e8f-a569-ec23dbfe39ae",
   "metadata": {},
   "outputs": [
    {
     "data": {
      "text/plain": [
       "5.2"
      ]
     },
     "execution_count": 14,
     "metadata": {},
     "output_type": "execute_result"
    }
   ],
   "source": [
    "np.mean(lst)"
   ]
  },
  {
   "cell_type": "code",
   "execution_count": 15,
   "id": "33f6325e-ea4c-4163-bdc9-ae266bce1808",
   "metadata": {},
   "outputs": [
    {
     "data": {
      "text/plain": [
       "5.5"
      ]
     },
     "execution_count": 15,
     "metadata": {},
     "output_type": "execute_result"
    }
   ],
   "source": [
    "np.median(lst)"
   ]
  },
  {
   "cell_type": "code",
   "execution_count": 16,
   "id": "2dca8ac6-44bb-4f3c-ab9a-6090c7a106f6",
   "metadata": {},
   "outputs": [
    {
     "data": {
      "text/plain": [
       "array([0, 1, 3, 4, 5, 6, 7, 8, 9, 9])"
      ]
     },
     "execution_count": 16,
     "metadata": {},
     "output_type": "execute_result"
    }
   ],
   "source": [
    "np.sort(lst)"
   ]
  },
  {
   "cell_type": "markdown",
   "id": "4e77f506-538a-4ef9-9d61-7267061dfeb2",
   "metadata": {},
   "source": [
    "### Scipy library -> Scipy for scientific python"
   ]
  },
  {
   "cell_type": "code",
   "execution_count": 17,
   "id": "b505462b-4eae-43a1-8ff7-68c3e37ae726",
   "metadata": {},
   "outputs": [],
   "source": [
    "from scipy import stats"
   ]
  },
  {
   "cell_type": "code",
   "execution_count": 18,
   "id": "9b897c42-9e1e-4af2-b00a-4e830e744abd",
   "metadata": {},
   "outputs": [
    {
     "data": {
      "text/plain": [
       "DescribeResult(nobs=10, minmax=(0, 9), mean=5.2, variance=10.177777777777779, skewness=-0.32117515384564, kurtosis=-1.144066665395397)"
      ]
     },
     "execution_count": 18,
     "metadata": {},
     "output_type": "execute_result"
    }
   ],
   "source": [
    "stats.describe(lst)"
   ]
  },
  {
   "cell_type": "code",
   "execution_count": 19,
   "id": "b546653b-548d-46d4-87b2-fbd92149a0f7",
   "metadata": {},
   "outputs": [
    {
     "name": "stderr",
     "output_type": "stream",
     "text": [
      "C:\\Users\\Anonymous\\AppData\\Local\\Temp\\ipykernel_2208\\3572933456.py:1: FutureWarning: Unlike other reduction functions (e.g. `skew`, `kurtosis`), the default behavior of `mode` typically preserves the axis it acts along. In SciPy 1.11.0, this behavior will change: the default value of `keepdims` will become False, the `axis` over which the statistic is taken will be eliminated, and the value None will no longer be accepted. Set `keepdims` to True or False to avoid this warning.\n",
      "  stats.mode(lst)\n"
     ]
    },
    {
     "data": {
      "text/plain": [
       "ModeResult(mode=array([9]), count=array([2]))"
      ]
     },
     "execution_count": 19,
     "metadata": {},
     "output_type": "execute_result"
    }
   ],
   "source": [
    "stats.mode(lst)"
   ]
  },
  {
   "cell_type": "code",
   "execution_count": 20,
   "id": "2e87ad6c-de3b-4e1e-9e7e-7ef7a7f68fe0",
   "metadata": {},
   "outputs": [
    {
     "name": "stderr",
     "output_type": "stream",
     "text": [
      "C:\\Users\\Anonymous\\AppData\\Local\\Temp\\ipykernel_2208\\2382317789.py:2: FutureWarning: Unlike other reduction functions (e.g. `skew`, `kurtosis`), the default behavior of `mode` typically preserves the axis it acts along. In SciPy 1.11.0, this behavior will change: the default value of `keepdims` will become False, the `axis` over which the statistic is taken will be eliminated, and the value None will no longer be accepted. Set `keepdims` to True or False to avoid this warning.\n",
      "  stats.mode(lst1)\n"
     ]
    },
    {
     "data": {
      "text/plain": [
       "ModeResult(mode=array([4]), count=array([2]))"
      ]
     },
     "execution_count": 20,
     "metadata": {},
     "output_type": "execute_result"
    }
   ],
   "source": [
    "lst1 = [1,2,3,4,4,5,5,6,8,9]\n",
    "stats.mode(lst1)"
   ]
  },
  {
   "cell_type": "code",
   "execution_count": null,
   "id": "e4f44e6d-a48f-49fb-b959-0466f5d21e8e",
   "metadata": {},
   "outputs": [],
   "source": []
  },
  {
   "cell_type": "markdown",
   "id": "dfcd2288-d885-44b3-a07c-8df131154352",
   "metadata": {},
   "source": [
    "### Getting the 5 point Summary"
   ]
  },
  {
   "cell_type": "code",
   "execution_count": 23,
   "id": "06a8adf8-2e03-42aa-abc4-237bffacba54",
   "metadata": {},
   "outputs": [
    {
     "data": {
      "text/plain": [
       "[1, 2, 3, 4, 4, 5, 5, 6, 8, 9]"
      ]
     },
     "execution_count": 23,
     "metadata": {},
     "output_type": "execute_result"
    }
   ],
   "source": [
    "lst1"
   ]
  },
  {
   "cell_type": "code",
   "execution_count": 32,
   "id": "38e002ae-7c3b-456d-bc4b-d5320af68b06",
   "metadata": {},
   "outputs": [
    {
     "data": {
      "text/plain": [
       "3.25"
      ]
     },
     "execution_count": 32,
     "metadata": {},
     "output_type": "execute_result"
    }
   ],
   "source": [
    "np.percentile(lst1,25)"
   ]
  },
  {
   "cell_type": "code",
   "execution_count": 27,
   "id": "90110121-4cd5-477f-8567-54b1a6956741",
   "metadata": {},
   "outputs": [
    {
     "data": {
      "text/plain": [
       "4.5"
      ]
     },
     "execution_count": 27,
     "metadata": {},
     "output_type": "execute_result"
    }
   ],
   "source": [
    "np.median(lst1)"
   ]
  },
  {
   "cell_type": "code",
   "execution_count": 28,
   "id": "84085195-796d-48ea-9ff0-5f64054253cc",
   "metadata": {},
   "outputs": [
    {
     "data": {
      "text/plain": [
       "1"
      ]
     },
     "execution_count": 28,
     "metadata": {},
     "output_type": "execute_result"
    }
   ],
   "source": [
    "np.min(lst1)"
   ]
  },
  {
   "cell_type": "code",
   "execution_count": 29,
   "id": "623265ac-90f1-4c4a-b1eb-6d44f0cac9d8",
   "metadata": {},
   "outputs": [
    {
     "data": {
      "text/plain": [
       "9"
      ]
     },
     "execution_count": 29,
     "metadata": {},
     "output_type": "execute_result"
    }
   ],
   "source": [
    "np.max(lst1)"
   ]
  },
  {
   "cell_type": "code",
   "execution_count": 31,
   "id": "e8e4adde-6fef-4781-add0-80ab7086fdf9",
   "metadata": {},
   "outputs": [
    {
     "data": {
      "text/plain": [
       "5.75"
      ]
     },
     "execution_count": 31,
     "metadata": {},
     "output_type": "execute_result"
    }
   ],
   "source": [
    "np.percentile(lst1,75)"
   ]
  },
  {
   "cell_type": "code",
   "execution_count": 33,
   "id": "46e50eb1-1908-472e-bdde-bcc548498e77",
   "metadata": {},
   "outputs": [
    {
     "data": {
      "text/plain": [
       "2.3685438564654024"
      ]
     },
     "execution_count": 33,
     "metadata": {},
     "output_type": "execute_result"
    }
   ],
   "source": [
    "np.std(lst1)"
   ]
  },
  {
   "cell_type": "code",
   "execution_count": 34,
   "id": "61e66a3d-5ccb-48f1-a966-2f031e6e6193",
   "metadata": {},
   "outputs": [
    {
     "data": {
      "text/plain": [
       "5.610000000000001"
      ]
     },
     "execution_count": 34,
     "metadata": {},
     "output_type": "execute_result"
    }
   ],
   "source": [
    "np.var(lst1)"
   ]
  },
  {
   "cell_type": "code",
   "execution_count": null,
   "id": "5a6e4a10-ff41-4acd-8e0f-2e827db2fcd8",
   "metadata": {},
   "outputs": [],
   "source": []
  }
 ],
 "metadata": {
  "kernelspec": {
   "display_name": "Python 3 (ipykernel)",
   "language": "python",
   "name": "python3"
  },
  "language_info": {
   "codemirror_mode": {
    "name": "ipython",
    "version": 3
   },
   "file_extension": ".py",
   "mimetype": "text/x-python",
   "name": "python",
   "nbconvert_exporter": "python",
   "pygments_lexer": "ipython3",
   "version": "3.11.7"
  }
 },
 "nbformat": 4,
 "nbformat_minor": 5
}
